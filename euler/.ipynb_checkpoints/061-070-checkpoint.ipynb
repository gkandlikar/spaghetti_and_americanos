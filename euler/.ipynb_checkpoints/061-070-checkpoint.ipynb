{
 "metadata": {
  "name": "",
  "signature": "sha256:7d82c1586733025dcff69fafef4dadbd142224975011c5a0ef861aca1e55ccf9"
 },
 "nbformat": 3,
 "nbformat_minor": 0,
 "worksheets": [
  {
   "cells": [
    {
     "cell_type": "code",
     "collapsed": false,
     "input": [
      "#62."
     ],
     "language": "python",
     "metadata": {},
     "outputs": []
    },
    {
     "cell_type": "code",
     "collapsed": false,
     "input": [
      "'''\n",
      "\n",
      "\n",
      "The cube, 41063625 (345^3), can be permuted to produce two other cubes: 56623104 (384^3)\n",
      "and 66430125 (405^3). In fact, 41063625 is the smallest cube which has exactly three \n",
      "permutations of its digits which are also cube.\n",
      "\n",
      "Find the smallest cube for which exactly five permutations of its digits are cube.\n",
      "\n",
      "'''\n",
      "\n",
      "from collections import defaultdict\n",
      "\n",
      "max_count = 5\n",
      "\n",
      "i = 0\n",
      "\n",
      "cubes = defaultdict(int)\n",
      "while True:\n",
      "    i += 1\n",
      "    cube_str = ''.join(sorted(str(i ** 3)))\n",
      "    if cubes[cube_str] == 0:\n",
      "        tmp_val = []\n",
      "        tmp_val.append(1)\n",
      "        tmp_val.append([i])\n",
      "        cubes[cube_str] = tmp_val\n",
      "    else :\n",
      "        tmp_val = cubes[cube_str]\n",
      "        tmp_val[0]+=1\n",
      "        tmp_val[1].append(i)\n",
      "        cubes[cube_str] = tmp_val\n",
      "        #print tmp_val\n",
      "    if cubes[cube_str][0] == max_count:\n",
      "        print cubes[cube_str][1][0] ** 3\n",
      "        break"
     ],
     "language": "python",
     "metadata": {},
     "outputs": []
    },
    {
     "cell_type": "code",
     "collapsed": false,
     "input": [
      "'''\n",
      "\n",
      "Consider quadratic Diophantine equations of the form:\n",
      "\n",
      "x^2 \u2013 Dy^2 = 1\n",
      "\n",
      "For example, when D=13, the minimal solution in x is 649^2 \u2013 13\u00d7180^2 = 1.\n",
      "\n",
      "It can be assumed that there are no solutions in positive integers when D is square.\n",
      "\n",
      "By finding minimal solutions in x for D = {2, 3, 5, 6, 7}, we obtain the following:\n",
      "\n",
      "3^2 \u2013 2\u00d72^2 = 1\n",
      "2^2 \u2013 3\u00d71^2 = 1\n",
      "9^2 \u2013 5\u00d74^2 = 1\n",
      "5^2 \u2013 6\u00d72^2 = 1\n",
      "8^2 \u2013 7\u00d73^2 = 1\n",
      "\n",
      "Hence, by considering minimal solutions in x for D \u2264 7, the largest x is obtained when D=5.\n",
      "\n",
      "Find the value of D \u2264 1000 in minimal solutions of x for which the largest value of x is obtained.\n",
      "'''"
     ],
     "language": "python",
     "metadata": {},
     "outputs": []
    },
    {
     "cell_type": "heading",
     "level": 2,
     "metadata": {},
     "source": [
      "#64."
     ]
    },
    {
     "cell_type": "heading",
     "level": 3,
     "metadata": {},
     "source": [
      "https://projecteuler.net/problem=64"
     ]
    },
    {
     "cell_type": "code",
     "collapsed": false,
     "input": [
      "#This is not done yet.\n",
      "\n",
      "from math import sqrt\n",
      "from math import exp\n",
      "from fractions import gcd\n",
      "\n",
      "def seq_conv_exp(n):\n",
      "    j = 0\n",
      "    ret = [1] * (n)\n",
      "    ret[0] = 2\n",
      "    for i in range(2, n, 3):\n",
      "        j += 2\n",
      "        ret[i]=j\n",
      "    return ret\n",
      "\n",
      "def seq_conf_sqrt(x, n=0):\n",
      "    a_0 = int(sqrt(x))\n",
      "    coef, numer, denom = 1, 1, 1\n",
      "    answers = []\n",
      "    done = False\n",
      "    \n",
      "    i = 0\n",
      "    denom = -a_0\n",
      "    while not done:\n",
      "        \n",
      "        i += 1\n",
      "        numer = -denom\n",
      "        denom = x - (denom ** 2)\n",
      "        hcf = gcd(coef, denom)\n",
      "        coef, denom = coef/hcf, denom/hcf\n",
      "        #print numer, denom, coef, answers\n",
      "        if numer >= denom:\n",
      "            answers.append(2 * coef * numer / denom)\n",
      "            numer *= -1 \n",
      "        else :\n",
      "            answers.append(1)\n",
      "            numer -= denom\n",
      "        coef, denom = denom, numer\n",
      "\n",
      "        if (n == 0) and (i > 4) and (i % 4 == 0) and (answers[:i/2] == answers[i/2:]):\n",
      "            #print x, answers[:i/2]\n",
      "            answers = answers[:i/2]\n",
      "            done = True\n",
      "        elif (n == 0) and (i > 9) and (i % 4 == 2) and (answers[:i/2] == answers[i/2:]):\n",
      "            #print x, answers[:i/2]\n",
      "            answers = answers[:i/2]\n",
      "            done = True\n",
      "        elif i == n:\n",
      "            done = True\n",
      "        else :\n",
      "            pass\n",
      "    return [a_0, answers]\n",
      "\n",
      "def seq_conv(x, n=10, sr = False):\n",
      "    if x == exp(1):\n",
      "        return seq_conv_exp(n)\n",
      "    elif sr:\n",
      "        return seq_conf_sqrt(x, n)\n",
      "\n",
      "\n",
      "def conv(seq):\n",
      "    seq = seq[::-1]\n",
      "    numer, denom = 1, seq[0]\n",
      "    for i in range(len(seq)-1):\n",
      "        numer += denom * seq[i+1]\n",
      "        numer, denom = denom, numer\n",
      "        #print numer, denom\n",
      "    return (denom, numer)\n",
      "\n",
      "\n",
      "\n",
      "max_n, count = 100, 0\n",
      "for val in range(2, max_n):\n",
      "    if sqrt(val) % 1 == 0:\n",
      "        continue\n",
      "    seq = seq_conv(val, n=20, sr=True)\n",
      "    print val, '-', seq\n",
      "        \n",
      "print count"
     ],
     "language": "python",
     "metadata": {},
     "outputs": [
      {
       "metadata": {},
       "output_type": "pyout",
       "prompt_number": 2,
       "text": [
        "\"\\nfrom math import sqrt\\nfrom math import exp\\nfrom fractions import gcd\\n\\ndef seq_conv_exp(n):\\n    j = 0\\n    ret = [1] * (n)\\n    ret[0] = 2\\n    for i in range(2, n, 3):\\n        j += 2\\n        ret[i]=j\\n    return ret\\n\\ndef seq_conf_sqrt(x, n=0):\\n    a_0 = int(sqrt(x))\\n    coef, numer, denom = 1, 1, 1\\n    answers = []\\n    done = False\\n    \\n    i = 0\\n    denom = -a_0\\n    while not done:\\n        \\n        i += 1\\n        numer = -denom\\n        denom = x - (denom ** 2)\\n        hcf = gcd(coef, denom)\\n        coef, denom = coef/hcf, denom/hcf\\n        #print numer, denom, coef, answers\\n        if numer >= denom:\\n            answers.append(2 * coef * numer / denom)\\n            numer *= -1 \\n        else :\\n            answers.append(1)\\n            numer -= denom\\n        coef, denom = denom, numer\\n\\n        if (n == 0) and (i > 4) and (i % 4 == 0) and (answers[:i/2] == answers[i/2:]):\\n            #print x, answers[:i/2]\\n            answers = answers[:i/2]\\n            done = True\\n        elif (n == 0) and (i > 9) and (i % 4 == 2) and (answers[:i/2] == answers[i/2:]):\\n            #print x, answers[:i/2]\\n            answers = answers[:i/2]\\n            done = True\\n        elif i == n:\\n            done = True\\n        else :\\n            pass\\n    return [a_0, answers]\\n\\ndef seq_conv(x, n=10, sr = False):\\n    if x == exp(1):\\n        return seq_conv_exp(n)\\n    elif sr:\\n        return seq_conf_sqrt(x, n)\\n\\n\\ndef conv(seq):\\n    seq = seq[::-1]\\n    numer, denom = 1, seq[0]\\n    for i in range(len(seq)-1):\\n        numer += denom * seq[i+1]\\n        numer, denom = denom, numer\\n        #print numer, denom\\n    return (denom, numer)\\n\\n\\n\\nmax_n, count = 100, 0\\nfor val in range(2, max_n):\\n    if sqrt(val) % 1 == 0:\\n        continue\\n    seq = seq_conv(val, n=20, sr=True)\\n    print val, '-', seq\\n        \\nprint count\\n\""
       ]
      }
     ],
     "prompt_number": 2
    },
    {
     "cell_type": "heading",
     "level": 2,
     "metadata": {},
     "source": [
      "#70."
     ]
    },
    {
     "cell_type": "code",
     "collapsed": false,
     "input": [
      "#not done yet\n",
      "\n",
      "#%%time\n",
      "\n",
      "from collections import defaultdict\n",
      "from math import sqrt\n",
      "\n",
      "def primes(n):\n",
      "    if n < 2:\n",
      "        return []\n",
      "    trues = [True] * (n + 1)\n",
      "    trues[0] = trues[1] = False\n",
      "    for i, val in enumerate(trues):\n",
      "        #print i, val\n",
      "        if not val:\n",
      "            continue\n",
      "        else :\n",
      "            trues[2*i::i] = [False] * ((n - i) // i)\n",
      "    return list(zip(*filter(lambda x: x[1], enumerate(trues))))[0]\n",
      "\n",
      "def prime_factors(n):\n",
      "    global prime_nums\n",
      "    return [prime for prime in prime_nums if (prime <= n and n % prime == 0)]\n",
      "            \n",
      "def totient(n):\n",
      "    answer = n\n",
      "    facs = prime_factors(n)\n",
      "    for fac in facs:\n",
      "        answer *= (fac-1)\n",
      "        answer /= fac\n",
      "    return answer\n",
      "\n",
      "d = 10**6\n",
      "prime_nums = primes(d)\n",
      "\n",
      "def permutation(n):\n",
      "    num, tot = n, totient(n)\n",
      "    if sorted(str(num)) == sorted(str(tot)):\n",
      "        return True, float(num)/tot\n",
      "    else :\n",
      "        return False, 0\n",
      "\n",
      "ratio = 5\n",
      "for i in range(-1,-len(prime_nums), -1):\n",
      "    for j in range(i-1,-len(prime_nums)+1, -1):\n",
      "        #print i, j\n",
      "        mult = prime_nums[i] * prime_nums[j]\n",
      "        if mult > d: \n",
      "            continue\n",
      "        temp = permutation(mult)\n",
      "        #print temp\n",
      "        if temp[0] and temp[1] < ratio:\n",
      "            ratio = temp[1]\n",
      "            print (mult, temp[1])\n",
      "\n",
      "#print 3137*3121, large_totient(3137*3121)\n",
      "\n",
      "\n",
      "\n",
      "\n"
     ],
     "language": "python",
     "metadata": {},
     "outputs": [
      {
       "ename": "KeyboardInterrupt",
       "evalue": "",
       "output_type": "pyerr",
       "traceback": [
        "\u001b[0;31m---------------------------------------------------------------------------\u001b[0m\n\u001b[0;31mKeyboardInterrupt\u001b[0m                         Traceback (most recent call last)",
        "\u001b[0;32m<ipython-input-10-74dd9944df3e>\u001b[0m in \u001b[0;36m<module>\u001b[0;34m()\u001b[0m\n\u001b[1;32m     45\u001b[0m     \u001b[0;32mfor\u001b[0m \u001b[0mj\u001b[0m \u001b[0;32min\u001b[0m \u001b[0mrange\u001b[0m\u001b[0;34m(\u001b[0m\u001b[0mi\u001b[0m\u001b[0;34m-\u001b[0m\u001b[0;36m1\u001b[0m\u001b[0;34m,\u001b[0m\u001b[0;34m-\u001b[0m\u001b[0mlen\u001b[0m\u001b[0;34m(\u001b[0m\u001b[0mprime_nums\u001b[0m\u001b[0;34m)\u001b[0m\u001b[0;34m+\u001b[0m\u001b[0;36m1\u001b[0m\u001b[0;34m,\u001b[0m \u001b[0;34m-\u001b[0m\u001b[0;36m1\u001b[0m\u001b[0;34m)\u001b[0m\u001b[0;34m:\u001b[0m\u001b[0;34m\u001b[0m\u001b[0m\n\u001b[1;32m     46\u001b[0m         \u001b[0;31m#print i, j\u001b[0m\u001b[0;34m\u001b[0m\u001b[0;34m\u001b[0m\u001b[0m\n\u001b[0;32m---> 47\u001b[0;31m         \u001b[0mmult\u001b[0m \u001b[0;34m=\u001b[0m \u001b[0mprime_nums\u001b[0m\u001b[0;34m[\u001b[0m\u001b[0mi\u001b[0m\u001b[0;34m]\u001b[0m \u001b[0;34m*\u001b[0m \u001b[0mprime_nums\u001b[0m\u001b[0;34m[\u001b[0m\u001b[0mj\u001b[0m\u001b[0;34m]\u001b[0m\u001b[0;34m\u001b[0m\u001b[0m\n\u001b[0m\u001b[1;32m     48\u001b[0m         \u001b[0;32mif\u001b[0m \u001b[0mmult\u001b[0m \u001b[0;34m>\u001b[0m \u001b[0md\u001b[0m\u001b[0;34m:\u001b[0m\u001b[0;34m\u001b[0m\u001b[0m\n\u001b[1;32m     49\u001b[0m             \u001b[0;32mcontinue\u001b[0m\u001b[0;34m\u001b[0m\u001b[0m\n",
        "\u001b[0;31mKeyboardInterrupt\u001b[0m: "
       ]
      }
     ],
     "prompt_number": 10
    },
    {
     "cell_type": "code",
     "collapsed": false,
     "input": [],
     "language": "python",
     "metadata": {},
     "outputs": [
      {
       "output_type": "stream",
       "stream": "stdout",
       "text": [
        "97687\n"
       ]
      }
     ],
     "prompt_number": 64
    },
    {
     "cell_type": "code",
     "collapsed": false,
     "input": [],
     "language": "python",
     "metadata": {},
     "outputs": [
      {
       "metadata": {},
       "output_type": "pyout",
       "prompt_number": 49,
       "text": [
        "9388087"
       ]
      }
     ],
     "prompt_number": 49
    },
    {
     "cell_type": "code",
     "collapsed": false,
     "input": [],
     "language": "python",
     "metadata": {},
     "outputs": [
      {
       "output_type": "stream",
       "stream": "stdout",
       "text": [
        "7828800\n"
       ]
      }
     ],
     "prompt_number": 50
    },
    {
     "cell_type": "code",
     "collapsed": false,
     "input": [],
     "language": "python",
     "metadata": {},
     "outputs": []
    }
   ],
   "metadata": {}
  }
 ]
}