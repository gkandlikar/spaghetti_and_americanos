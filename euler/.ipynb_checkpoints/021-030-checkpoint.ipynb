{
 "metadata": {
  "name": "",
  "signature": "sha256:a4d5408bce9dd838fe35715d0a092480d18e407da38fe5498b8d30a64b0a1545"
 },
 "nbformat": 3,
 "nbformat_minor": 0,
 "worksheets": [
  {
   "cells": [
    {
     "cell_type": "heading",
     "level": 2,
     "metadata": {},
     "source": [
      "#21."
     ]
    },
    {
     "cell_type": "code",
     "collapsed": false,
     "input": [
      "%%time\n",
      "\n",
      "'''\n",
      "\n",
      "Let d(n) be defined as the sum of proper divisors of n \n",
      "(numbers less than n which divide evenly into n).\n",
      "If d(a) = b and d(b) = a, where a \u2260 b, then a and b are\n",
      "an amicable pair and each of a and b are called amicable numbers.\n",
      "\n",
      "For example, the proper divisors of 220 are 1, 2, 4, 5,\n",
      "10, 11, 20, 22, 44, 55 and 110; therefore d(220) = 284. \n",
      "The proper divisors of 284 are 1, 2, 4, 71 and 142; so d(284) = 220.\n",
      "\n",
      "Evaluate the sum of all the amicable numbers under 10000.\n",
      "\n",
      "'''\n",
      "from collections import defaultdict\n",
      "from math import sqrt\n",
      "\n",
      "def sum_proper_divisors(n):\n",
      "    val = 0\n",
      "    for i in range(2, int(sqrt(n)) + 1):\n",
      "        if n % i == 0: val += i + (n//i)\n",
      "    return val + 1\n",
      "\n",
      "answers = []\n",
      "\n",
      "for j in range(1, 10000):\n",
      "    if j in answers:\n",
      "        continue\n",
      "    pd_sum = sum_proper_divisors(j)\n",
      "    #print pd_sum, sum_proper_divisors(pd_sum)\n",
      "    if j != pd_sum and j == sum_proper_divisors(pd_sum):\n",
      "        answers.append(j)\n",
      "        answers.append(pd_sum)\n",
      "\n",
      "print (sum(answers))"
     ],
     "language": "python",
     "metadata": {},
     "outputs": [
      {
       "output_type": "stream",
       "stream": "stdout",
       "text": [
        "31626\n",
        "CPU times: user 260 ms, sys: 5.32 ms, total: 265 ms\n",
        "Wall time: 273 ms\n"
       ]
      }
     ],
     "prompt_number": 2
    },
    {
     "cell_type": "heading",
     "level": 2,
     "metadata": {},
     "source": [
      "#22."
     ]
    },
    {
     "cell_type": "heading",
     "level": 3,
     "metadata": {},
     "source": [
      "https://projecteuler.net/problem=22"
     ]
    },
    {
     "cell_type": "code",
     "collapsed": false,
     "input": [
      "%%time\n",
      "\n",
      "def name_score(name):\n",
      "    ret_val, name = 0, name.lower()\n",
      "    for char in name:\n",
      "        ret_val += (ord(char)-96)\n",
      "    return ret_val\n",
      "\n",
      "answer = 0\n",
      "\n",
      "with open('names.txt') as f:\n",
      "    names = f.read().split(',')\n",
      "\n",
      "names.sort()\n",
      "\n",
      "for line in enumerate(names):\n",
      "    answer += (line[0] + 1) * name_score(line[1][1:-1])\n",
      "\n",
      "print (answer)"
     ],
     "language": "python",
     "metadata": {},
     "outputs": [
      {
       "output_type": "stream",
       "stream": "stdout",
       "text": [
        "871198282\n",
        "CPU times: user 35.2 ms, sys: 17.3 ms, total: 52.5 ms\n",
        "Wall time: 39.7 ms\n"
       ]
      }
     ],
     "prompt_number": 51
    },
    {
     "cell_type": "heading",
     "level": 2,
     "metadata": {},
     "source": [
      "#23."
     ]
    },
    {
     "cell_type": "heading",
     "level": 2,
     "metadata": {},
     "source": [
      "I took multiple approaches, some because I was unsatisfied with performance and wanted to optimize, and one because I saw it as a solution on the Project Euler forums."
     ]
    },
    {
     "cell_type": "heading",
     "level": 3,
     "metadata": {},
     "source": [
      "attempt a. work with a boolean list. if number is abundant, abundant[number] = True."
     ]
    },
    {
     "cell_type": "code",
     "collapsed": false,
     "input": [
      "%%time\n",
      "'''\n",
      "A perfect number is a number for which the sum of its proper\n",
      "divisors is exactly equal to the number. For example, the sum\n",
      "of the proper divisors of 28 would be 1 + 2 + 4 + 7 + 14 = 28,\n",
      "which means that 28 is a perfect number.\n",
      "\n",
      "A number n is called deficient if the sum of its proper \n",
      "divisors is less than n and it is called abundant if this sum\n",
      "exceeds n.\n",
      "\n",
      "As 12 is the smallest abundant number, 1 + 2 + 3 + 4 + 6 = 16,\n",
      "the smallest number that can be written as the sum of two abundant\n",
      "numbers is 24. By mathematical analysis, it can be shown that \n",
      "all integers greater than 28123 can be written as the sum of \n",
      "two abundant numbers. However, this upper limit cannot be \n",
      "reduced any further by analysis even though it is known that \n",
      "the greatest number that cannot be expressed as the sum of two \n",
      "abundant numbers is less than this limit.\n",
      "\n",
      "Find the sum of all the positive integers which cannot be \n",
      "written as the sum of two abundant numbers.\n",
      "'''\n",
      "from math import sqrt\n",
      "\n",
      "max_num = 28124\n",
      "\n",
      "def sum_proper_divisors(n):\n",
      "    val = 0\n",
      "    for i in range(2, int(sqrt(n)) + 1):\n",
      "        if n % i == 0:\n",
      "            if n // i == i: val += i\n",
      "            else : val += i + (n//i)\n",
      "    return val + 1\n",
      "\n",
      "done, abundant = False, [False]*max_num\n",
      "\n",
      "for j in range(1, max_num):\n",
      "    if sum_proper_divisors(j) > j:\n",
      "        abundant[j] = True\n",
      "\n",
      "answer = 0\n",
      "\n",
      "for x in range(1, max_num):\n",
      "    done = False\n",
      "    for y in range(1, x):\n",
      "        if abundant[y] and abundant[x - y]: \n",
      "            done = True\n",
      "            break\n",
      "    if not done: \n",
      "        answer += x\n",
      "\n",
      "print (answer)"
     ],
     "language": "python",
     "metadata": {},
     "outputs": [
      {
       "output_type": "stream",
       "stream": "stdout",
       "text": [
        "4179871\n",
        "CPU times: user 4.6 s, sys: 61.8 ms, total: 4.67 s\n",
        "Wall time: 4.8 s\n"
       ]
      }
     ],
     "prompt_number": 7
    },
    {
     "cell_type": "heading",
     "level": 3,
     "metadata": {},
     "source": [
      "attempt b. work with a list of abundant numbers only, were abundant[i] = i-th abundant number."
     ]
    },
    {
     "cell_type": "raw",
     "metadata": {},
     "source": [
      "I think the problem with this approach occurs due to the fact that we repeatedly check whether the difference of x and some abundant number belongs to some list of abundant numbers, rather than check if it that index is true/false. \n",
      "\n",
      "(interrupted a run - was taking too long)"
     ]
    },
    {
     "cell_type": "code",
     "collapsed": false,
     "input": [
      "%%time\n",
      "'''\n",
      "A perfect number is a number for which the sum of its proper\n",
      "divisors is exactly equal to the number. For example, the sum\n",
      "of the proper divisors of 28 would be 1 + 2 + 4 + 7 + 14 = 28,\n",
      "which means that 28 is a perfect number.\n",
      "\n",
      "A number n is called deficient if the sum of its proper \n",
      "divisors is less than n and it is called abundant if this sum\n",
      "exceeds n.\n",
      "\n",
      "As 12 is the smallest abundant number, 1 + 2 + 3 + 4 + 6 = 16,\n",
      "the smallest number that can be written as the sum of two abundant\n",
      "numbers is 24. By mathematical analysis, it can be shown that \n",
      "all integers greater than 28123 can be written as the sum of \n",
      "two abundant numbers. However, this upper limit cannot be \n",
      "reduced any further by analysis even though it is known that \n",
      "the greatest number that cannot be expressed as the sum of two \n",
      "abundant numbers is less than this limit.\n",
      "\n",
      "Find the sum of all the positive integers which cannot be \n",
      "written as the sum of two abundant numbers.\n",
      "'''\n",
      "from math import sqrt\n",
      "\n",
      "max_num = 28124\n",
      "\n",
      "abundant = []\n",
      "answer = 0\n",
      "\n",
      "def sum_proper_divisors(n):\n",
      "    val = 0\n",
      "    for i in range(2, int(sqrt(n)) + 1):\n",
      "        if n % i == 0:\n",
      "            if n // i == i: val += i\n",
      "            else : val += i + (n/i)\n",
      "    return val + 1\n",
      "\n",
      "for j in range(1, max_num):\n",
      "    if sum_proper_divisors(j) > j:\n",
      "        abundant.append(j)\n",
      "\n",
      "for x in range(1, max_num):\n",
      "    done = False\n",
      "    for y in abundant:\n",
      "        if x - y in abundant: \n",
      "            done = True\n",
      "            break\n",
      "    if not done: \n",
      "        answer += x\n",
      "\n",
      "print (answer)"
     ],
     "language": "python",
     "metadata": {},
     "outputs": [
      {
       "ename": "KeyboardInterrupt",
       "evalue": "",
       "output_type": "pyerr",
       "traceback": [
        "\u001b[0;31m---------------------------------------------------------------------------\u001b[0m\n\u001b[0;31mKeyboardInterrupt\u001b[0m                         Traceback (most recent call last)",
        "\u001b[0;32m<ipython-input-6-8163bcb3db8d>\u001b[0m in \u001b[0;36m<module>\u001b[0;34m()\u001b[0m\n\u001b[0;32m----> 1\u001b[0;31m \u001b[0mget_ipython\u001b[0m\u001b[0;34m(\u001b[0m\u001b[0;34m)\u001b[0m\u001b[0;34m.\u001b[0m\u001b[0mrun_cell_magic\u001b[0m\u001b[0;34m(\u001b[0m\u001b[0;34m'time'\u001b[0m\u001b[0;34m,\u001b[0m \u001b[0;34m''\u001b[0m\u001b[0;34m,\u001b[0m \u001b[0;34m\"'''\\nA perfect number is a number for which the sum of its proper\\ndivisors is exactly equal to the number. For example, the sum\\nof the proper divisors of 28 would be 1 + 2 + 4 + 7 + 14 = 28,\\nwhich means that 28 is a perfect number.\\n\\nA number n is called deficient if the sum of its proper \\ndivisors is less than n and it is called abundant if this sum\\nexceeds n.\\n\\nAs 12 is the smallest abundant number, 1 + 2 + 3 + 4 + 6 = 16,\\nthe smallest number that can be written as the sum of two abundant\\nnumbers is 24. By mathematical analysis, it can be shown that \\nall integers greater than 28123 can be written as the sum of \\ntwo abundant numbers. However, this upper limit cannot be \\nreduced any further by analysis even though it is known that \\nthe greatest number that cannot be expressed as the sum of two \\nabundant numbers is less than this limit.\\n\\nFind the sum of all the positive integers which cannot be \\nwritten as the sum of two abundant numbers.\\n'''\\nfrom math import sqrt\\n\\nmax_num = 28124\\n\\nabundant = []\\nanswer = 0\\n\\ndef sum_proper_divisors(n):\\n    val = 0\\n    for i in range(2, int(sqrt(n)) + 1):\\n        if n % i == 0:\\n            if n // i == i: val += i\\n            else : val += i + (n/i)\\n    return val + 1\\n\\nfor j in range(1, max_num):\\n    if sum_proper_divisors(j) > j:\\n        abundant.append(j)\\n\\nfor x in range(1, max_num):\\n    done = False\\n    for y in abundant:\\n        if x - y in abundant: \\n            done = True\\n            break\\n    if not done: \\n        answer += x\\n\\nprint (answer)\"\u001b[0m\u001b[0;34m)\u001b[0m\u001b[0;34m\u001b[0m\u001b[0m\n\u001b[0m",
        "\u001b[0;32m/usr/local/lib/python3.4/site-packages/IPython/core/interactiveshell.py\u001b[0m in \u001b[0;36mrun_cell_magic\u001b[0;34m(self, magic_name, line, cell)\u001b[0m\n\u001b[1;32m   2160\u001b[0m             \u001b[0mmagic_arg_s\u001b[0m \u001b[0;34m=\u001b[0m \u001b[0mself\u001b[0m\u001b[0;34m.\u001b[0m\u001b[0mvar_expand\u001b[0m\u001b[0;34m(\u001b[0m\u001b[0mline\u001b[0m\u001b[0;34m,\u001b[0m \u001b[0mstack_depth\u001b[0m\u001b[0;34m)\u001b[0m\u001b[0;34m\u001b[0m\u001b[0m\n\u001b[1;32m   2161\u001b[0m             \u001b[0;32mwith\u001b[0m \u001b[0mself\u001b[0m\u001b[0;34m.\u001b[0m\u001b[0mbuiltin_trap\u001b[0m\u001b[0;34m:\u001b[0m\u001b[0;34m\u001b[0m\u001b[0m\n\u001b[0;32m-> 2162\u001b[0;31m                 \u001b[0mresult\u001b[0m \u001b[0;34m=\u001b[0m \u001b[0mfn\u001b[0m\u001b[0;34m(\u001b[0m\u001b[0mmagic_arg_s\u001b[0m\u001b[0;34m,\u001b[0m \u001b[0mcell\u001b[0m\u001b[0;34m)\u001b[0m\u001b[0;34m\u001b[0m\u001b[0m\n\u001b[0m\u001b[1;32m   2163\u001b[0m             \u001b[0;32mreturn\u001b[0m \u001b[0mresult\u001b[0m\u001b[0;34m\u001b[0m\u001b[0m\n\u001b[1;32m   2164\u001b[0m \u001b[0;34m\u001b[0m\u001b[0m\n",
        "\u001b[0;32m/usr/local/lib/python3.4/site-packages/IPython/core/magics/execution.py\u001b[0m in \u001b[0;36mtime\u001b[0;34m(self, line, cell, local_ns)\u001b[0m\n",
        "\u001b[0;32m/usr/local/lib/python3.4/site-packages/IPython/core/magic.py\u001b[0m in \u001b[0;36m<lambda>\u001b[0;34m(f, *a, **k)\u001b[0m\n\u001b[1;32m    191\u001b[0m     \u001b[0;31m# but it's overkill for just that one bit of state.\u001b[0m\u001b[0;34m\u001b[0m\u001b[0;34m\u001b[0m\u001b[0m\n\u001b[1;32m    192\u001b[0m     \u001b[0;32mdef\u001b[0m \u001b[0mmagic_deco\u001b[0m\u001b[0;34m(\u001b[0m\u001b[0marg\u001b[0m\u001b[0;34m)\u001b[0m\u001b[0;34m:\u001b[0m\u001b[0;34m\u001b[0m\u001b[0m\n\u001b[0;32m--> 193\u001b[0;31m         \u001b[0mcall\u001b[0m \u001b[0;34m=\u001b[0m \u001b[0;32mlambda\u001b[0m \u001b[0mf\u001b[0m\u001b[0;34m,\u001b[0m \u001b[0;34m*\u001b[0m\u001b[0ma\u001b[0m\u001b[0;34m,\u001b[0m \u001b[0;34m**\u001b[0m\u001b[0mk\u001b[0m\u001b[0;34m:\u001b[0m \u001b[0mf\u001b[0m\u001b[0;34m(\u001b[0m\u001b[0;34m*\u001b[0m\u001b[0ma\u001b[0m\u001b[0;34m,\u001b[0m \u001b[0;34m**\u001b[0m\u001b[0mk\u001b[0m\u001b[0;34m)\u001b[0m\u001b[0;34m\u001b[0m\u001b[0m\n\u001b[0m\u001b[1;32m    194\u001b[0m \u001b[0;34m\u001b[0m\u001b[0m\n\u001b[1;32m    195\u001b[0m         \u001b[0;32mif\u001b[0m \u001b[0mcallable\u001b[0m\u001b[0;34m(\u001b[0m\u001b[0marg\u001b[0m\u001b[0;34m)\u001b[0m\u001b[0;34m:\u001b[0m\u001b[0;34m\u001b[0m\u001b[0m\n",
        "\u001b[0;32m/usr/local/lib/python3.4/site-packages/IPython/core/magics/execution.py\u001b[0m in \u001b[0;36mtime\u001b[0;34m(self, line, cell, local_ns)\u001b[0m\n\u001b[1;32m   1127\u001b[0m         \u001b[0;32melse\u001b[0m\u001b[0;34m:\u001b[0m\u001b[0;34m\u001b[0m\u001b[0m\n\u001b[1;32m   1128\u001b[0m             \u001b[0mst\u001b[0m \u001b[0;34m=\u001b[0m \u001b[0mclock2\u001b[0m\u001b[0;34m(\u001b[0m\u001b[0;34m)\u001b[0m\u001b[0;34m\u001b[0m\u001b[0m\n\u001b[0;32m-> 1129\u001b[0;31m             \u001b[0mexec\u001b[0m\u001b[0;34m(\u001b[0m\u001b[0mcode\u001b[0m\u001b[0;34m,\u001b[0m \u001b[0mglob\u001b[0m\u001b[0;34m,\u001b[0m \u001b[0mlocal_ns\u001b[0m\u001b[0;34m)\u001b[0m\u001b[0;34m\u001b[0m\u001b[0m\n\u001b[0m\u001b[1;32m   1130\u001b[0m             \u001b[0mend\u001b[0m \u001b[0;34m=\u001b[0m \u001b[0mclock2\u001b[0m\u001b[0;34m(\u001b[0m\u001b[0;34m)\u001b[0m\u001b[0;34m\u001b[0m\u001b[0m\n\u001b[1;32m   1131\u001b[0m             \u001b[0mout\u001b[0m \u001b[0;34m=\u001b[0m \u001b[0;32mNone\u001b[0m\u001b[0;34m\u001b[0m\u001b[0m\n",
        "\u001b[0;32m<timed exec>\u001b[0m in \u001b[0;36m<module>\u001b[0;34m()\u001b[0m\n",
        "\u001b[0;31mKeyboardInterrupt\u001b[0m: "
       ]
      }
     ],
     "prompt_number": 6
    },
    {
     "cell_type": "heading",
     "level": 3,
     "metadata": {},
     "source": [
      "approach c"
     ]
    },
    {
     "cell_type": "raw",
     "metadata": {},
     "source": [
      "This was a mod of a solution presented on the Project Euler forum. \n",
      "Here you build a set of numbers which are the sum of two abundant \n",
      "numbers, and then subtract the sum of that set from the ith triangular number."
     ]
    },
    {
     "cell_type": "code",
     "collapsed": false,
     "input": [
      "%%time\n",
      "\n",
      "max_num = 28124\n",
      "def sum_proper_divisors(n):\n",
      "    val = 0\n",
      "    for i in range(2, int(sqrt(n)) + 1):\n",
      "        if n % i == 0:\n",
      "            if n // i == i: val += i\n",
      "            else : val += i + (n//i)\n",
      "    return val + 1\n",
      "\n",
      "abundant = []\n",
      "\n",
      "for j in range(1, max_num):\n",
      "    if sum_proper_divisors(j) > j:\n",
      "        abundant.append(j)\n",
      "\n",
      "idx, negs = 0, []\n",
      "for val in abundant:\n",
      "    if val > max_num//2:\n",
      "        break\n",
      "    idx += 1\n",
      "    for val2 in abundant:\n",
      "        if val2 > max_num - val:\n",
      "            break\n",
      "        negs.append(val + val2)\n",
      "\n",
      "print (sum(range(max_num+1))-sum(set(negs)))\n"
     ],
     "language": "python",
     "metadata": {},
     "outputs": [
      {
       "output_type": "stream",
       "stream": "stdout",
       "text": [
        "4179871\n",
        "CPU times: user 11.4 s, sys: 1.68 s, total: 13.1 s\n",
        "Wall time: 14.1 s\n"
       ]
      }
     ],
     "prompt_number": 9
    },
    {
     "cell_type": "heading",
     "level": 2,
     "metadata": {},
     "source": [
      "Problem 24"
     ]
    },
    {
     "cell_type": "code",
     "collapsed": false,
     "input": [
      "%%time\n",
      "\n",
      "'''\n",
      "A permutation is an ordered arrangement of objects. For example, 3124 is one\n",
      "possible permutation of the digits 1, 2, 3 and 4. If all of the permutations\n",
      "are listed numerically or alphabetically, we call it lexicographic order.\n",
      "The lexicographic permutations of 0, 1 and 2 are:\n",
      "\n",
      "012   021   102   120   201   210\n",
      "\n",
      "What is the millionth lexicographic permutation of the digits\n",
      "0, 1, 2, 3, 4, 5, 6, 7, 8 and 9?\n",
      "'''\n",
      "\n",
      "from collections import OrderedDict\n",
      "from math import factorial\n",
      "\n",
      "def nth_perm(string_of_digits, n):\n",
      "    if n==0:\n",
      "        return string_of_digits\n",
      "    if string_of_digits == []:\n",
      "        return ''\n",
      "    str_len = len(string_of_digits)\n",
      "    if n > factorial(str_len):\n",
      "        raise ValueError\n",
      "\n",
      "    fac = factorial(str_len - 1)\n",
      "    i = n // fac\n",
      "    answer = string_of_digits[i]\n",
      "    string_of_digits = string_of_digits[:i] + string_of_digits[i + 1:]\n",
      "    return answer + nth_perm(string_of_digits, n % fac)\n",
      "    \n",
      "\n",
      "n = 2\n",
      "string_of_digits='0123456789'\n",
      "\n",
      "print (nth_perm(string_of_digits, n-1))"
     ],
     "language": "python",
     "metadata": {},
     "outputs": [
      {
       "output_type": "stream",
       "stream": "stdout",
       "text": [
        "0123456798\n",
        "CPU times: user 80 \u00b5s, sys: 55 \u00b5s, total: 135 \u00b5s\n",
        "Wall time: 140 \u00b5s\n"
       ]
      }
     ],
     "prompt_number": 11
    },
    {
     "cell_type": "heading",
     "level": 2,
     "metadata": {},
     "source": [
      "Problem 25"
     ]
    },
    {
     "cell_type": "code",
     "collapsed": false,
     "input": [
      "%%time\n",
      "'''\n",
      "The Fibonacci sequence is defined by the recurrence relation:\n",
      "\n",
      "    Fn = Fn\u22121 + Fn\u22122, where F1 = 1 and F2 = 1.\n",
      "\n",
      "Hence the first 12 terms will be:\n",
      "\n",
      "    F1 = 1\n",
      "    F2 = 1\n",
      "    F3 = 2\n",
      "    F4 = 3\n",
      "    F5 = 5\n",
      "    F6 = 8\n",
      "    F7 = 13\n",
      "    F8 = 21\n",
      "    F9 = 34\n",
      "    F10 = 55\n",
      "    F11 = 89\n",
      "    F12 = 144\n",
      "\n",
      "The 12th term, F12, is the first term to contain three digits.\n",
      "\n",
      "What is the first term in the Fibonacci sequence to contain 1000 digits?\n",
      "'''\n",
      "\n",
      "fib = (1, 1)\n",
      "i = 1\n",
      "while fib[0] < 10 ** 999:\n",
      "    fib = (fib[1], fib[0] + fib[1])\n",
      "    i += 1\n",
      "\n",
      "print (i)"
     ],
     "language": "python",
     "metadata": {},
     "outputs": [
      {
       "output_type": "stream",
       "stream": "stdout",
       "text": [
        "4782\n",
        "CPU times: user 3.6 ms, sys: 168 \u00b5s, total: 3.77 ms\n",
        "Wall time: 3.73 ms\n"
       ]
      }
     ],
     "prompt_number": 14
    },
    {
     "cell_type": "heading",
     "level": 2,
     "metadata": {},
     "source": [
      "Problem 29"
     ]
    },
    {
     "cell_type": "heading",
     "level": 3,
     "metadata": {},
     "source": [
      "https://projecteuler.net/problem=29"
     ]
    },
    {
     "cell_type": "code",
     "collapsed": false,
     "input": [
      "%%time\n",
      "\n",
      "max_num = 100\n",
      "print (len(set([i ** j for i in range(2, max_num + 1) for j in range(2, max_num + 1)])))"
     ],
     "language": "python",
     "metadata": {},
     "outputs": [
      {
       "output_type": "stream",
       "stream": "stdout",
       "text": [
        "9183\n",
        "CPU times: user 12.2 ms, sys: 1.06 ms, total: 13.3 ms\n",
        "Wall time: 13.3 ms\n"
       ]
      }
     ],
     "prompt_number": 16
    },
    {
     "cell_type": "heading",
     "level": 2,
     "metadata": {},
     "source": [
      "Problem 30"
     ]
    },
    {
     "cell_type": "heading",
     "level": 3,
     "metadata": {},
     "source": [
      "https://projecteuler.net/problem=30"
     ]
    },
    {
     "cell_type": "code",
     "collapsed": false,
     "input": [
      "%%time\n",
      "\n",
      "def get_max(power):\n",
      "    done = False\n",
      "    count, max_num, nines = 0, 0, 0\n",
      "    while max_num >= nines:\n",
      "        count += 1\n",
      "        nines = (10 ** count) - 1\n",
      "        max_num += 9 ** power\n",
      "    return max_num\n",
      "\n",
      "def sum_of_digits_powers(num, power):\n",
      "    val = 0\n",
      "    while num > 0:\n",
      "        val += (num % 10) ** power\n",
      "        num = num // 10\n",
      "    return val\n",
      "\n",
      "power = 4\n",
      "\n",
      "answer = 0\n",
      "\n",
      "for i in range(10, get_max(power)):\n",
      "    if i==sum_of_digits_powers(i, power):\n",
      "        answer += i\n",
      "        #print i\n",
      "\n",
      "print (answer)"
     ],
     "language": "python",
     "metadata": {},
     "outputs": [
      {
       "output_type": "stream",
       "stream": "stdout",
       "text": [
        "19316\n",
        "CPU times: user 154 ms, sys: 2.13 ms, total: 156 ms\n",
        "Wall time: 157 ms\n"
       ]
      }
     ],
     "prompt_number": 19
    },
    {
     "cell_type": "code",
     "collapsed": false,
     "input": [],
     "language": "python",
     "metadata": {},
     "outputs": []
    }
   ],
   "metadata": {}
  }
 ]
}