{
 "metadata": {
  "name": ""
 },
 "nbformat": 3,
 "nbformat_minor": 0,
 "worksheets": [
  {
   "cells": [
    {
     "cell_type": "heading",
     "level": 2,
     "metadata": {},
     "source": [
      "#92."
     ]
    },
    {
     "cell_type": "code",
     "collapsed": false,
     "input": [
      "%%time\n",
      "'''\n",
      "\n",
      "\n",
      "A number chain is created by continuously adding the square \n",
      "of the digits in a number to form a new number until it has been seen before.\n",
      "\n",
      "For example,\n",
      "\n",
      "44 \u2192 32 \u2192 13 \u2192 10 \u2192 1 \u2192 1\n",
      "85 \u2192 89 \u2192 145 \u2192 42 \u2192 20 \u2192 4 \u2192 16 \u2192 37 \u2192 58 \u2192 89\n",
      "\n",
      "Therefore any chain that arrives at 1 or 89 will become stuck in an\n",
      "endless loop. What is most amazing is that EVERY starting number will\n",
      "eventually arrive at 1 or 89.\n",
      "\n",
      "How many starting numbers below ten million will arrive at 89?\n",
      "\n",
      "'''\n",
      "from collections import defaultdict\n",
      "\n",
      "memo = defaultdict(int)\n",
      "\n",
      "def sum_square_digits(n):\n",
      "    global memo\n",
      "    if memo[n] == 1 or memo[n] == 89:\n",
      "        return memo[n]\n",
      "    val = 0\n",
      "    while n > 0:\n",
      "        val += (n % 10) ** 2\n",
      "        n = n/10\n",
      "    if val == 1 or val == 89:\n",
      "        return val\n",
      "    else :\n",
      "        memo[val] = sum_square_digits(val)\n",
      "        return memo[val]\n",
      "\n",
      "answer = 0\n",
      "\n",
      "for i in range(1, 10000000):\n",
      "    if memo[i] == 1:\n",
      "        continue\n",
      "    elif memo[i] == 89:\n",
      "        answer += 1\n",
      "        continue\n",
      "    else :\n",
      "        memo[i] = sum_square_digits(i)\n",
      "        if memo[i] == 89:\n",
      "            answer += 1\n",
      "\n",
      "print answer"
     ],
     "language": "python",
     "metadata": {},
     "outputs": [
      {
       "output_type": "stream",
       "stream": "stdout",
       "text": [
        "8581146\n",
        "CPU times: user 42 s, sys: 1.11 s, total: 43.1 s\n",
        "Wall time: 43.9 s\n"
       ]
      }
     ],
     "prompt_number": 46
    },
    {
     "cell_type": "code",
     "collapsed": false,
     "input": [
      "from math import sqrt\n",
      "\n",
      "max_perim = 1000000000\n",
      "\n",
      "answer = 0\n",
      "for x in range(4, max_perim/3 + 1):\n",
      "    if sqrt((3 * x - 1)*(x + 1)) % 1 == 0.0:\n",
      "        print \"a: \", x, x, x-1\n",
      "        answer += (3*x - 1)\n",
      "    if sqrt((3 * x + 1)*(x - 1)) % 1 == 0.0:\n",
      "        print \"b: \", x, x, x+1\n",
      "        answer += (3*x + 1)\n",
      "\n",
      "print answer"
     ],
     "language": "python",
     "metadata": {},
     "outputs": [
      {
       "output_type": "stream",
       "stream": "stdout",
       "text": [
        "b:  5 5 6\n",
        "a:  17 17 16\n",
        "b:  65 65 66\n",
        "a:  241 241 240\n",
        "b:  901 901 902\n",
        "a:  3361 3361 3360\n",
        "b:  12545 12545 12546\n",
        "a: "
       ]
      },
      {
       "output_type": "stream",
       "stream": "stdout",
       "text": [
        " 46817 46817 46816\n",
        "b: "
       ]
      },
      {
       "output_type": "stream",
       "stream": "stdout",
       "text": [
        " 174725 174725 174726\n",
        "a: "
       ]
      },
      {
       "output_type": "stream",
       "stream": "stdout",
       "text": [
        " 652081 652081 652080\n",
        "b: "
       ]
      },
      {
       "output_type": "stream",
       "stream": "stdout",
       "text": [
        " 2433601 2433601 2433602\n",
        "a: "
       ]
      },
      {
       "output_type": "stream",
       "stream": "stdout",
       "text": [
        " 9082321 9082321 9082320\n",
        "b: "
       ]
      },
      {
       "output_type": "stream",
       "stream": "stdout",
       "text": [
        " 33895685 33895685 33895686\n",
        "b: "
       ]
      },
      {
       "output_type": "stream",
       "stream": "stdout",
       "text": [
        " 63250209 63250209 63250210\n",
        "b: "
       ]
      },
      {
       "output_type": "stream",
       "stream": "stdout",
       "text": [
        " 92604733 92604733 92604734\n",
        "a: "
       ]
      },
      {
       "output_type": "stream",
       "stream": "stdout",
       "text": [
        " 97145893 97145893 97145892\n",
        "a: "
       ]
      },
      {
       "output_type": "stream",
       "stream": "stdout",
       "text": [
        " 126500417 126500417 126500416\n",
        "b: "
       ]
      },
      {
       "output_type": "stream",
       "stream": "stdout",
       "text": [
        " 143448260 143448260 143448261\n",
        "a: "
       ]
      },
      {
       "output_type": "stream",
       "stream": "stdout",
       "text": [
        " 155854941 155854941 155854940\n",
        "b: "
       ]
      },
      {
       "output_type": "stream",
       "stream": "stdout",
       "text": [
        " 164937263 164937263 164937264\n",
        "b: "
       ]
      },
      {
       "output_type": "stream",
       "stream": "stdout",
       "text": [
        " 172802784 172802784 172802785\n",
        "a: "
       ]
      },
      {
       "output_type": "stream",
       "stream": "stdout",
       "text": [
        " 177343944 177343944 177343943\n",
        "a: "
       ]
      },
      {
       "output_type": "stream",
       "stream": "stdout",
       "text": [
        " 185209465 185209465 185209464\n",
        "b: "
       ]
      },
      {
       "output_type": "stream",
       "stream": "stdout",
       "text": [
        " 194291787 194291787 194291788\n",
        "b: "
       ]
      },
      {
       "output_type": "stream",
       "stream": "stdout",
       "text": [
        " 202157308 202157308 202157309\n",
        "a: "
       ]
      },
      {
       "output_type": "stream",
       "stream": "stdout",
       "text": [
        " 206698468 206698468 206698467\n",
        "b: "
       ]
      },
      {
       "output_type": "stream",
       "stream": "stdout",
       "text": [
        " 223646311 223646311 223646312\n",
        "a: "
       ]
      },
      {
       "output_type": "stream",
       "stream": "stdout",
       "text": [
        " 236052992 236052992 236052991\n",
        "b: "
       ]
      },
      {
       "output_type": "stream",
       "stream": "stdout",
       "text": [
        " 253000835 253000835 253000836\n",
        "a: "
       ]
      },
      {
       "output_type": "stream",
       "stream": "stdout",
       "text": [
        " 257541995 257541995 257541994\n",
        "a: "
       ]
      },
      {
       "output_type": "stream",
       "stream": "stdout",
       "text": [
        " 265407516 265407516 265407515\n",
        "b: "
       ]
      },
      {
       "output_type": "stream",
       "stream": "stdout",
       "text": [
        " 274489838 274489838 274489839\n",
        "b: "
       ]
      },
      {
       "output_type": "stream",
       "stream": "stdout",
       "text": [
        " 282355359 282355359 282355360\n",
        "a: "
       ]
      },
      {
       "output_type": "stream",
       "stream": "stdout",
       "text": [
        " 286896519 286896519 286896518\n",
        "a: "
       ]
      },
      {
       "output_type": "stream",
       "stream": "stdout",
       "text": [
        " 308385522 308385522 308385521\n",
        "b: "
       ]
      },
      {
       "output_type": "stream",
       "stream": "stdout",
       "text": [
        " 311709883 311709883 311709884\n",
        "a: "
       ]
      },
      {
       "output_type": "stream",
       "stream": "stdout",
       "text": [
        " 316251043 316251043 316251042\n",
        "a: "
       ]
      },
      {
       "output_type": "stream",
       "stream": "stdout",
       "text": [
        " 324116564 324116564 324116563\n",
        "b: "
       ]
      },
      {
       "output_type": "stream",
       "stream": "stdout",
       "text": [
        " 325333365 325333365 325333366\n",
        "a: "
       ]
      },
      {
       "output_type": "stream",
       "stream": "stdout",
       "text": [
        " 329874525 329874525 329874524\n",
        "b: "
       ]
      },
      {
       "output_type": "stream",
       "stream": "stdout",
       "text": [
        " 333198886 333198886 333198887\n",
        "19070426971"
       ]
      },
      {
       "output_type": "stream",
       "stream": "stdout",
       "text": [
        "\n"
       ]
      }
     ],
     "prompt_number": 21
    },
    {
     "cell_type": "heading",
     "level": 2,
     "metadata": {},
     "source": [
      "#98."
     ]
    },
    {
     "cell_type": "code",
     "collapsed": false,
     "input": [
      "import pandas as pd\n",
      "\n",
      "def \n",
      "\n",
      "w_dict = []\n",
      "\n",
      "with open('words.txt') as f:\n",
      "    text = f.read().split(',')\n",
      "    for word in text:\n",
      "      w_list.append(word[1:-1])  \n"
     ],
     "language": "python",
     "metadata": {},
     "outputs": [
      {
       "output_type": "stream",
       "stream": "stdout",
       "text": [
        "1786\n"
       ]
      }
     ],
     "prompt_number": 6
    },
    {
     "cell_type": "code",
     "collapsed": false,
     "input": [
      "from math import sqrt\n",
      "from bigfloat import precision\n",
      "\n",
      "def area(sides):\n",
      "    s = float(sum(sides)/2)\n",
      "    return sqrt(s*(s-sides[0])*(s-sides[1])*(s-sides[2]))\n",
      "\n",
      "with precision(5):\n",
      "    area((33895685,33895685,33895686))"
     ],
     "language": "python",
     "metadata": {},
     "outputs": [
      {
       "ename": "ImportError",
       "evalue": "No module named bigfloat",
       "output_type": "pyerr",
       "traceback": [
        "\u001b[0;31m---------------------------------------------------------------------------\u001b[0m\n\u001b[0;31mImportError\u001b[0m                               Traceback (most recent call last)",
        "\u001b[0;32m<ipython-input-25-2f1f7bbae0d7>\u001b[0m in \u001b[0;36m<module>\u001b[0;34m()\u001b[0m\n\u001b[1;32m      1\u001b[0m \u001b[0;32mfrom\u001b[0m \u001b[0mmath\u001b[0m \u001b[0;32mimport\u001b[0m \u001b[0msqrt\u001b[0m\u001b[0;34m\u001b[0m\u001b[0m\n\u001b[0;32m----> 2\u001b[0;31m \u001b[0;32mfrom\u001b[0m \u001b[0mbigfloat\u001b[0m \u001b[0;32mimport\u001b[0m \u001b[0mprecision\u001b[0m\u001b[0;34m\u001b[0m\u001b[0m\n\u001b[0m\u001b[1;32m      3\u001b[0m \u001b[0;34m\u001b[0m\u001b[0m\n\u001b[1;32m      4\u001b[0m \u001b[0;32mdef\u001b[0m \u001b[0marea\u001b[0m\u001b[0;34m(\u001b[0m\u001b[0msides\u001b[0m\u001b[0;34m)\u001b[0m\u001b[0;34m:\u001b[0m\u001b[0;34m\u001b[0m\u001b[0m\n\u001b[1;32m      5\u001b[0m     \u001b[0ms\u001b[0m \u001b[0;34m=\u001b[0m \u001b[0mfloat\u001b[0m\u001b[0;34m(\u001b[0m\u001b[0msum\u001b[0m\u001b[0;34m(\u001b[0m\u001b[0msides\u001b[0m\u001b[0;34m)\u001b[0m\u001b[0;34m/\u001b[0m\u001b[0;36m2\u001b[0m\u001b[0;34m)\u001b[0m\u001b[0;34m\u001b[0m\u001b[0m\n",
        "\u001b[0;31mImportError\u001b[0m: No module named bigfloat"
       ]
      }
     ],
     "prompt_number": 25
    },
    {
     "cell_type": "heading",
     "level": 2,
     "metadata": {},
     "source": [
      "#100."
     ]
    },
    {
     "cell_type": "code",
     "collapsed": false,
     "input": [
      "'''\n",
      "If a box contains twenty-one coloured discs, composed of fifteen blue discs\n",
      "and six red discs, and two discs were taken at random, it can be seen that\n",
      "the probability of taking two blue discs, P(BB) = (15/21)\u00d7(14/20) = 1/2.\n",
      "\n",
      "The next such arrangement, for which there is exactly 50% chance of taking\n",
      "two blue discs at random, is a box containing eighty-five blue discs and\n",
      "thirty-five red discs.\n",
      "\n",
      "By finding the first arrangement to contain over 10^12 = 1,000,000,000,000\n",
      "discs in total, determine the number of blue discs that the box would contain.\n",
      "'''\n",
      "\n",
      "from math import sqrt\n",
      "y = 10\n",
      "done = False\n",
      "while not done:\n",
      "    done_with_y = False\n",
      "    y = int(y * 5.8284)\n",
      "    while not done_with_y:\n",
      "        y += 1\n",
      "        x = int(y / sqrt(2))\n",
      "        for i in range(x - 10, x + 10):\n",
      "            #print y, i\n",
      "            if (y <= 10 ** 12) and (2 * i * (i - 1) == y * (y - 1)):\n",
      "                done_with_y = True\n",
      "                break\n",
      "            elif (y > 10 ** 12) and (2 * i * (i - 1) == y * (y - 1)):\n",
      "                done, done_with_y = True, True\n",
      "                break\n",
      "    #print y, i\n",
      "\n",
      "print y, i"
     ],
     "language": "python",
     "metadata": {},
     "outputs": [
      {
       "output_type": "stream",
       "stream": "stdout",
       "text": [
        "1070379110497 756872327473\n"
       ]
      }
     ],
     "prompt_number": 1
    },
    {
     "cell_type": "code",
     "collapsed": false,
     "input": [
      "\n"
     ],
     "language": "python",
     "metadata": {},
     "outputs": [
      {
       "metadata": {},
       "output_type": "pyout",
       "prompt_number": 25,
       "text": [
        "2"
       ]
      }
     ],
     "prompt_number": 25
    },
    {
     "cell_type": "code",
     "collapsed": false,
     "input": [],
     "language": "python",
     "metadata": {},
     "outputs": []
    }
   ],
   "metadata": {}
  }
 ]
}