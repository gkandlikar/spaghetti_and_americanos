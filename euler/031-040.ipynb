{
 "metadata": {
  "name": ""
 },
 "nbformat": 3,
 "nbformat_minor": 0,
 "worksheets": [
  {
   "cells": [
    {
     "cell_type": "code",
     "collapsed": false,
     "input": [
      "%%time\n",
      "\n",
      "def get_max(power):\n",
      "    done = False\n",
      "    count, max_num, nines = 0, 0, 0\n",
      "    while max_num >= nines:\n",
      "        count += 1\n",
      "        nines = (10 ** count) - 1\n",
      "        max_num += 9 ** power\n",
      "    return max_num\n",
      "\n",
      "def sum_of_digits_powers(num, power):\n",
      "    val = 0\n",
      "    while num > 0:\n",
      "        val += (num % 10) ** power\n",
      "        num = num / 10\n",
      "    return val\n",
      "\n",
      "power = \n",
      "\n",
      "answer = 0\n",
      "\n",
      "for i in range(10, get_max(power)):\n",
      "    if i == sum_of_digits_powers(i, power):\n",
      "        answer += i\n",
      "        #print i\n",
      "\n",
      "print answer"
     ],
     "language": "python",
     "metadata": {},
     "outputs": []
    }
   ],
   "metadata": {}
  }
 ]
}