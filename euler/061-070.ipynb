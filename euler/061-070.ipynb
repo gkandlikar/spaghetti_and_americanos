{
 "metadata": {
  "name": ""
 },
 "nbformat": 3,
 "nbformat_minor": 0,
 "worksheets": [
  {
   "cells": [
    {
     "cell_type": "code",
     "collapsed": false,
     "input": [
      "#62."
     ],
     "language": "python",
     "metadata": {},
     "outputs": []
    },
    {
     "cell_type": "code",
     "collapsed": false,
     "input": [
      "'''\n",
      "\n",
      "\n",
      "The cube, 41063625 (345^3), can be permuted to produce two other cubes: 56623104 (384^3)\n",
      "and 66430125 (405^3). In fact, 41063625 is the smallest cube which has exactly three \n",
      "permutations of its digits which are also cube.\n",
      "\n",
      "Find the smallest cube for which exactly five permutations of its digits are cube.\n",
      "\n",
      "'''\n",
      "\n",
      "from collections import defaultdict\n",
      "\n",
      "max_count = 5\n",
      "\n",
      "i = 0\n",
      "\n",
      "cubes = defaultdict(int)\n",
      "while True:\n",
      "    i += 1\n",
      "    cube_str = ''.join(sorted(str(i ** 3)))\n",
      "    if cubes[cube_str] == 0:\n",
      "        tmp_val = []\n",
      "        tmp_val.append(1)\n",
      "        tmp_val.append([i])\n",
      "        cubes[cube_str] = tmp_val\n",
      "    else :\n",
      "        tmp_val = cubes[cube_str]\n",
      "        tmp_val[0]+=1\n",
      "        tmp_val[1].append(i)\n",
      "        cubes[cube_str] = tmp_val\n",
      "        #print tmp_val\n",
      "    if cubes[cube_str][0] == max_count:\n",
      "        print cubes[cube_str][1][0] ** 3\n",
      "        break"
     ],
     "language": "python",
     "metadata": {},
     "outputs": []
    },
    {
     "cell_type": "code",
     "collapsed": false,
     "input": [
      "'''\n",
      "\n",
      "Consider quadratic Diophantine equations of the form:\n",
      "\n",
      "x^2 \u2013 Dy^2 = 1\n",
      "\n",
      "For example, when D=13, the minimal solution in x is 649^2 \u2013 13\u00d7180^2 = 1.\n",
      "\n",
      "It can be assumed that there are no solutions in positive integers when D is square.\n",
      "\n",
      "By finding minimal solutions in x for D = {2, 3, 5, 6, 7}, we obtain the following:\n",
      "\n",
      "3^2 \u2013 2\u00d72^2 = 1\n",
      "2^2 \u2013 3\u00d71^2 = 1\n",
      "9^2 \u2013 5\u00d74^2 = 1\n",
      "5^2 \u2013 6\u00d72^2 = 1\n",
      "8^2 \u2013 7\u00d73^2 = 1\n",
      "\n",
      "Hence, by considering minimal solutions in x for D \u2264 7, the largest x is obtained when D=5.\n",
      "\n",
      "Find the value of D \u2264 1000 in minimal solutions of x for which the largest value of x is obtained.\n",
      "'''"
     ],
     "language": "python",
     "metadata": {},
     "outputs": []
    },
    {
     "cell_type": "heading",
     "level": 2,
     "metadata": {},
     "source": [
      "#64."
     ]
    },
    {
     "cell_type": "code",
     "collapsed": false,
     "input": [
      "from math import sqrt\n",
      "from math import exp\n",
      "from fractions import gcd\n",
      "\n",
      "def seq_conv_exp(n):\n",
      "    j = 0\n",
      "    ret = [1] * (n)\n",
      "    ret[0] = 2\n",
      "    for i in range(2, n, 3):\n",
      "        j += 2\n",
      "        ret[i]=j\n",
      "    return ret\n",
      "\n",
      "def seq_conf_sqrt(x, n=0):\n",
      "    a_0 = int(sqrt(x))\n",
      "    coef, numer, denom = 1, 1, 1\n",
      "    answers = []\n",
      "    done = False\n",
      "    \n",
      "    i = 0\n",
      "    denom = -a_0\n",
      "    while not done:\n",
      "        \n",
      "        i += 1\n",
      "        numer = -denom\n",
      "        denom = x - (denom ** 2)\n",
      "        hcf = gcd(coef, denom)\n",
      "        coef, denom = coef/hcf, denom/hcf\n",
      "        #print numer, denom, coef, answers\n",
      "        if numer >= denom:\n",
      "            answers.append(2 * coef * numer / denom)\n",
      "            numer *= -1 \n",
      "        else :\n",
      "            answers.append(1)\n",
      "            numer -= denom\n",
      "        coef, denom = denom, numer\n",
      "\n",
      "        if (n == 0) and (i > 4) and (i % 4 == 0) and (answers[:i/2] == answers[i/2:]):\n",
      "            #print x, answers[:i/2]\n",
      "            answers = answers[:i/2]\n",
      "            done = True\n",
      "        elif (n == 0) and (i > 9) and (i % 4 == 2) and (answers[:i/2] == answers[i/2:]):\n",
      "            #print x, answers[:i/2]\n",
      "            answers = answers[:i/2]\n",
      "            done = True\n",
      "        elif i == n:\n",
      "            done = True\n",
      "        else :\n",
      "            pass\n",
      "    return [a_0, answers]\n",
      "\n",
      "def seq_conv(x, n=10, sr = False):\n",
      "    if x == exp(1):\n",
      "        return seq_conv_exp(n)\n",
      "    elif sr:\n",
      "        return seq_conf_sqrt(x, n)\n",
      "\n",
      "\n",
      "def conv(seq):\n",
      "    seq = seq[::-1]\n",
      "    numer, denom = 1, seq[0]\n",
      "    for i in range(len(seq)-1):\n",
      "        numer += denom * seq[i+1]\n",
      "        numer, denom = denom, numer\n",
      "        #print numer, denom\n",
      "    return (denom, numer)\n",
      "\n",
      "\n",
      "\n",
      "max_n, count = 100, 0\n",
      "for val in range(2, max_n):\n",
      "    if sqrt(val) % 1 == 0:\n",
      "        continue\n",
      "    seq = seq_conv(val, n=20, sr=True)\n",
      "    print val, '-', seq\n",
      "        \n",
      "print count"
     ],
     "language": "python",
     "metadata": {},
     "outputs": [
      {
       "output_type": "stream",
       "stream": "stdout",
       "text": [
        "2 - [1, [2, 2, 2, 2, 2, 2, 2, 2, 2, 2, 2, 2, 2, 2, 2, 2, 2, 2, 2, 2]]\n",
        "3 - [1, [1, 2, 1, 2, 1, 2, 1, 2, 1, 2, 1, 2, 1, 2, 1, 2, 1, 2, 1, 2]]\n",
        "5 - [2, [4, 4, 4, 4, 4, 4, 4, 4, 4, 4, 4, 4, 4, 4, 4, 4, 4, 4, 4, 4]]\n",
        "6 - [2, [2, 4, 2, 4, 2, 4, 2, 4, 2, 4, 2, 4, 2, 4, 2, 4, 2, 4, 2, 4]]\n",
        "7 - [2, [1, 1, 1, 4, 1, 1, 1, 4, 1, 1, 1, 4, 1, 1, 1, 4, 1, 1, 1, 4]]\n",
        "8 - [2, [1, 4, 1, 4, 1, 4, 1, 4, 1, 4, 1, 4, 1, 4, 1, 4, 1, 4, 1, 4]]\n",
        "10 - [3, [6, 6, 6, 6, 6, 6, 6, 6, 6, 6, 6, 6, 6, 6, 6, 6, 6, 6, 6, 6]]\n",
        "11 - [3, [3, 6, 3, 6, 3, 6, 3, 6, 3, 6, 3, 6, 3, 6, 3, 6, 3, 6, 3, 6]]\n",
        "12 - [3, [2, 6, 2, 6, 2, 6, 2, 6, 2, 6, 2, 6, 2, 6, 2, 6, 2, 6, 2, 6]]\n",
        "13 - [3, [1, 1, 1, 1, 6, 1, 1, 1, 1, 6, 1, 1, 1, 1, 6, 1, 1, 1, 1, 6]]\n",
        "14 - [3, [1, 2, 1, 6, 1, 2, 1, 6, 1, 2, 1, 6, 1, 2, 1, 6, 1, 2, 1, 6]]\n",
        "15 - [3, [1, 6, 1, 6, 1, 6, 1, 6, 1, 6, 1, 6, 1, 6, 1, 6, 1, 6, 1, 6]]\n",
        "17 - [4, [8, 8, 8, 8, 8, 8, 8, 8, 8, 8, 8, 8, 8, 8, 8, 8, 8, 8, 8, 8]]\n",
        "18 - [4, [4, 8, 4, 8, 4, 8, 4, 8, 4, 8, 4, 8, 4, 8, 4, 8, 4, 8, 4, 8]]\n",
        "19 - [4, [2, 8, 2, 8, 2, 8, 2, 8, 2, 8, 2, 8, 2, 8, 2, 8, 2, 8, 2, 8]]\n",
        "20 - [4, [2, 8, 2, 8, 2, 8, 2, 8, 2, 8, 2, 8, 2, 8, 2, 8, 2, 8, 2, 8]]\n",
        "21 - [4, [1, 1, 2, 1, 1, 8, 1, 1, 2, 1, 1, 8, 1, 1, 2, 1, 1, 8, 1, 1]]\n",
        "22 - [4, [1, 1, 1, -6, 1, 1, 1, 8, 1, 1, 1, -6, 1, 1, 1, 8, 1, 1, 1, -6]]\n",
        "23 - [4, [1, 3, 1, 8, 1, 3, 1, 8, 1, 3, 1, 8, 1, 3, 1, 8, 1, 3, 1, 8]]\n",
        "24 - [4, [1, 8, 1, 8, 1, 8, 1, 8, 1, 8, 1, 8, 1, 8, 1, 8, 1, 8, 1, 8]]\n",
        "26 - [5, [10, 10, 10, 10, 10, 10, 10, 10, 10, 10, 10, 10, 10, 10, 10, 10, 10, 10, 10, 10]]\n",
        "27 - [5, [5, 10, 5, 10, 5, 10, 5, 10, 5, 10, 5, 10, 5, 10, 5, 10, 5, 10, 5, 10]]\n",
        "28 - [5, [3, 10, 3, 10, 3, 10, 3, 10, 3, 10, 3, 10, 3, 10, 3, 10, 3, 10, 3, 10]]\n",
        "29 - [5, [2, 10, 2, 10, 2, 10, 2, 10, 2, 10, 2, 10, 2, 10, 2, 10, 2, 10, 2, 10]]\n",
        "30 - [5, [2, 10, 2, 10, 2, 10, 2, 10, 2, 10, 2, 10, 2, 10, 2, 10, 2, 10, 2, 10]]\n",
        "31 - [5, [1, 1, 2, 1, 1, 10, 1, 1, 2, 1, 1, 10, 1, 1, 2, 1, 1, 10, 1, 1]]\n",
        "32 - [5, [1, 1, 1, 10, 1, 1, 1, 10, 1, 1, 1, 10, 1, 1, 1, 10, 1, 1, 1, 10]]\n",
        "33 - [5, [1, 2, 1, 10, 1, 2, 1, 10, 1, 2, 1, 10, 1, 2, 1, 10, 1, 2, 1, 10]]\n",
        "34 - [5, [1, 4, 1, 10, 1, 4, 1, 10, 1, 4, 1, 10, 1, 4, 1, 10, 1, 4, 1, 10]]\n",
        "35 - [5, [1, 10, 1, 10, 1, 10, 1, 10, 1, 10, 1, 10, 1, 10, 1, 10, 1, 10, 1, 10]]\n",
        "37 - [6, [12, 12, 12, 12, 12, 12, 12, 12, 12, 12, 12, 12, 12, 12, 12, 12, 12, 12, 12, 12]]\n",
        "38 - [6, [6, 12, 6, 12, 6, 12, 6, 12, 6, 12, 6, 12, 6, 12, 6, 12, 6, 12, 6, 12]]\n",
        "39 - [6, [4, 12, 4, 12, 4, 12, 4, 12, 4, 12, 4, 12, 4, 12, 4, 12, 4, 12, 4, 12]]\n",
        "40 - [6, [3, 12, 3, 12, 3, 12, 3, 12, 3, 12, 3, 12, 3, 12, 3, 12, 3, 12, 3, 12]]\n",
        "41 - [6, [2, 12, 2, 12, 2, 12, 2, 12, 2, 12, 2, 12, 2, 12, 2, 12, 2, 12, 2, 12]]\n",
        "42 - [6, [2, 12, 2, 12, 2, 12, 2, 12, 2, 12, 2, 12, 2, 12, 2, 12, 2, 12, 2, 12]]\n",
        "43 - [6, [1, 1, 3, 1, 1, 12, 1, 1, 3, 1, 1, 12, 1, 1, 3, 1, 1, 12, 1, 1]]\n",
        "44 - [6, [1, 1, 1, 2, 1, 1, 1, 12, 1, 1, 1, 2, 1, 1, 1, 12, 1, 1, 1, 2]]\n",
        "45 - [6, [1, 1, 1, -4, 1, 1, 1, 12, 1, 1, 1, -4, 1, 1, 1, 12, 1, 1, 1, -4]]\n",
        "46 - [6, [1, 2, 1, 12, 1, 2, 1, 12, 1, 2, 1, 12, 1, 2, 1, 12, 1, 2, 1, 12]]\n",
        "47 - [6, [1, 5, 1, 12, 1, 5, 1, 12, 1, 5, 1, 12, 1, 5, 1, 12, 1, 5, 1, 12]]\n",
        "48 - [6, [1, 12, 1, 12, 1, 12, 1, 12, 1, 12, 1, 12, 1, 12, 1, 12, 1, 12, 1, 12]]\n",
        "50 - [7, [14, 14, 14, 14, 14, 14, 14, 14, 14, 14, 14, 14, 14, 14, 14, 14, 14, 14, 14, 14]]\n",
        "51 - [7, [7, 14, 7, 14, 7, 14, 7, 14, 7, 14, 7, 14, 7, 14, 7, 14, 7, 14, 7, 14]]\n",
        "52 - [7, [4, 14, 4, 14, 4, 14, 4, 14, 4, 14, 4, 14, 4, 14, 4, 14, 4, 14, 4, 14]]\n",
        "53 - [7, [3, 14, 3, 14, 3, 14, 3, 14, 3, 14, 3, 14, 3, 14, 3, 14, 3, 14, 3, 14]]\n",
        "54 - [7, [2, 14, 2, 14, 2, 14, 2, 14, 2, 14, 2, 14, 2, 14, 2, 14, 2, 14, 2, 14]]\n",
        "55 - [7, [2, 14, 2, 14, 2, 14, 2, 14, 2, 14, 2, 14, 2, 14, 2, 14, 2, 14, 2, 14]]\n",
        "56 - [7, [2, 14, 2, 14, 2, 14, 2, 14, 2, 14, 2, 14, 2, 14, 2, 14, 2, 14, 2, 14]]\n",
        "57 - [7, [1, 1, 4, 1, 1, 14, 1, 1, 4, 1, 1, 14, 1, 1, 4, 1, 1, 14, 1, 1]]\n",
        "58 - [7, [1, 1, 1, 1, 1, 1, 14, 1, 1, 1, 1, 1, 1, 14, 1, 1, 1, 1, 1, 1]]\n",
        "59 - [7, [1, 1, 1, -9, 1, 1, 1, 14, 1, 1, 1, -9, 1, 1, 1, 14, 1, 1, 1, -9]]\n",
        "60 - [7, [1, 2, 1, 14, 1, 2, 1, 14, 1, 2, 1, 14, 1, 2, 1, 14, 1, 2, 1, 14]]\n",
        "61 - [7, [1, 3, 1, 14, 1, 3, 1, 14, 1, 3, 1, 14, 1, 3, 1, 14, 1, 3, 1, 14]]\n",
        "62 - [7, [1, 6, 1, 14, 1, 6, 1, 14, 1, 6, 1, 14, 1, 6, 1, 14, 1, 6, 1, 14]]\n",
        "63 - [7, [1, 14, 1, 14, 1, 14, 1, 14, 1, 14, 1, 14, 1, 14, 1, 14, 1, 14, 1, 14]]\n",
        "65 - [8, [16, 16, 16, 16, 16, 16, 16, 16, 16, 16, 16, 16, 16, 16, 16, 16, 16, 16, 16, 16]]\n",
        "66 - [8, [8, 16, 8, 16, 8, 16, 8, 16, 8, 16, 8, 16, 8, 16, 8, 16, 8, 16, 8, 16]]\n",
        "67 - [8, [5, 16, 5, 16, 5, 16, 5, 16, 5, 16, 5, 16, 5, 16, 5, 16, 5, 16, 5, 16]]\n",
        "68 - [8, [4, 16, 4, 16, 4, 16, 4, 16, 4, 16, 4, 16, 4, 16, 4, 16, 4, 16, 4, 16]]\n",
        "69 - [8, [3, 16, 3, 16, 3, 16, 3, 16, 3, 16, 3, 16, 3, 16, 3, 16, 3, 16, 3, 16]]\n",
        "70 - [8, [2, 16, 2, 16, 2, 16, 2, 16, 2, 16, 2, 16, 2, 16, 2, 16, 2, 16, 2, 16]]\n",
        "71 - [8, [2, 16, 2, 16, 2, 16, 2, 16, 2, 16, 2, 16, 2, 16, 2, 16, 2, 16, 2, 16]]\n",
        "72 - [8, [2, 16, 2, 16, 2, 16, 2, 16, 2, 16, 2, 16, 2, 16, 2, 16, 2, 16, 2, 16]]\n",
        "73 - [8, [1, 1, 4, 1, 1, 16, 1, 1, 4, 1, 1, 16, 1, 1, 4, 1, 1, 16, 1, 1]]\n",
        "74 - [8, [1, 1, 1, 1, 16, 1, 1, 1, 1, 16, 1, 1, 1, 1, 16, 1, 1, 1, 1, 16]]\n",
        "75 - [8, [1, 1, 1, 16, 1, 1, 1, 16, 1, 1, 1, 16, 1, 1, 1, 16, 1, 1, 1, 16]]\n",
        "76 - [8, [1, 1, 1, -4, 1, 1, 1, 16, 1, 1, 1, -4, 1, 1, 1, 16, 1, 1, 1, -4]]\n",
        "77 - [8, [1, 2, 1, 16, 1, 2, 1, 16, 1, 2, 1, 16, 1, 2, 1, 16, 1, 2, 1, 16]]\n",
        "78 - [8, [1, 4, 1, 16, 1, 4, 1, 16, 1, 4, 1, 16, 1, 4, 1, 16, 1, 4, 1, 16]]\n",
        "79 - [8, [1, 7, 1, 16, 1, 7, 1, 16, 1, 7, 1, 16, 1, 7, 1, 16, 1, 7, 1, 16]]\n",
        "80 - [8, [1, 16, 1, 16, 1, 16, 1, 16, 1, 16, 1, 16, 1, 16, 1, 16, 1, 16, 1, 16]]\n",
        "82 - [9, [18, 18, 18, 18, 18, 18, 18, 18, 18, 18, 18, 18, 18, 18, 18, 18, 18, 18, 18, 18]]\n",
        "83 - [9, [9, 18, 9, 18, 9, 18, 9, 18, 9, 18, 9, 18, 9, 18, 9, 18, 9, 18, 9, 18]]\n",
        "84 - [9, [6, 18, 6, 18, 6, 18, 6, 18, 6, 18, 6, 18, 6, 18, 6, 18, 6, 18, 6, 18]]\n",
        "85 - [9, [4, 18, 4, 18, 4, 18, 4, 18, 4, 18, 4, 18, 4, 18, 4, 18, 4, 18, 4, 18]]\n",
        "86 - [9, [3, 18, 3, 18, 3, 18, 3, 18, 3, 18, 3, 18, 3, 18, 3, 18, 3, 18, 3, 18]]\n",
        "87 - [9, [3, 18, 3, 18, 3, 18, 3, 18, 3, 18, 3, 18, 3, 18, 3, 18, 3, 18, 3, 18]]\n",
        "88 - [9, [2, 18, 2, 18, 2, 18, 2, 18, 2, 18, 2, 18, 2, 18, 2, 18, 2, 18, 2, 18]]\n",
        "89 - [9, [2, 18, 2, 18, 2, 18, 2, 18, 2, 18, 2, 18, 2, 18, 2, 18, 2, 18, 2, 18]]\n",
        "90 - [9, [2, 18, 2, 18, 2, 18, 2, 18, 2, 18, 2, 18, 2, 18, 2, 18, 2, 18, 2, 18]]\n",
        "91 - [9, [1, 1, 5, 1, 1, 18, 1, 1, 5, 1, 1, 18, 1, 1, 5, 1, 1, 18, 1, 1]]\n",
        "92 - [9, [1, 1, 1, 1, -6, 1, 1, 1, 1, 18, 1, 1, 1, 1, -6, 1, 1, 1, 1, 18]]\n",
        "93 - [9, [1, 1, 1, 3, 1, 1, 1, 18, 1, 1, 1, 3, 1, 1, 1, 18, 1, 1, 1, 3]]\n",
        "94 - [9, [1, 1, 1, -6, 1, 1, 1, 18, 1, 1, 1, -6, 1, 1, 1, 18, 1, 1, 1, -6]]\n",
        "95 - [9, [1, 2, 1, 18, 1, 2, 1, 18, 1, 2, 1, 18, 1, 2, 1, 18, 1, 2, 1, 18]]\n",
        "96 - [9, [1, 3, 1, 18, 1, 3, 1, 18, 1, 3, 1, 18, 1, 3, 1, 18, 1, 3, 1, 18]]\n",
        "97 - [9, [1, 4, 1, 18, 1, 4, 1, 18, 1, 4, 1, 18, 1, 4, 1, 18, 1, 4, 1, 18]]\n",
        "98 - [9, [1, 8, 1, 18, 1, 8, 1, 18, 1, 8, 1, 18, 1, 8, 1, 18, 1, 8, 1, 18]]\n",
        "99 - [9, [1, 18, 1, 18, 1, 18, 1, 18, 1, 18, 1, 18, 1, 18, 1, 18, 1, 18, 1, 18]]\n",
        "0\n"
       ]
      }
     ],
     "prompt_number": 17
    },
    {
     "cell_type": "heading",
     "level": 2,
     "metadata": {},
     "source": [
      "#70."
     ]
    },
    {
     "cell_type": "code",
     "collapsed": false,
     "input": [
      "6#%%time\n",
      "\n",
      "from collections import defaultdict\n",
      "from math import sqrt\n",
      "\n",
      "def primes(n):\n",
      "    if n < 2:\n",
      "        return []\n",
      "    trues = [True] * (n + 1)\n",
      "    trues[0] = trues[1] = False\n",
      "    for i, val in enumerate(trues):\n",
      "        #print i, val\n",
      "        if not val:\n",
      "            continue\n",
      "        else :\n",
      "            trues[2*i::i] = [False] * ((n - i) / i)\n",
      "    return zip(*filter(lambda x: x[1], enumerate(trues)))[0]\n",
      "\n",
      "def prime_factors(n):\n",
      "    global prime_nums\n",
      "    return [prime for prime in prime_nums if (prime <= n and n % prime == 0)]\n",
      "\n",
      "def totient(n):\n",
      "    answer = n\n",
      "    facs = prime_factors(n)\n",
      "    for fac in facs:\n",
      "        answer *= (fac-1)\n",
      "        answer /= fac\n",
      "    return answer\n",
      "\n",
      "d = 10**6\n",
      "prime_nums = primes(d)\n",
      "\n",
      "def permutation(n):\n",
      "    num, tot = n, totient(n)\n",
      "    if sorted(str(num)) == sorted(str(tot)):\n",
      "        return True, float(num)/tot\n",
      "    else :\n",
      "        return False, 0\n",
      "\n",
      "ratio = 5\n",
      "for i in range(-1,-len(prime_nums), -1):\n",
      "    for j in range(i-1,-len(prime_nums)+1, -1):\n",
      "        #print i, j\n",
      "        mult = prime_nums[i] * prime_nums[j]\n",
      "        if mult > d: \n",
      "            continue\n",
      "        temp = permutation(mult)\n",
      "        #print temp\n",
      "        if temp[0] and temp[1] < ratio:\n",
      "            ratio = temp[1]\n",
      "            print mult, temp[1]\n",
      "\n",
      "#print 3137*3121, large_totient(3137*3121)\n",
      "\n",
      "\n",
      "\n",
      "\n"
     ],
     "language": "python",
     "metadata": {},
     "outputs": [
      {
       "output_type": "stream",
       "stream": "stdout",
       "text": [
        "869965 1.25000718424\n",
        "780109"
       ]
      },
      {
       "output_type": "stream",
       "stream": "stdout",
       "text": [
        " 1.10001551087\n",
        "852091"
       ]
      },
      {
       "output_type": "stream",
       "stream": "stdout",
       "text": [
        " 1.06252119828\n",
        "674521"
       ]
      },
      {
       "output_type": "stream",
       "stream": "stdout",
       "text": [
        " 1.04549019486\n",
        "940417"
       ]
      },
      {
       "output_type": "stream",
       "stream": "stdout",
       "text": [
        " 1.02504468957\n",
        "848833"
       ]
      },
      {
       "output_type": "stream",
       "stream": "stdout",
       "text": [
        " 1.01731208982\n",
        "736297"
       ]
      },
      {
       "output_type": "stream",
       "stream": "stdout",
       "text": [
        " 1.01148589986\n",
        "779281"
       ]
      },
      {
       "output_type": "stream",
       "stream": "stdout",
       "text": [
        " 1.00957258269\n",
        "818053"
       ]
      },
      {
       "output_type": "stream",
       "stream": "stdout",
       "text": [
        " 1.00549792276\n",
        "866527"
       ]
      },
      {
       "output_type": "stream",
       "stream": "stdout",
       "text": [
        " 1.00458046595\n",
        "842389"
       ]
      },
      {
       "output_type": "stream",
       "stream": "stdout",
       "text": [
        " 1.00413029071\n",
        "734101"
       ]
      },
      {
       "output_type": "stream",
       "stream": "stdout",
       "text": [
        " 1.00409927999\n",
        "661579"
       ]
      },
      {
       "output_type": "stream",
       "stream": "stdout",
       "text": [
        " 1.00364546039\n",
        "579067"
       ]
      },
      {
       "output_type": "stream",
       "stream": "stdout",
       "text": [
        " 1.0034153763\n",
        "880567"
       ]
      },
      {
       "output_type": "stream",
       "stream": "stdout",
       "text": [
        " 1.00228441996\n",
        "778669"
       ]
      },
      {
       "output_type": "stream",
       "stream": "stdout",
       "text": [
        " 1.00228215874\n",
        "783169"
       ]
      },
      {
       "output_type": "stream",
       "stream": "stdout",
       "text": [
        " 1.00226901597\n"
       ]
      }
     ],
     "prompt_number": 74
    },
    {
     "cell_type": "code",
     "collapsed": false,
     "input": [
      "200print prime_nums[-200]"
     ],
     "language": "python",
     "metadata": {},
     "outputs": [
      {
       "output_type": "stream",
       "stream": "stdout",
       "text": [
        "97687\n"
       ]
      }
     ],
     "prompt_number": 64
    },
    {
     "cell_type": "code",
     "collapsed": false,
     "input": [
      "nums2797*2801"
     ],
     "language": "python",
     "metadata": {},
     "outputs": [
      {
       "metadata": {},
       "output_type": "pyout",
       "prompt_number": 49,
       "text": [
        "9388087"
       ]
      }
     ],
     "prompt_number": 49
    },
    {
     "cell_type": "code",
     "collapsed": false,
     "input": [
      "print (totient(2797*2801))"
     ],
     "language": "python",
     "metadata": {},
     "outputs": [
      {
       "output_type": "stream",
       "stream": "stdout",
       "text": [
        "7828800\n"
       ]
      }
     ],
     "prompt_number": 50
    },
    {
     "cell_type": "code",
     "collapsed": false,
     "input": [],
     "language": "python",
     "metadata": {},
     "outputs": []
    }
   ],
   "metadata": {}
  }
 ]
}