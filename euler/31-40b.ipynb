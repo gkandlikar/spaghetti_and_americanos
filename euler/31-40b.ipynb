{
 "metadata": {
  "name": ""
 },
 "nbformat": 3,
 "nbformat_minor": 0,
 "worksheets": [
  {
   "cells": [
    {
     "cell_type": "code",
     "collapsed": false,
     "input": [
      "'''\n",
      "200 ==> 200\n",
      "200 ==> 100, 100\n",
      "200 ==> 100, 50, 50\n",
      "200 ==> 100, 50, 30, 20\n",
      "200 ==> 100, 50, 30, 10, 10\n",
      "200 ==> 100, 50, 30, 10, 5, 5\n",
      "200 ==> 100, 50, 30, 10, 5, 3, 2\n",
      "200 ==> 100, 50, 30, 10, 5, 3, 1, 1\n",
      "\n",
      "5 ==> 1, 1, 1, 1, 1\n",
      "5 ==> 1, 1, 1, 2\n",
      "5 ==> 1, 2, 2\n",
      "5 ==> 5\n",
      "'''\n",
      "\n",
      "\n",
      "\n",
      "coins = [1,2,5,10,20,50,100,200]\n",
      "memo = {}\n",
      "\n",
      "\n",
      "def count(amount, idx):\n",
      "    global coins, memo\n",
      "    if amount == 0:\n",
      "        return 1\n",
      "    elif amount < 0:\n",
      "        return 0\n",
      "    elif idx < 0 and amount >= 1:\n",
      "        return 0\n",
      "    else :\n",
      "        if not(amount in memo.keys()):\n",
      "            memo[amount] = count(amount, idx-1)\n",
      "        if not(amount-coins[idx] in memo.keys()):\n",
      "            memo[amount-coins[idx]] = count(amount - coins[idx], idx)\n",
      "        return memo[amount] + memo[amount - coins[idx]]\n",
      "\n",
      "print count(200, 7)\n",
      "  \n",
      "        "
     ],
     "language": "python",
     "metadata": {},
     "outputs": [
      {
       "output_type": "stream",
       "stream": "stdout",
       "text": [
        "8\n"
       ]
      }
     ],
     "prompt_number": 55
    },
    {
     "cell_type": "code",
     "collapsed": false,
     "input": [
      "%%time\n",
      "from itertools import permutations\n",
      "\n",
      "def check_144(num):\n",
      "    plicand = num / 100000000\n",
      "    plier = (num % 100000000) / 10000\n",
      "    product = num % 10000\n",
      "    if plicand * plier == product:\n",
      "        return product\n",
      "    return 0\n",
      "\n",
      "def check_234(num):\n",
      "    plicand = num / 10000000\n",
      "    plier = (num % 10000000) / 10000\n",
      "    product = num % 10000\n",
      "    if plicand * plier == product:\n",
      "        return product\n",
      "    return 0\n",
      "\n",
      "def check_324(num):\n",
      "    plicand = num / 1000000\n",
      "    plier = (num % 1000000) / 10000\n",
      "    product = num % 10000\n",
      "    if plicand * plier == product:\n",
      "        return product\n",
      "    return 0\n",
      "\n",
      "answers=[]\n",
      "\n",
      "for val in permutations('123456789'):\n",
      "    j = int(''.join(val))\n",
      "    if j % 2 == 1: continue\n",
      "    product = (check_144(j), check_234(j))\n",
      "    for val in product:\n",
      "        if val > 0:\n",
      "            print j\n",
      "            answers.append(val)\n",
      "\n",
      "print sum(set(answers))\n",
      "    "
     ],
     "language": "python",
     "metadata": {},
     "outputs": [
      {
       "output_type": "stream",
       "stream": "stdout",
       "text": [
        "124835796\n",
        "182975346"
       ]
      },
      {
       "output_type": "stream",
       "stream": "stdout",
       "text": [
        "\n",
        "271985346"
       ]
      },
      {
       "output_type": "stream",
       "stream": "stdout",
       "text": [
        "\n",
        "281574396\n",
        "391867254"
       ]
      },
      {
       "output_type": "stream",
       "stream": "stdout",
       "text": [
        "\n",
        "417386952\n",
        "419637852\n",
        "421385796\n",
        "481597632"
       ]
      },
      {
       "output_type": "stream",
       "stream": "stdout",
       "text": [
        "\n",
        "45228"
       ]
      },
      {
       "output_type": "stream",
       "stream": "stdout",
       "text": [
        "\n",
        "CPU times: user 951 ms, sys: 72 ms, total: 1.02 s\n",
        "Wall time: 972 ms\n"
       ]
      }
     ],
     "prompt_number": 87
    },
    {
     "cell_type": "code",
     "collapsed": false,
     "input": [
      "num = 123456789\n",
      "    plicand = num / 100000000\n",
      "    plier = (num % 100000000) / 10000\n",
      "    product = num % 10000\n",
      "print plicand, plier, product"
     ],
     "language": "python",
     "metadata": {},
     "outputs": [
      {
       "output_type": "stream",
       "stream": "stdout",
       "text": [
        "1 2345 6789\n"
       ]
      }
     ],
     "prompt_number": 85
    },
    {
     "cell_type": "code",
     "collapsed": false,
     "input": [],
     "language": "python",
     "metadata": {},
     "outputs": []
    }
   ],
   "metadata": {}
  }
 ]
}