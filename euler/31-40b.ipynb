{
 "metadata": {
  "name": ""
 },
 "nbformat": 3,
 "nbformat_minor": 0,
 "worksheets": [
  {
   "cells": [
    {
     "cell_type": "code",
     "collapsed": false,
     "input": [
      "%%time\n",
      "\n",
      "from collections import defaultdict\n",
      "\n",
      "coins = [1,2,5,10,20,50,100,200]\n",
      "memo = defaultdict(int)\n",
      "\n",
      "\n",
      "def count(amount, idx):\n",
      "    global coins, memo\n",
      "    if amount == 0:\n",
      "        return 1\n",
      "    elif amount < 0:\n",
      "        return 0\n",
      "    elif idx < 0 and amount >= 1:\n",
      "        return 0\n",
      "    elif memo[(amount, idx)] > 0:\n",
      "        return memo[(amount, idx)]\n",
      "    else :\n",
      "        memo[(amount, idx)] = count(amount, idx-1) + count(amount - coins[idx], idx)\n",
      "        return memo[(amount, idx)]\n",
      "\n",
      "print count(200, 7)\n",
      "  \n",
      "        "
     ],
     "language": "python",
     "metadata": {},
     "outputs": [
      {
       "output_type": "stream",
       "stream": "stdout",
       "text": [
        "73682\n",
        "CPU times: user 1.95 ms, sys: 1.17 ms, total: 3.11 ms\n",
        "Wall time: 2.39 ms\n"
       ]
      }
     ],
     "prompt_number": 153
    },
    {
     "cell_type": "code",
     "collapsed": false,
     "input": [
      "%%time\n",
      "from itertools import permutations\n",
      "\n",
      "def check_144(num):\n",
      "    plicand = num / 100000000\n",
      "    plier = (num % 100000000) / 10000\n",
      "    product = num % 10000\n",
      "    if plicand * plier == product:\n",
      "        return product\n",
      "    return 0\n",
      "\n",
      "def check_234(num):\n",
      "    plicand = num / 10000000\n",
      "    plier = (num % 10000000) / 10000\n",
      "    product = num % 10000\n",
      "    if plicand * plier == product:\n",
      "        return product\n",
      "    return 0\n",
      "\n",
      "answers=[]\n",
      "\n",
      "for val in permutations('123456789'):\n",
      "    j = int(''.join(val))\n",
      "    if j % 2 == 1: continue\n",
      "    product = (check_144(j), check_234(j))\n",
      "    for val in product:\n",
      "        if val > 0:\n",
      "            print j\n",
      "            answers.append(val)\n",
      "\n",
      "print sum(set(answers))\n",
      "    "
     ],
     "language": "python",
     "metadata": {},
     "outputs": [
      {
       "output_type": "stream",
       "stream": "stdout",
       "text": [
        "124835796\n",
        "182975346"
       ]
      },
      {
       "output_type": "stream",
       "stream": "stdout",
       "text": [
        "\n",
        "271985346"
       ]
      },
      {
       "output_type": "stream",
       "stream": "stdout",
       "text": [
        "\n",
        "281574396\n",
        "391867254"
       ]
      },
      {
       "output_type": "stream",
       "stream": "stdout",
       "text": [
        "\n",
        "417386952\n",
        "419637852\n",
        "421385796\n",
        "481597632"
       ]
      },
      {
       "output_type": "stream",
       "stream": "stdout",
       "text": [
        "\n",
        "45228"
       ]
      },
      {
       "output_type": "stream",
       "stream": "stdout",
       "text": [
        "\n",
        "CPU times: user 1.02 s, sys: 99.3 ms, total: 1.12 s\n",
        "Wall time: 1.05 s\n"
       ]
      }
     ],
     "prompt_number": 88
    },
    {
     "cell_type": "code",
     "collapsed": false,
     "input": [
      "num = 123456789\n",
      "    plicand = num / 100000000\n",
      "    plier = (num % 100000000) / 10000\n",
      "    product = num % 10000\n",
      "print plicand, plier, product"
     ],
     "language": "python",
     "metadata": {},
     "outputs": [
      {
       "output_type": "stream",
       "stream": "stdout",
       "text": [
        "1 2345 6789\n"
       ]
      }
     ],
     "prompt_number": 85
    },
    {
     "cell_type": "code",
     "collapsed": false,
     "input": [
      "\n",
      "        \n",
      "    \n",
      "    "
     ],
     "language": "python",
     "metadata": {},
     "outputs": [
      {
       "output_type": "stream",
       "stream": "stdout",
       "text": [
        "7.61345728522\n",
        "7.82236506964\n",
        "7.7529936731\n"
       ]
      }
     ],
     "prompt_number": 95
    },
    {
     "cell_type": "code",
     "collapsed": false,
     "input": [
      "a = [1,2,3,4]\n",
      "a[1]+=1\n",
      "print a"
     ],
     "language": "python",
     "metadata": {},
     "outputs": [
      {
       "output_type": "stream",
       "stream": "stdout",
       "text": [
        "[1, 3, 3, 4]\n"
       ]
      }
     ],
     "prompt_number": 101
    },
    {
     "cell_type": "code",
     "collapsed": false,
     "input": [],
     "language": "python",
     "metadata": {},
     "outputs": [
      {
       "output_type": "stream",
       "stream": "stdout",
       "text": [
        "127035954683\n"
       ]
      }
     ],
     "prompt_number": 108
    },
    {
     "cell_type": "code",
     "collapsed": false,
     "input": [
      "'''\n",
      "\n",
      "\n",
      "It is possible to write ten as the sum of primes in exactly five different ways:\n",
      "\n",
      "7 + 3\n",
      "5 + 5\n",
      "5 + 3 + 2\n",
      "3 + 3 + 2 + 2\n",
      "2 + 2 + 2 + 2 + 2\n",
      "\n",
      "What is the first value which can be written as the sum of primes in over five thousand different ways?\n",
      "\n",
      "'''\n",
      "from math import sqrt\n",
      "from collections import defaultdict\n",
      "\n",
      "memo = defaultdict(int)\n",
      "primes = []\n",
      "\n",
      "def is_prime(x):\n",
      "    done = True\n",
      "    for fac in range(2,int(sqrt(x)) + 1):\n",
      "        if x % fac == 0:\n",
      "            done = False\n",
      "            break\n",
      "    return done\n",
      "\n",
      "def count(num, idx):\n",
      "    global primes, memo\n",
      "    if num == 0:\n",
      "        return 1\n",
      "    elif num < 0:\n",
      "        return 0\n",
      "    elif idx < 0 and num >= 1:\n",
      "        return 0\n",
      "    elif memo[(num, idx)] > 0:\n",
      "        return memo[(num, idx)]\n",
      "    else :\n",
      "        memo[(num, idx)] = count(num, idx-1) + count(num - primes[idx], idx)\n",
      "        return memo[(num, idx)]\n",
      "\n",
      "i = 1\n",
      "max_num = 5000\n",
      "while True:\n",
      "    i += 1\n",
      "    if is_prime(i):\n",
      "        primes.append(i)\n",
      "    if count(i, len(primes)-1) >= max_num:\n",
      "        print i\n",
      "        break\n",
      "        "
     ],
     "language": "python",
     "metadata": {},
     "outputs": [
      {
       "output_type": "stream",
       "stream": "stdout",
       "text": [
        "71\n"
       ]
      }
     ],
     "prompt_number": 156
    },
    {
     "cell_type": "code",
     "collapsed": false,
     "input": [],
     "language": "python",
     "metadata": {},
     "outputs": [
      {
       "output_type": "stream",
       "stream": "stdout",
       "text": [
        "190569291\n"
       ]
      }
     ],
     "prompt_number": 157
    },
    {
     "cell_type": "code",
     "collapsed": false,
     "input": [],
     "language": "python",
     "metadata": {},
     "outputs": [
      {
       "ename": "SyntaxError",
       "evalue": "invalid syntax (<ipython-input-152-7b242c43a204>, line 6)",
       "output_type": "pyerr",
       "traceback": [
        "\u001b[0;36m  File \u001b[0;32m\"<ipython-input-152-7b242c43a204>\"\u001b[0;36m, line \u001b[0;32m6\u001b[0m\n\u001b[0;31m    return c = 5\u001b[0m\n\u001b[0m             ^\u001b[0m\n\u001b[0;31mSyntaxError\u001b[0m\u001b[0;31m:\u001b[0m invalid syntax\n"
       ]
      }
     ],
     "prompt_number": 152
    },
    {
     "cell_type": "code",
     "collapsed": false,
     "input": [
      "lowest_denom, highest_denom = 3\n"
     ],
     "language": "python",
     "metadata": {},
     "outputs": [
      {
       "metadata": {},
       "output_type": "pyout",
       "prompt_number": 134,
       "text": [
        "[]"
       ]
      }
     ],
     "prompt_number": 134
    },
    {
     "cell_type": "code",
     "collapsed": false,
     "input": [
      "count = 0\n",
      "max_d = 12000\n",
      "\n",
      "from fractions import gcd\n",
      "\n",
      "for d in range(1, max_d + 1):\n",
      "    for i in range((d/3)+1, d/2+1):\n",
      "        if d % i == 0:\n",
      "            continue\n",
      "        if gcd(i, d) > 1:\n",
      "            continue\n",
      "        count += 1\n",
      "\n",
      "print count"
     ],
     "language": "python",
     "metadata": {},
     "outputs": [
      {
       "output_type": "stream",
       "stream": "stdout",
       "text": [
        "7295372\n"
       ]
      }
     ],
     "prompt_number": 191
    },
    {
     "cell_type": "code",
     "collapsed": false,
     "input": [
      "from collections import defaultdict\n",
      "count = 0\n",
      "L = 120\n",
      "max_m = 1 + int((((8 * L + 1) ** 0.5) + 1) / 4)\n",
      "counts = defaultdict(int)\n",
      "\n",
      "for m in range(2, max_m):\n",
      "    for n in range(1, m):\n",
      "        perim = 2*m*(m+n)\n",
      "        if perim > L : \n",
      "            continue\n",
      "        if counts[perim] >= 1:\n",
      "            continue\n",
      "        counts[perim] += 1\n",
      "        if perim == 120:\n",
      "            print m, n\n",
      "        for mult in range(2 * perim, L + 1, perim):\n",
      "            if mult == 120:\n",
      "                print \"mult\", m, n, \"perim\", perim\n",
      "            counts[mult] += 1\n",
      "print counts   \n",
      "print len(filter(lambda x: x == 1, counts.values()))"
     ],
     "language": "python",
     "metadata": {},
     "outputs": [
      {
       "output_type": "stream",
       "stream": "stdout",
       "text": [
        "mult 2 1 perim 12\n",
        "mult 3 2 perim 30\n",
        "mult 4 1 perim 40\n",
        "defaultdict(<type 'int'>, {96: 1, 80: 1, 36: 1, 56: 1, 70: 1, 72: 1, 108: 1, 12: 1, 112: 1, 48: 1, 120: 3, 84: 1, 40: 1, 24: 1, 90: 1, 60: 2, 30: 1})\n",
        "15\n"
       ]
      }
     ],
     "prompt_number": 274
    },
    {
     "cell_type": "code",
     "collapsed": false,
     "input": [
      "from collections import defaultdict\n",
      "max_L = 120\n",
      "i = 0\n",
      "counts_2 = defaultdict(int)\n",
      "for i in range(2, 9):\n",
      "    for j in range(1, i):\n",
      "        sides = sum((i*i - j*j, 2*i*j, i*i+j*j))\n",
      "        if sides > max_L:\n",
      "            continue\n",
      "        for mult in range (sides, max_L+1, sides):\n",
      "            counts_2[mult] += 1"
     ],
     "language": "python",
     "metadata": {},
     "outputs": [],
     "prompt_number": 10
    },
    {
     "cell_type": "code",
     "collapsed": false,
     "input": [
      "print counts_2"
     ],
     "language": "python",
     "metadata": {},
     "outputs": [
      {
       "output_type": "stream",
       "stream": "stdout",
       "text": [
        "defaultdict(<type 'int'>, {96: 4, 80: 2, 36: 1, 56: 1, 70: 1, 72: 2, 108: 2, 12: 1, 112: 2, 48: 3, 120: 6, 84: 2, 40: 1, 24: 2, 90: 2, 60: 3, 30: 1})\n"
       ]
      }
     ],
     "prompt_number": 11
    },
    {
     "cell_type": "code",
     "collapsed": false,
     "input": [
      "'''\n",
      "\n",
      "\n",
      "Consider the fraction, n/d, where n and d are positive integers. If n<d and HCF(n,d)=1, it is called a reduced proper fraction.\n",
      "\n",
      "If we list the set of reduced proper fractions for d \u2264 8 in ascending order of size, we get:\n",
      "\n",
      "1/8, 1/7, 1/6, 1/5, 1/4, 2/7, 1/3, 3/8, 2/5, 3/7, 1/2, 4/7, 3/5, 5/8, 2/3, 5/7, 3/4, 4/5, 5/6, 6/7, 7/8\n",
      "\n",
      "It can be seen that 2/5 is the fraction immediately to the left of 3/7.\n",
      "\n",
      "By listing the set of reduced proper fractions for d \u2264 1,000,000 in ascending order of size, find the numerator of the fraction immediately to the left of 3/7.\n",
      "\n",
      "'''\n",
      "\n",
      "max_d = 1000000\n",
      "\n",
      "props, ators = [], []\n",
      "\n",
      "from fractions import gcd\n",
      "\n",
      "for d in range(1, max_d + 1):\n",
      "    min_i = max(1+2*d/5, 3*d/7-10)\n",
      "    for i in range(min_i, 3*d/7 + 1):\n",
      "        #print i, d\n",
      "        if d % i == 0:\n",
      "            continue\n",
      "        if gcd(i, d) > 1:\n",
      "            continue\n",
      "        ators.append((i, d))\n",
      "        \n",
      "for val in ators:\n",
      "    props.append(val[0]*1.0/val[1])\n",
      "\n",
      "combo = zip(props, ators)\n",
      "\n",
      "props, ators = zip(*sorted(combo, key=lambda x: x[0]))\n",
      "\n",
      "print ators[ators.index((3,7)) - 1]\n",
      "\n",
      "        "
     ],
     "language": "python",
     "metadata": {},
     "outputs": [
      {
       "output_type": "stream",
       "stream": "stdout",
       "text": [
        "(428570, 999997)\n"
       ]
      }
     ],
     "prompt_number": 49
    },
    {
     "cell_type": "code",
     "collapsed": false,
     "input": [],
     "language": "python",
     "metadata": {},
     "outputs": []
    }
   ],
   "metadata": {}
  }
 ]
}