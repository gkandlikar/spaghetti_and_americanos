{
 "metadata": {
  "name": ""
 },
 "nbformat": 3,
 "nbformat_minor": 0,
 "worksheets": [
  {
   "cells": [
    {
     "cell_type": "heading",
     "level": 1,
     "metadata": {},
     "source": [
      "Working with NPI files from CMS."
     ]
    },
    {
     "cell_type": "heading",
     "level": 2,
     "metadata": {},
     "source": [
      "Goals:"
     ]
    },
    {
     "cell_type": "markdown",
     "metadata": {},
     "source": [
      "1. Download data\n",
      "2. Load it all into a postgresql database. \n",
      "3. Filter for specific org types like pharmacy, physicians, pharmacists, etc."
     ]
    },
    {
     "cell_type": "heading",
     "level": 2,
     "metadata": {},
     "source": [
      "What I do not cover:"
     ]
    },
    {
     "cell_type": "markdown",
     "metadata": {},
     "source": [
      "This is the first day in my life during which \n",
      "I've used SQL for more than a couple of hours.\n",
      "\n",
      "I am by no means an expert.\n",
      "\n",
      "I ran into a lot of crappy stuff.\n",
      "Usually not the kind where the solution is apparent\n",
      "to the beginner programmer from a quick internet search.\n",
      "Try to figure out. If you can't figure it out, \n",
      "ask your friends. I don't know if I'll be of much help,\n",
      "but you can feel free to send me an email.\n",
      "Presumably you already know it."
     ]
    },
    {
     "cell_type": "heading",
     "level": 3,
     "metadata": {},
     "source": [
      "Downloading Data"
     ]
    },
    {
     "cell_type": "markdown",
     "metadata": {},
     "source": [
      "Download file from here: http://nppes.viva-it.com/NPI_Files.html\n",
      "<br>\n",
      "Unzip it\n"
     ]
    },
    {
     "cell_type": "heading",
     "level": 3,
     "metadata": {},
     "source": [
      "Loading data into Postgresql"
     ]
    },
    {
     "cell_type": "heading",
     "level": 4,
     "metadata": {},
     "source": [
      "Creating a database"
     ]
    },
    {
     "cell_type": "markdown",
     "metadata": {},
     "source": [
      "Well, that was the easy part. Now for the more challenging ones.\n",
      "We want to load the data into a postgres db.\n",
      "\n",
      "So we shall create a database."
     ]
    },
    {
     "cell_type": "code",
     "collapsed": false,
     "input": [
      "<user>= CREATE DATABASE your_db_name;\n",
      "<user>= \\c your_db_name;\n",
      "You are now connected to database \"your_db_name\" as user \"<user>\"."
     ],
     "language": "python",
     "metadata": {},
     "outputs": []
    },
    {
     "cell_type": "heading",
     "level": 4,
     "metadata": {},
     "source": [
      "Creating a Table"
     ]
    },
    {
     "cell_type": "markdown",
     "metadata": {},
     "source": [
      "That was simple enough.\n",
      "Well, we can't load the data directly into the database without having a schema specified already.\n",
      "We'll have to create a schema for this file with 330 columns.\n",
      "No fear, Gautam is here. "
     ]
    },
    {
     "cell_type": "heading",
     "level": 3,
     "metadata": {},
     "source": [
      "Start unnecessarily long SQL script"
     ]
    },
    {
     "cell_type": "code",
     "collapsed": false,
     "input": [
      "drop table if exists all_pharmacies;\n",
      "create table all_pharmacies\n",
      "(npi int primary key not null,\n",
      "entity_type_code int,\n",
      "replacement_npi int,\n",
      "employer_identifier varchar(9),\n",
      "prov_org_name_aka_legal_bus_name varchar(70),\n",
      "prov_last_name_aka_legal_name varchar(35),\n",
      "prov_first_name varchar(20),\n",
      "prov_middle_name varchar(20),\n",
      "prov_name_prefix_text varchar(5),\n",
      "prov_name_suffix_text varchar(5),\n",
      "prov_credential_text varchar(20),\n",
      "prov_oth_org_name varchar(70),\n",
      "prov_oth_org_name_type_code varchar(1),\n",
      "prov_oth_last_name varchar(35),\n",
      "prov_oth_first_name varchar(20),\n",
      "prov_oth_middle_name varchar(20),\n",
      "prov_oth_name_prefix_text varchar(5),\n",
      "prov_oth_name_suffix_text varchar(5),\n",
      "prov_oth_credential_text varchar(20),\n",
      "prov_oth_last_name_type_code int,\n",
      "prov_first_line_bus_maddr varchar(55),\n",
      "prov_second_line_bus_maddr varchar(55),\n",
      "prov_bus_maddr_city_name varchar(40),\n",
      "prov_bus_maddr_state_name varchar(40),\n",
      "prov_bus_maddr_postal_code varchar(20),\n",
      "prov_bus_maddr_country_code varchar(2),\n",
      "prov_bus_maddr_telephone_num varchar(20),\n",
      "prov_bus_maddr_fax_num varchar(20),\n",
      "prov_first_line_bus_loc_address varchar(55),\n",
      "prov_second_line_bus_loc_address varchar(55),\n",
      "prov_bus_loc_addr_city_name varchar(40),\n",
      "prov_bus_loc_addr_state_name varchar(40),\n",
      "prov_bus_loc_addr_postal_code varchar(20),\n",
      "prov_bus_loc_addr_country_code varchar(2),\n",
      "prov_bus_loc_addr_telephone_num varchar(20),\n",
      "prov_bus_loc_addr_fax_num varchar(20),\n",
      "prov_enumeration_date DATE,\n",
      "last_update_date DATE,\n",
      "npi_deactivation_reason_code varchar(2),\n",
      "npi_deactivation_date DATE,\n",
      "npi_reactivation_date DATE,\n",
      "prov_gender_code varchar(1),\n",
      "auth_off_last_name varchar(35),\n",
      "auth_off_first_name varchar(20),\n",
      "auth_off_middle_name varchar(20),\n",
      "auth_off_title varchar(35),\n",
      "auth_off_telephone_num varchar(20),\n",
      "hc_prov_tx_code_1 varchar(10),\n",
      "prov_lic_num_1 varchar(20),\n",
      "prov_lic_num_state_code_1 varchar(2),\n",
      "hc_prov_primary_tx_switch_1 varchar(1),\n",
      "hc_prov_tx_code_2 varchar(10),\n",
      "prov_lic_num_2 varchar(20),\n",
      "prov_lic_num_state_code_2 varchar(2),\n",
      "hc_prov_primary_tx_switch_2 varchar(1),\n",
      "hc_prov_tx_code_3 varchar(10),\n",
      "prov_lic_num_3 varchar(20),\n",
      "prov_lic_num_state_code_3 varchar(2),\n",
      "hc_prov_primary_tx_switch_3 varchar(1),\n",
      "hc_prov_tx_code_4 varchar(10),\n",
      "prov_lic_num_4 varchar(20),\n",
      "prov_lic_num_state_code_4 varchar(2),\n",
      "hc_prov_primary_tx_switch_4 varchar(1),\n",
      "hc_prov_tx_code_5 varchar(10),\n",
      "prov_lic_num_5 varchar(20),\n",
      "prov_lic_num_state_code_5 varchar(2),\n",
      "hc_prov_primary_tx_switch_5 varchar(1),\n",
      "hc_prov_tx_code_6 varchar(10),\n",
      "prov_lic_num_6 varchar(20),\n",
      "prov_lic_num_state_code_6 varchar(2),\n",
      "hc_prov_primary_tx_switch_6 varchar(1),\n",
      "hc_prov_tx_code_7 varchar(10),\n",
      "prov_lic_num_7 varchar(20),\n",
      "prov_lic_num_state_code_7 varchar(2),\n",
      "hc_prov_primary_tx_switch_7 varchar(1),\n",
      "hc_prov_tx_code_8 varchar(10),\n",
      "prov_lic_num_8 varchar(20),\n",
      "prov_lic_num_state_code_8 varchar(2),\n",
      "hc_prov_primary_tx_switch_8 varchar(1),\n",
      "hc_prov_tx_code_9 varchar(10),\n",
      "prov_lic_num_9 varchar(20),\n",
      "prov_lic_num_state_code_9 varchar(2),\n",
      "hc_prov_primary_tx_switch_9 varchar(1),\n",
      "hc_prov_tx_code_10 varchar(10),\n",
      "prov_lic_num_10 varchar(20),\n",
      "prov_lic_num_state_code_10 varchar(2),\n",
      "hc_prov_primary_tx_switch_10 varchar(1),\n",
      "hc_prov_tx_code_11 varchar(10),\n",
      "prov_lic_num_11 varchar(20),\n",
      "prov_lic_num_state_code_11 varchar(2),\n",
      "hc_prov_primary_tx_switch_11 varchar(1),\n",
      "hc_prov_tx_code_12 varchar(10),\n",
      "prov_lic_num_12 varchar(20),\n",
      "prov_lic_num_state_code_12 varchar(2),\n",
      "hc_prov_primary_tx_switch_12 varchar(1),\n",
      "hc_prov_tx_code_13 varchar(10),\n",
      "prov_lic_num_13 varchar(20),\n",
      "prov_lic_num_state_code_13 varchar(2),\n",
      "hc_prov_primary_tx_switch_13 varchar(1),\n",
      "hc_prov_tx_code_14 varchar(10),\n",
      "prov_lic_num_14 varchar(20),\n",
      "prov_lic_num_state_code_14 varchar(2),\n",
      "hc_prov_primary_tx_switch_14 varchar(1),\n",
      "hc_prov_tx_code_15 varchar(10),\n",
      "prov_lic_num_15 varchar(20),\n",
      "prov_lic_num_state_code_15 varchar(2),\n",
      "hc_prov_primary_tx_switch_15 varchar(1),\n",
      "oth_prov_id_1 varchar(20),\n",
      "oth_prov_id_type_code_1 varchar(2),\n",
      "oth_prov_id_state_1 varchar(2),\n",
      "oth_prov_id_issuer_1 varchar(80),\n",
      "oth_prov_id_2 varchar(20),\n",
      "oth_prov_id_type_code_2 varchar(2),\n",
      "oth_prov_id_state_2 varchar(2),\n",
      "oth_prov_id_issuer_2 varchar(80),\n",
      "oth_prov_id_3 varchar(20),\n",
      "oth_prov_id_type_code_3 varchar(2),\n",
      "oth_prov_id_state_3 varchar(2),\n",
      "oth_prov_id_issuer_3 varchar(80),\n",
      "oth_prov_id_4 varchar(20),\n",
      "oth_prov_id_type_code_4 varchar(2),\n",
      "oth_prov_id_state_4 varchar(2),\n",
      "oth_prov_id_issuer_4 varchar(80),\n",
      "oth_prov_id_5 varchar(20),\n",
      "oth_prov_id_type_code_5 varchar(2),\n",
      "oth_prov_id_state_5 varchar(2),\n",
      "oth_prov_id_issuer_5 varchar(80),\n",
      "oth_prov_id_6 varchar(20),\n",
      "oth_prov_id_type_code_6 varchar(2),\n",
      "oth_prov_id_state_6 varchar(2),\n",
      "oth_prov_id_issuer_6 varchar(80),\n",
      "oth_prov_id_7 varchar(20),\n",
      "oth_prov_id_type_code_7 varchar(2),\n",
      "oth_prov_id_state_7 varchar(2),\n",
      "oth_prov_id_issuer_7 varchar(80),\n",
      "oth_prov_id_8 varchar(20),\n",
      "oth_prov_id_type_code_8 varchar(2),\n",
      "oth_prov_id_state_8 varchar(2),\n",
      "oth_prov_id_issuer_8 varchar(80),\n",
      "oth_prov_id_9 varchar(20),\n",
      "oth_prov_id_type_code_9 varchar(2),\n",
      "oth_prov_id_state_9 varchar(2),\n",
      "oth_prov_id_issuer_9 varchar(80),\n",
      "oth_prov_id_10 varchar(20),\n",
      "oth_prov_id_type_code_10 varchar(2),\n",
      "oth_prov_id_state_10 varchar(2),\n",
      "oth_prov_id_issuer_10 varchar(80),\n",
      "oth_prov_id_11 varchar(20),\n",
      "oth_prov_id_type_code_11 varchar(2),\n",
      "oth_prov_id_state_11 varchar(2),\n",
      "oth_prov_id_issuer_11 varchar(80),\n",
      "oth_prov_id_12 varchar(20),\n",
      "oth_prov_id_type_code_12 varchar(2),\n",
      "oth_prov_id_state_12 varchar(2),\n",
      "oth_prov_id_issuer_12 varchar(80),\n",
      "oth_prov_id_13 varchar(20),\n",
      "oth_prov_id_type_code_13 varchar(2),\n",
      "oth_prov_id_state_13 varchar(2),\n",
      "oth_prov_id_issuer_13 varchar(80),\n",
      "oth_prov_id_14 varchar(20),\n",
      "oth_prov_id_type_code_14 varchar(2),\n",
      "oth_prov_id_state_14 varchar(2),\n",
      "oth_prov_id_issuer_14 varchar(80),\n",
      "oth_prov_id_15 varchar(20),\n",
      "oth_prov_id_type_code_15 varchar(2),\n",
      "oth_prov_id_state_15 varchar(2),\n",
      "oth_prov_id_issuer_15 varchar(80),\n",
      "oth_prov_id_16 varchar(20),\n",
      "oth_prov_id_type_code_16 varchar(2),\n",
      "oth_prov_id_state_16 varchar(2),\n",
      "oth_prov_id_issuer_16 varchar(80),\n",
      "oth_prov_id_17 varchar(20),\n",
      "oth_prov_id_type_code_17 varchar(2),\n",
      "oth_prov_id_state_17 varchar(2),\n",
      "oth_prov_id_issuer_17 varchar(80),\n",
      "oth_prov_id_18 varchar(20),\n",
      "oth_prov_id_type_code_18 varchar(2),\n",
      "oth_prov_id_state_18 varchar(2),\n",
      "oth_prov_id_issuer_18 varchar(80),\n",
      "oth_prov_id_19 varchar(20),\n",
      "oth_prov_id_type_code_19 varchar(2),\n",
      "oth_prov_id_state_19 varchar(2),\n",
      "oth_prov_id_issuer_19 varchar(80),\n",
      "oth_prov_id_20 varchar(20),\n",
      "oth_prov_id_type_code_20 varchar(2),\n",
      "oth_prov_id_state_20 varchar(2),\n",
      "oth_prov_id_issuer_20 varchar(80),\n",
      "oth_prov_id_21 varchar(20),\n",
      "oth_prov_id_type_code_21 varchar(2),\n",
      "oth_prov_id_state_21 varchar(2),\n",
      "oth_prov_id_issuer_21 varchar(80),\n",
      "oth_prov_id_22 varchar(20),\n",
      "oth_prov_id_type_code_22 varchar(2),\n",
      "oth_prov_id_state_22 varchar(2),\n",
      "oth_prov_id_issuer_22 varchar(80),\n",
      "oth_prov_id_23 varchar(20),\n",
      "oth_prov_id_type_code_23 varchar(2),\n",
      "oth_prov_id_state_23 varchar(2),\n",
      "oth_prov_id_issuer_23 varchar(80),\n",
      "oth_prov_id_24 varchar(20),\n",
      "oth_prov_id_type_code_24 varchar(2),\n",
      "oth_prov_id_state_24 varchar(2),\n",
      "oth_prov_id_issuer_24 varchar(80),\n",
      "oth_prov_id_25 varchar(20),\n",
      "oth_prov_id_type_code_25 varchar(2),\n",
      "oth_prov_id_state_25 varchar(2),\n",
      "oth_prov_id_issuer_25 varchar(80),\n",
      "oth_prov_id_26 varchar(20),\n",
      "oth_prov_id_type_code_26 varchar(2),\n",
      "oth_prov_id_state_26 varchar(2),\n",
      "oth_prov_id_issuer_26 varchar(80),\n",
      "oth_prov_id_27 varchar(20),\n",
      "oth_prov_id_type_code_27 varchar(2),\n",
      "oth_prov_id_state_27 varchar(2),\n",
      "oth_prov_id_issuer_27 varchar(80),\n",
      "oth_prov_id_28 varchar(20),\n",
      "oth_prov_id_type_code_28 varchar(2),\n",
      "oth_prov_id_state_28 varchar(2),\n",
      "oth_prov_id_issuer_28 varchar(80),\n",
      "oth_prov_id_29 varchar(20),\n",
      "oth_prov_id_type_code_29 varchar(2),\n",
      "oth_prov_id_state_29 varchar(2),\n",
      "oth_prov_id_issuer_29 varchar(80),\n",
      "oth_prov_id_30 varchar(20),\n",
      "oth_prov_id_type_code_30 varchar(2),\n",
      "oth_prov_id_state_30 varchar(2),\n",
      "oth_prov_id_issuer_30 varchar(80),\n",
      "oth_prov_id_31 varchar(20),\n",
      "oth_prov_id_type_code_31 varchar(2),\n",
      "oth_prov_id_state_31 varchar(2),\n",
      "oth_prov_id_issuer_31 varchar(80),\n",
      "oth_prov_id_32 varchar(20),\n",
      "oth_prov_id_type_code_32 varchar(2),\n",
      "oth_prov_id_state_32 varchar(2),\n",
      "oth_prov_id_issuer_32 varchar(80),\n",
      "oth_prov_id_33 varchar(20),\n",
      "oth_prov_id_type_code_33 varchar(2),\n",
      "oth_prov_id_state_33 varchar(2),\n",
      "oth_prov_id_issuer_33 varchar(80),\n",
      "oth_prov_id_34 varchar(20),\n",
      "oth_prov_id_type_code_34 varchar(2),\n",
      "oth_prov_id_state_34 varchar(2),\n",
      "oth_prov_id_issuer_34 varchar(80),\n",
      "oth_prov_id_35 varchar(20),\n",
      "oth_prov_id_type_code_35 varchar(2),\n",
      "oth_prov_id_state_35 varchar(2),\n",
      "oth_prov_id_issuer_35 varchar(80),\n",
      "oth_prov_id_36 varchar(20),\n",
      "oth_prov_id_type_code_36 varchar(2),\n",
      "oth_prov_id_state_36 varchar(2),\n",
      "oth_prov_id_issuer_36 varchar(80),\n",
      "oth_prov_id_37 varchar(20),\n",
      "oth_prov_id_type_code_37 varchar(2),\n",
      "oth_prov_id_state_37 varchar(2),\n",
      "oth_prov_id_issuer_37 varchar(80),\n",
      "oth_prov_id_38 varchar(20),\n",
      "oth_prov_id_type_code_38 varchar(2),\n",
      "oth_prov_id_state_38 varchar(2),\n",
      "oth_prov_id_issuer_38 varchar(80),\n",
      "oth_prov_id_39 varchar(20),\n",
      "oth_prov_id_type_code_39 varchar(2),\n",
      "oth_prov_id_state_39 varchar(2),\n",
      "oth_prov_id_issuer_39 varchar(80),\n",
      "oth_prov_id_40 varchar(20),\n",
      "oth_prov_id_type_code_40 varchar(2),\n",
      "oth_prov_id_state_40 varchar(2),\n",
      "oth_prov_id_issuer_40 varchar(80),\n",
      "oth_prov_id_41 varchar(20),\n",
      "oth_prov_id_type_code_41 varchar(2),\n",
      "oth_prov_id_state_41 varchar(2),\n",
      "oth_prov_id_issuer_41 varchar(80),\n",
      "oth_prov_id_42 varchar(20),\n",
      "oth_prov_id_type_code_42 varchar(2),\n",
      "oth_prov_id_state_42 varchar(2),\n",
      "oth_prov_id_issuer_42 varchar(80),\n",
      "oth_prov_id_43 varchar(20),\n",
      "oth_prov_id_type_code_43 varchar(2),\n",
      "oth_prov_id_state_43 varchar(2),\n",
      "oth_prov_id_issuer_43 varchar(80),\n",
      "oth_prov_id_44 varchar(20),\n",
      "oth_prov_id_type_code_44 varchar(2),\n",
      "oth_prov_id_state_44 varchar(2),\n",
      "oth_prov_id_issuer_44 varchar(80),\n",
      "oth_prov_id_45 varchar(20),\n",
      "oth_prov_id_type_code_45 varchar(2),\n",
      "oth_prov_id_state_45 varchar(2),\n",
      "oth_prov_id_issuer_45 varchar(80),\n",
      "oth_prov_id_46 varchar(20),\n",
      "oth_prov_id_type_code_46 varchar(2),\n",
      "oth_prov_id_state_46 varchar(2),\n",
      "oth_prov_id_issuer_46 varchar(80),\n",
      "oth_prov_id_47 varchar(20),\n",
      "oth_prov_id_type_code_47 varchar(2),\n",
      "oth_prov_id_state_47 varchar(2),\n",
      "oth_prov_id_issuer_47 varchar(80),\n",
      "oth_prov_id_48 varchar(20),\n",
      "oth_prov_id_type_code_48 varchar(2),\n",
      "oth_prov_id_state_48 varchar(2),\n",
      "oth_prov_id_issuer_48 varchar(80),\n",
      "oth_prov_id_49 varchar(20),\n",
      "oth_prov_id_type_code_49 varchar(2),\n",
      "oth_prov_id_state_49 varchar(2),\n",
      "oth_prov_id_issuer_49 varchar(80),\n",
      "oth_prov_id_50 varchar(20),\n",
      "oth_prov_id_type_code_50 varchar(2),\n",
      "oth_prov_id_state_50 varchar(2),\n",
      "oth_prov_id_issuer_50 varchar(80),\n",
      "is_sole_proprietor varchar(1),\n",
      "is_org_subpart varchar(1),\n",
      "parent_org_lbn varchar(70),\n",
      "parent_organizaiton_tin varchar(9),\n",
      "auth_off_name_prefix_text varchar(5),\n",
      "auth_off_name_suffix_text varchar(5),\n",
      "auth_off_credential_text varchar(20),\n",
      "hc_prov_tx_grp_1 varchar(70),\n",
      "hc_prov_tx_grp_2 varchar(70),\n",
      "hc_prov_tx_grp_3 varchar(70),\n",
      "hc_prov_tx_grp_4 varchar(70),\n",
      "hc_prov_tx_grp_5 varchar(70),\n",
      "hc_prov_tx_grp_6 varchar(70),\n",
      "hc_prov_tx_grp_7 varchar(70),\n",
      "hc_prov_tx_grp_8 varchar(70),\n",
      "hc_prov_tx_grp_9 varchar(70),\n",
      "hc_prov_tx_grp_10 varchar(70),\n",
      "hc_prov_tx_grp_11 varchar(70),\n",
      "hc_prov_tx_grp_12 varchar(70),\n",
      "hc_prov_tx_grp_13 varchar(70),\n",
      "hc_prov_tx_grp_14 varchar(70),\n",
      "hc_prov_tx_grp_15 varchar(70));"
     ],
     "language": "python",
     "metadata": {},
     "outputs": []
    },
    {
     "cell_type": "heading",
     "level": 3,
     "metadata": {},
     "source": [
      "End of long SQL Script"
     ]
    },
    {
     "cell_type": "heading",
     "level": 4,
     "metadata": {},
     "source": [
      "Verifying what we did worked"
     ]
    },
    {
     "cell_type": "markdown",
     "metadata": {},
     "source": [
      "You can use psql commands \\dt and \\d to view information about your table\n",
      "and the columns in your table. For instance, see the below."
     ]
    },
    {
     "cell_type": "code",
     "collapsed": false,
     "input": [
      "\\dt\n",
      "           List of relations\n",
      " Schema |     Name     | Type  | Owner \n",
      "--------+--------------+-------+-------\n",
      " public | all_npi_data | table | gk\n",
      "(1 row)\n",
      "\n"
     ],
     "language": "python",
     "metadata": {},
     "outputs": []
    },
    {
     "cell_type": "heading",
     "level": 4,
     "metadata": {},
     "source": [
      "Massaging Data"
     ]
    },
    {
     "cell_type": "markdown",
     "metadata": {},
     "source": [
      "Before we can work with the raw file, we have to massage it a bit.\n",
      "The data isn't directly loadable into postgres.\n",
      "You will run into errors. Go ahead, try the following:"
     ]
    },
    {
     "cell_type": "code",
     "collapsed": false,
     "input": [
      "copy all_npi_data from '~/Desktop/data_sci/npi/npidata.csv' with csv header;"
     ],
     "language": "python",
     "metadata": {},
     "outputs": []
    },
    {
     "cell_type": "markdown",
     "metadata": {},
     "source": [
      "For instance, I see this error:\n"
     ]
    },
    {
     "cell_type": "code",
     "collapsed": false,
     "input": [
      "ERROR:  invalid input syntax for integer: \"\"\n",
      "CONTEXT:  COPY all_npi_data, line 2, column replacement_npi: \"\"\n"
     ],
     "language": "python",
     "metadata": {},
     "outputs": []
    },
    {
     "cell_type": "markdown",
     "metadata": {},
     "source": [
      "\n",
      "The error is essentially saying that you if you are trying to import a value into an integer, you can't import an empty string (which is different from a NULL)"
     ]
    },
    {
     "cell_type": "markdown",
     "metadata": {},
     "source": [
      "We use some unix magic. You likely have 'sed' installed on your machine.\n",
      "\n",
      "Use it to replace the occurrence of \"\" with nothing.\n",
      "\n",
      "There is an excellent tutorial here: http://www.grymoire.com/Unix/Sed.html#uh-1."
     ]
    },
    {
     "cell_type": "code",
     "collapsed": false,
     "input": [
      "GKs-MacBook-Air:~ gk$ cd folder/where/your/file/is\n",
      "GKs-MacBook-Air:npi gk$ sed 's/\"\"//g' <npidata.csv >npidata-formatted.csv"
     ],
     "language": "python",
     "metadata": {},
     "outputs": []
    },
    {
     "cell_type": "heading",
     "level": 4,
     "metadata": {},
     "source": [
      "Loading Data"
     ]
    },
    {
     "cell_type": "markdown",
     "metadata": {},
     "source": [
      "Congrats, you are now ready to load the data!"
     ]
    },
    {
     "cell_type": "code",
     "collapsed": false,
     "input": [
      "copy all_npi_data from '/Users/gk/Desktop/data_sci/npi/full-formatted.csv' with csv header;"
     ],
     "language": "python",
     "metadata": {},
     "outputs": []
    },
    {
     "cell_type": "heading",
     "level": 4,
     "metadata": {},
     "source": [
      "Running Queries"
     ]
    },
    {
     "cell_type": "markdown",
     "metadata": {},
     "source": [
      "You can now begin to run queries! Here are some simple ones that I thought of. \n",
      "The queries are rather annoying because of how I named my tables, but you can be smarter\n",
      "and avoid having complex names!"
     ]
    },
    {
     "cell_type": "code",
     "collapsed": false,
     "input": [
      "SELECT npi,entity_type_code as entitytype,\n",
      "provider_business_mailing_address_city_name as city,provider_first_name as first_name,\n",
      "provider_business_mailing_address_state_name as state\n",
      "FROM all_npi_data\n",
      "WHERE provider_last_name_aka_legal_name like 'KANDLIKAR';\n",
      "\n",
      "For the sake of preventing creepiness, I am going to de-identify the data. \n",
      "Though if you really wanted to look this up, this is very easy to do.\n",
      "\n",
      "\n",
      "    npi     | entitytype |     city     | first_name | state \n",
      "------------+------------+--------------+------------+-------\n",
      " ********** |          1 | *********    | *****      | **\n",
      " ********** |          1 | ************ | *****      | **\n",
      "(2 rows)"
     ],
     "language": "python",
     "metadata": {},
     "outputs": []
    },
    {
     "cell_type": "heading",
     "level": 4,
     "metadata": {},
     "source": [
      "Finding Pharmacies"
     ]
    },
    {
     "cell_type": "markdown",
     "metadata": {},
     "source": [
      "Now, let's say I want to find all pharmacies. One interesting column I saw was the provider taxonomy. There are 15 columns which capture taxonomy values. \n",
      "\n",
      "These are all the columns which look like:\n",
      "hc_prov_tx_code_N where N is 1-15.\n",
      "    \n",
      "I'm just going to use the column above for now and expand my search later.\n",
      "\n",
      "My reference at http://www.wpc-edi.com/reference/ tells me that the following taxa represent pharmacies:\n",
      "\n",
      "\n",
      "\n"
     ]
    },
    {
     "cell_type": "code",
     "collapsed": false,
     "input": [
      "('333600000X','3336C0002X','3336C0003X','3336C0004X','3336H0001X','3336I0012X',\n",
      " '3336L0003X','3336M0002X','3336M0003X','3336N0007X','3336S0011X')\n"
     ],
     "language": "python",
     "metadata": {},
     "outputs": []
    },
    {
     "cell_type": "markdown",
     "metadata": {},
     "source": [
      "Notice that they all start with '3336' and end in an 'X'. This is good news as it allows us to pattern match.\n",
      "\n",
      "So we could write a query to find all providers who have one\n",
      "of these values in their healthcare_provider_taxonomy_code_1\n",
      "\n",
      "Oh, we also want to only find organizations and not individual pharmacists, who also have an NPI.\n",
      "Therefore we are going to filter on entity_type_code <> 1\n",
      "\n",
      "and I also want to weed out any random pharmacies not in the US, so I'm going to say:\n",
      "provider_business_mailing_address_country_code = 'US'"
     ]
    },
    {
     "cell_type": "code",
     "collapsed": false,
     "input": [
      "SELECT count(npi) \n",
      "FROM all_npi_data \n",
      "WHERE entity_type_code <> 1 \n",
      "AND prov_bus_maddr_country_code = 'US'\n",
      "AND hc_prov_tx_code_1 ~ '3336[0-9A-Z]*X'\n",
      "\n",
      " count \n",
      "-------\n",
      " 51047\n",
      "(1 row)\n",
      "\n",
      "npidata=# "
     ],
     "language": "python",
     "metadata": {},
     "outputs": []
    },
    {
     "cell_type": "markdown",
     "metadata": {},
     "source": [
      "51047 records. An independent database tells me I'm missing about 30000, so kind of bad. \n",
      "\n",
      "But we can probably find them out."
     ]
    },
    {
     "cell_type": "heading",
     "level": 4,
     "metadata": {},
     "source": [
      "Refining queries"
     ]
    },
    {
     "cell_type": "markdown",
     "metadata": {},
     "source": [
      "We know we were searching on one of the 15 columns. What if we search on all 15?"
     ]
    },
    {
     "cell_type": "code",
     "collapsed": false,
     "input": [
      "SELECT count(a.npi) \n",
      "FROM all_npi_data a\n",
      "WHERE (a.hc_prov_tx_code_1 ~ '3336[0-9A-Z]*X' \n",
      "OR a.hc_prov_tx_code_2 ~'3336[0-9A-Z]*X' \n",
      "OR a.hc_prov_tx_code_3 ~'3336[0-9A-Z]*X' \n",
      "OR a.hc_prov_tx_code_4 ~'3336[0-9A-Z]*X' \n",
      "OR a.hc_prov_tx_code_5 ~'3336[0-9A-Z]*X' \n",
      "OR a.hc_prov_tx_code_6 ~'3336[0-9A-Z]*X' \n",
      "OR a.hc_prov_tx_code_7 ~'3336[0-9A-Z]*X' \n",
      "OR a.hc_prov_tx_code_8 ~'3336[0-9A-Z]*X' \n",
      "OR a.hc_prov_tx_code_9 ~'3336[0-9A-Z]*X' \n",
      "OR a.hc_prov_tx_code_10 ~'3336[0-9A-Z]*X' \n",
      "OR a.hc_prov_tx_code_11 ~'3336[0-9A-Z]*X'\n",
      "OR a.hc_prov_tx_code_12 ~'3336[0-9A-Z]*X' \n",
      "OR a.hc_prov_tx_code_13 ~'3336[0-9A-Z]*X'\n",
      "OR a.hc_prov_tx_code_14 ~'3336[0-9A-Z]*X' \n",
      "OR a.hc_prov_tx_code_15 ~'3336[0-9A-Z]*X')\n",
      "AND a.entity_type_code <> 1 \n",
      "AND a.prov_bus_maddr_country_code = 'US';\n",
      "\n",
      " count \n",
      "-------\n",
      " 82633\n",
      "(1 row)"
     ],
     "language": "python",
     "metadata": {},
     "outputs": []
    },
    {
     "cell_type": "markdown",
     "metadata": {},
     "source": [
      "How do I validate I have the right data?\n",
      "\n",
      "Well, I happen to have some kind of reference fill which has a list of all the pharmacies in the US. I want to be able to capture a sufficiently large portion of that.\n",
      "\n",
      "My reference database is loaded into a table called othercsvlist. If I join on the PK for these two tables, I should be able to see how may common records exist.\n",
      "\n"
     ]
    },
    {
     "cell_type": "code",
     "collapsed": false,
     "input": [
      "SELECT count(a.npi) \n",
      "FROM all_npi_data a JOIN othercsvlist b ON (a.npi=b.npi)\n",
      "WHERE (a.hc_prov_tx_code_1 ~ '3336[0-9A-Z]*X' \n",
      "OR a.hc_prov_tx_code_2 ~'3336[0-9A-Z]*X' \n",
      "OR a.hc_prov_tx_code_3 ~'3336[0-9A-Z]*X' \n",
      "OR a.hc_prov_tx_code_4 ~'3336[0-9A-Z]*X' \n",
      "OR a.hc_prov_tx_code_5 ~'3336[0-9A-Z]*X' \n",
      "OR a.hc_prov_tx_code_6 ~'3336[0-9A-Z]*X' \n",
      "OR a.hc_prov_tx_code_7 ~'3336[0-9A-Z]*X' \n",
      "OR a.hc_prov_tx_code_8 ~'3336[0-9A-Z]*X' \n",
      "OR a.hc_prov_tx_code_9 ~'3336[0-9A-Z]*X' \n",
      "OR a.hc_prov_tx_code_10 ~'3336[0-9A-Z]*X' \n",
      "OR a.hc_prov_tx_code_11 ~'3336[0-9A-Z]*X'\n",
      "OR a.hc_prov_tx_code_12 ~'3336[0-9A-Z]*X' \n",
      "OR a.hc_prov_tx_code_13 ~'3336[0-9A-Z]*X'\n",
      "OR a.hc_prov_tx_code_14 ~'3336[0-9A-Z]*X' \n",
      "OR a.hc_prov_tx_code_15 ~'3336[0-9A-Z]*X')\n",
      "AND a.entity_type_code <> 1 \n",
      "AND a.prov_bus_maddr_country_code = 'US';\n",
      "\n",
      "count \n",
      "-------\n",
      " 82137\n",
      "(1 row)"
     ],
     "language": "python",
     "metadata": {},
     "outputs": []
    },
    {
     "cell_type": "markdown",
     "metadata": {},
     "source": [
      "82137 is good enough for me. My reference database probably has some older data which is not in the newer database."
     ]
    },
    {
     "cell_type": "heading",
     "level": 4,
     "metadata": {},
     "source": [
      "Further refining queries"
     ]
    },
    {
     "cell_type": "markdown",
     "metadata": {},
     "source": [
      "I'm going to create a new table called pharmacies with the exact same schema as the main table."
     ]
    },
    {
     "cell_type": "code",
     "collapsed": false,
     "input": [
      "SELECT a.*\n",
      "INTO all_pharmacies\n",
      "FROM all_npi_data a\n",
      "WHERE (a.hc_prov_tx_code_1 ~ '3336[0-9A-Z]*X' \n",
      "OR a.hc_prov_tx_code_2 ~'3336[0-9A-Z]*X' \n",
      "OR a.hc_prov_tx_code_3 ~'3336[0-9A-Z]*X' \n",
      "OR a.hc_prov_tx_code_4 ~'3336[0-9A-Z]*X' \n",
      "OR a.hc_prov_tx_code_5 ~'3336[0-9A-Z]*X' \n",
      "OR a.hc_prov_tx_code_6 ~'3336[0-9A-Z]*X' \n",
      "OR a.hc_prov_tx_code_7 ~'3336[0-9A-Z]*X' \n",
      "OR a.hc_prov_tx_code_8 ~'3336[0-9A-Z]*X' \n",
      "OR a.hc_prov_tx_code_9 ~'3336[0-9A-Z]*X' \n",
      "OR a.hc_prov_tx_code_10 ~'3336[0-9A-Z]*X' \n",
      "OR a.hc_prov_tx_code_11 ~'3336[0-9A-Z]*X'\n",
      "OR a.hc_prov_tx_code_12 ~'3336[0-9A-Z]*X' \n",
      "OR a.hc_prov_tx_code_13 ~'3336[0-9A-Z]*X'\n",
      "OR a.hc_prov_tx_code_14 ~'3336[0-9A-Z]*X' \n",
      "OR a.hc_prov_tx_code_15 ~'3336[0-9A-Z]*X')\n",
      "AND a.entity_type_code <> 1 \n",
      "AND a.prov_bus_maddr_country_code = 'US';"
     ],
     "language": "python",
     "metadata": {},
     "outputs": []
    },
    {
     "cell_type": "markdown",
     "metadata": {},
     "source": [
      "Yay, I now have a database of all pharmacies in the US."
     ]
    },
    {
     "cell_type": "heading",
     "level": 1,
     "metadata": {},
     "source": [
      "Fun"
     ]
    },
    {
     "cell_type": "markdown",
     "metadata": {},
     "source": [
      "Let's see how we can use sql for some interesting data."
     ]
    },
    {
     "cell_type": "heading",
     "level": 2,
     "metadata": {},
     "source": [
      "What are the top-30 major pharmacy chains?"
     ]
    },
    {
     "cell_type": "markdown",
     "metadata": {},
     "source": [
      "A quick and dirty approach where you group by the 'legal name' under which the pharmacy is registered."
     ]
    },
    {
     "cell_type": "code",
     "collapsed": false,
     "input": [
      "SELECT COUNT(a.npi), a.prov_org_name_aka_legal_bus_name as legal_name \n",
      "FROM all_pharmacies a \n",
      "GROUP BY legal_name \n",
      "ORDER BY 1 DESC\n",
      "LIMIT 30;\n",
      "\n",
      " count |             legal_name              \n",
      "-------+-------------------------------------\n",
      "  7103 | WALGREEN CO\n",
      "  2502 | WAL-MART STORES EAST LP\n",
      "  1690 | TARGET CORPORATION AND SUBSIDIARIES\n",
      "  1221 | WAL-MART STORES INC\n",
      "   952 | K MART CORP\n",
      "   929 | ECKERD CORPORATION\n",
      "   898 | THRIFTY PAYLESS INC\n",
      "   877 | CVS PHARMACY INC\n",
      "   856 | PUBLIX SUPER MARKETS INC\n",
      "   828 | SAFEWAY INC\n",
      "   754 | ALBERTSONS LLC\n",
      "   707 | WALGREEN CO.\n",
      "   675 | HOLIDAY CVS LLC\n",
      "   673 | KROGER LIMITED PARTNERSHIP I\n",
      "   457 | LONGS DRUG STORES CALIFORNIA LLC\n",
      "   443 | COSTCO WHOLESALE CORPORATION\n",
      "   425 | SAMS EAST INC\n",
      "   418 | WAL-MART STORES TEXAS LP\n",
      "   415 | CVS ALBANY LLC\n",
      "   414 | FREDS STORES OF TENNESSEE INC\n",
      "   412 | GARFIELD BEACH CVS LLC\n",
      "   366 | RITE AID OF NEW YORK INC\n",
      "   365 | WINN DIXIE STORES INC\n",
      "   359 | RITE AID OF PENNSYLVANIA INC\n",
      "   333 | THE KROGER CO\n",
      "   319 | KAISER FOUNDATION HEALTH PLAN INC\n",
      "   315 | OHIO CVS STORES LLC\n",
      "   313 | THRIFT DRUG INC\n",
      "   287 | SHOPKO STORES OPERATING CO LLC\n",
      "   286 | PENNSYLVANIA CVS PHARMACY, L.L.C.\n",
      "(30 rows)"
     ],
     "language": "python",
     "metadata": {},
     "outputs": []
    },
    {
     "cell_type": "heading",
     "level": 2,
     "metadata": {},
     "source": [
      "Which (5-digit) zip codes have the highest pharmacy densities? (Top-30)"
     ]
    },
    {
     "cell_type": "markdown",
     "metadata": {},
     "source": [
      "Ahhhhh Florida. The land of pharmacies, apparently. "
     ]
    },
    {
     "cell_type": "code",
     "collapsed": false,
     "input": [
      "SELECT COUNT(a.npi), LEFT(a.prov_bus_loc_addr_postal_code,5) as zip\n",
      "FROM all_pharmacies a\n",
      "GROUP BY zip \n",
      "ORDER BY 1 DESC\n",
      "LIMIT 30;\n",
      "\n",
      " count |  zip  \n",
      "-------+-------\n",
      "    98 | 33012\n",
      "    84 | 33135\n",
      "    76 | 33144\n",
      "    71 | 33155\n",
      "    69 | 33010\n",
      "    58 | 48126\n",
      "    57 | 11220\n",
      "    56 | 33016\n",
      "    55 | 33125\n",
      "    54 | 11229\n",
      "    51 | 33134\n",
      "    47 | 33126\n",
      "    47 | 00725\n",
      "    46 | 11235\n",
      "    46 | 11372\n",
      "    46 | 17319\n",
      "    45 | 11355\n",
      "    45 | 10013\n",
      "    45 | 33165\n",
      "    43 | 92683\n",
      "    42 | 77036\n",
      "    42 | 11214\n",
      "    40 | 11385\n",
      "    40 | 11223\n",
      "    39 | 10029\n",
      "    39 | 10451\n",
      "    39 | 11354\n",
      "    38 | 11230\n",
      "    38 | 10452\n",
      "    38 | 00612\n",
      "(30 rows)"
     ],
     "language": "python",
     "metadata": {},
     "outputs": []
    },
    {
     "cell_type": "heading",
     "level": 2,
     "metadata": {},
     "source": [
      "How many of the pharmacies are listed as Mail Order pharmacies?"
     ]
    },
    {
     "cell_type": "markdown",
     "metadata": {},
     "source": [
      "Turns out not too many. \n",
      "\n",
      "I used my Taxonomy Reference:"
     ]
    },
    {
     "cell_type": "code",
     "collapsed": false,
     "input": [
      "'''\n",
      "http://codelists.wpc-edi.com/nucc_properties.asp?IndexID=10189\n",
      "\n",
      "Status - Active\n",
      "Code - 3336M0002X\n",
      "Type - Level III Area of Specialization\n",
      "\n",
      "Mail Order Pharmacy\n",
      "\n",
      "A pharmacy where pharmacists compound or dispense prescriptions or \n",
      "other medications in accordance with federal and state law, using \n",
      "common carriers to deliver the medications to patient or their \n",
      "caregivers. Mail order pharmacies counsel patients and caregivers \n",
      "(sometimes independent of the dispensing process) through telephone \n",
      "or email contact and provide other professional services associated \n",
      "with pharmaceutical care appropriate to the setting. Mail order \n",
      "pharmacies are licensed as a Mail Order Pharmacy in the state where \n",
      "they are located and may also be licensed or registered as nonresident \n",
      "pharmacies in other states.  Source: Developed by National Council \n",
      "for Prescription Drug Programs (NCPDP), National Home Infusion \n",
      "Association (NHIA), and Pharmacist Services Technical Advisory \n",
      "Coalition (PSTAC) [1/1/2006: new]\n",
      "'''"
     ],
     "language": "python",
     "metadata": {},
     "outputs": []
    },
    {
     "cell_type": "code",
     "collapsed": false,
     "input": [
      "SELECT count(a.npi) \n",
      "FROM all_pharmacies a\n",
      "WHERE (a.hc_prov_tx_code_1 like '%3336M0002X%' \n",
      "OR a.hc_prov_tx_code_2 like '%3336M0002X%' \n",
      "OR a.hc_prov_tx_code_3 like '%3336M0002X%' \n",
      "OR a.hc_prov_tx_code_4 like '%3336M0002X%'\n",
      "OR a.hc_prov_tx_code_5 like '%3336M0002X%' \n",
      "OR a.hc_prov_tx_code_6 like '%3336M0002X%'\n",
      "OR a.hc_prov_tx_code_7 like '%3336M0002X%'\n",
      "OR a.hc_prov_tx_code_8 like '%3336M0002X%'\n",
      "OR a.hc_prov_tx_code_9 like '%3336M0002X%'\n",
      "OR a.hc_prov_tx_code_10 like '%3336M0002X%'\n",
      "OR a.hc_prov_tx_code_11 like '%3336M0002X%'\n",
      "OR a.hc_prov_tx_code_12 like '%3336M0002X%'\n",
      "OR a.hc_prov_tx_code_13 like '%3336M0002X%'\n",
      "OR a.hc_prov_tx_code_14 like '%3336M0002X%'\n",
      "OR a.hc_prov_tx_code_15 like '%3336M0002X%')\n",
      "AND a.entity_type_code <> 1 \n",
      "AND a.prov_bus_maddr_country_code = 'US';\n",
      "\n",
      " count \n",
      "-------\n",
      "  1168\n",
      "(1 row)\n",
      "\n"
     ],
     "language": "python",
     "metadata": {},
     "outputs": []
    },
    {
     "cell_type": "heading",
     "level": 2,
     "metadata": {},
     "source": [
      "Where are those mail order pharmacies based? (in what state is the mailing address of the organization)"
     ]
    },
    {
     "cell_type": "markdown",
     "metadata": {},
     "source": [
      "Apparently Colorade, Texas, California, Mississippi and Florida account for about 40% of all the mail order pharmacies.\n",
      "\n",
      "Notice that there are 51 states because Puerto Rico is also counted (PR)"
     ]
    },
    {
     "cell_type": "code",
     "collapsed": false,
     "input": [
      "SELECT count(a.npi), a.prov_bus_maddr_state_name as state\n",
      "FROM all_pharmacies a\n",
      "WHERE (a.hc_prov_tx_code_1 like '%3336M0002X%' \n",
      "OR a.hc_prov_tx_code_2 like '%3336M0002X%' \n",
      "OR a.hc_prov_tx_code_3 like '%3336M0002X%' \n",
      "OR a.hc_prov_tx_code_4 like '%3336M0002X%'\n",
      "OR a.hc_prov_tx_code_5 like '%3336M0002X%' \n",
      "OR a.hc_prov_tx_code_6 like '%3336M0002X%'\n",
      "OR a.hc_prov_tx_code_7 like '%3336M0002X%'\n",
      "OR a.hc_prov_tx_code_8 like '%3336M0002X%'\n",
      "OR a.hc_prov_tx_code_9 like '%3336M0002X%'\n",
      "OR a.hc_prov_tx_code_10 like '%3336M0002X%'\n",
      "OR a.hc_prov_tx_code_11 like '%3336M0002X%'\n",
      "OR a.hc_prov_tx_code_12 like '%3336M0002X%'\n",
      "OR a.hc_prov_tx_code_13 like '%3336M0002X%'\n",
      "OR a.hc_prov_tx_code_14 like '%3336M0002X%'\n",
      "OR a.hc_prov_tx_code_15 like '%3336M0002X%')\n",
      "AND a.entity_type_code <> 1 \n",
      "AND a.prov_bus_maddr_country_code = 'US'\n",
      "GROUP BY state\n",
      "ORDER BY 1 DESC;\n",
      "\n",
      "\n",
      "\n",
      " count | state \n",
      "-------+-------\n",
      "   122 | CO\n",
      "   107 | TX\n",
      "    90 | CA\n",
      "    89 | MS\n",
      "    81 | FL\n",
      "    59 | IL\n",
      "    50 | AL\n",
      "    43 | PA\n",
      "    38 | TN\n",
      "    38 | AZ\n",
      "    33 | OH\n",
      "    29 | NY\n",
      "    28 | MN\n",
      "    26 | MI\n",
      "    25 | NJ\n",
      "    23 | MO\n",
      "    21 | KY\n",
      "    21 | NC\n",
      "    19 | WA\n",
      "    17 | LA\n",
      "    16 | GA\n",
      "    14 | SC\n",
      "    12 | UT\n",
      "    12 | NE\n",
      "    12 | CT\n",
      "    11 | MD\n",
      "    11 | IN\n",
      "    10 | KS\n",
      "    10 | OR\n",
      "     9 | MA\n",
      "     9 | OK\n",
      "     8 | WI\n",
      "     7 | VA\n",
      "     7 | WV\n",
      "     6 | MT\n",
      "     6 | HI\n",
      "     5 | PR\n",
      "     5 | NV\n",
      "     5 | ME\n",
      "     4 | ND\n",
      "     4 | IA\n",
      "     4 | AR\n",
      "     4 | AK\n",
      "     3 | WY\n",
      "     3 | NH\n",
      "     3 | NM\n",
      "     2 | RI\n",
      "     2 | VT\n",
      "     2 | ID\n",
      "     2 | SD\n",
      "     1 | DE\n",
      "(51 rows)"
     ],
     "language": "python",
     "metadata": {},
     "outputs": []
    }
   ],
   "metadata": {}
  }
 ]
}