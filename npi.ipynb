{
 "metadata": {
  "name": ""
 },
 "nbformat": 3,
 "nbformat_minor": 0,
 "worksheets": [
  {
   "cells": [
    {
     "cell_type": "heading",
     "level": 1,
     "metadata": {},
     "source": [
      "Working with NPI files from CMS."
     ]
    },
    {
     "cell_type": "heading",
     "level": 2,
     "metadata": {},
     "source": [
      "Goals:"
     ]
    },
    {
     "cell_type": "markdown",
     "metadata": {},
     "source": [
      "1. Download data\n",
      "2. Load it all into a postgresql database. \n",
      "3. Filter for specific org types like pharmacy, physicians, pharmacists, etc."
     ]
    },
    {
     "cell_type": "heading",
     "level": 2,
     "metadata": {},
     "source": [
      "What I do not cover:"
     ]
    },
    {
     "cell_type": "markdown",
     "metadata": {},
     "source": [
      "This is the first day in my life during which \n",
      "I've used SQL for more than a couple of hours.\n",
      "\n",
      "I am by no means an expert.\n",
      "\n",
      "I ran into a lot of crappy stuff.\n",
      "Usually not the kind where the solution is apparent\n",
      "to the beginner programmer from a quick internet search.\n",
      "Try to figure out. If you can't figure it out, \n",
      "ask your friends. I don't know if I'll be of much help,\n",
      "but you can feel free to send me an email.\n",
      "Presumably you already know it."
     ]
    },
    {
     "cell_type": "heading",
     "level": 3,
     "metadata": {},
     "source": [
      "Downloading Data"
     ]
    },
    {
     "cell_type": "markdown",
     "metadata": {},
     "source": [
      "Download file from here: http://nppes.viva-it.com/NPI_Files.html\n",
      "<br>\n",
      "Unzip it\n"
     ]
    },
    {
     "cell_type": "heading",
     "level": 3,
     "metadata": {},
     "source": [
      "Loading data into Postgresql"
     ]
    },
    {
     "cell_type": "heading",
     "level": 4,
     "metadata": {},
     "source": [
      "Creating a database"
     ]
    },
    {
     "cell_type": "markdown",
     "metadata": {},
     "source": [
      "Well, that was the easy part. Now for the more challenging ones.\n",
      "We want to load the data into a postgres db.\n",
      "\n",
      "So we shall create a database."
     ]
    },
    {
     "cell_type": "raw",
     "metadata": {},
     "source": [
      "<user>=# CREATE DATABASE your_db_name;\n",
      "<user>=# \\c your_db_name;\n",
      "You are now connected to database \"your_db_name\" as user \"<user>\"."
     ]
    },
    {
     "cell_type": "heading",
     "level": 4,
     "metadata": {},
     "source": [
      "Creating a Table"
     ]
    },
    {
     "cell_type": "markdown",
     "metadata": {},
     "source": [
      "That was simple enough.\n",
      "Well, we can't load the data directly into the database without having a schema specified already.\n",
      "We'll have to create a schema for this file with 330 columns.\n",
      "No fear, Gautam is here. "
     ]
    },
    {
     "cell_type": "heading",
     "level": 3,
     "metadata": {},
     "source": [
      "Start unnecessarily long SQL script"
     ]
    },
    {
     "cell_type": "raw",
     "metadata": {},
     "source": [
      "drop table if exists all_npi_data;\n",
      "create table all_npi_data\n",
      "(npi int primary key not null,\n",
      "entity_type_code int,\n",
      "replacement_npi int,\n",
      "employer_identifier varchar(9),\n",
      "provider_org_name_aka_legal_bus_name varchar(70),\n",
      "provider_last_name_aka_legal_name varchar(35),\n",
      "provider_first_name varchar(20),\n",
      "provider_middle_name varchar(20),\n",
      "provider_name_prefix_text varchar(5),\n",
      "provider_name_suffix_text varchar(5),\n",
      "provider_credential_text varchar(20),\n",
      "provider_other_org_name varchar(70),\n",
      "provider_other_org_name_type_code varchar(1),\n",
      "provider_other_last_name varchar(35),\n",
      "provider_other_first_name varchar(20),\n",
      "provider_other_middle_name varchar(20),\n",
      "provider_other_name_prefix_text varchar(5),\n",
      "provider_other_name_suffix_text varchar(5),\n",
      "provider_other_credential_text varchar(20),\n",
      "provider_other_last_name_type_code int,\n",
      "provider_first_line_business_mailing_address varchar(55),\n",
      "provider_second_line_business_mailing_address varchar(55),\n",
      "provider_business_mailing_address_city_name varchar(40),\n",
      "provider_business_mailing_address_state_name varchar(40),\n",
      "provider_business_mailing_address_postal_code varchar(20),\n",
      "provider_business_mailing_address_country_code varchar(2),\n",
      "provider_business_maliing_address_telephone_number varchar(20),\n",
      "provider_business_maliing_address_fax_number varchar(20),\n",
      "provider_first_line_business_practice_location_address varchar(55),\n",
      "provider_second_line_business_practice_location_address varchar(55),\n",
      "provider_business_practice_location_address_city_name varchar(40),\n",
      "provider_business_practice_location_address_state_name varchar(40),\n",
      "provider_business_practice_location_address_postal_code varchar(20),\n",
      "provider_business_practice_location_address_country_code varchar(2),\n",
      "provider_business_practice_location_address_telephone_number varchar(20),\n",
      "provider_business_practice_location_address_fax_number varchar(20),\n",
      "provider_enumeration_date DATE,\n",
      "last_update_date DATE,\n",
      "npi_deactivation_reason_code varchar(2),\n",
      "npi_deactivation_date DATE,\n",
      "npi_reactivation_date DATE,\n",
      "provider_gender_code varchar(1),\n",
      "authorized_official_last_name varchar(35),\n",
      "authorized_official_first_name varchar(20),\n",
      "authorized_official_middle_name varchar(20),\n",
      "authorized_official_title varchar(35),\n",
      "authorized_official_telephone_number varchar(20),\n",
      "healthcare_provider_taxonomy_code_1 varchar(10),\n",
      "provider_license_number_1 varchar(20),\n",
      "provider_license_number_state_code_1 varchar(2),\n",
      "healthcare_provider_primary_taxonomy_switch_1 varchar(1),\n",
      "healthcare_provider_taxonomy_code_2 varchar(10),\n",
      "provider_license_number_2 varchar(20),\n",
      "provider_license_number_state_code_2 varchar(2),\n",
      "healthcare_provider_primary_taxonomy_switch_2 varchar(1),\n",
      "healthcare_provider_taxonomy_code_3 varchar(10),\n",
      "provider_license_number_3 varchar(20),\n",
      "provider_license_number_state_code_3 varchar(2),\n",
      "healthcare_provider_primary_taxonomy_switch_3 varchar(1),\n",
      "healthcare_provider_taxonomy_code_4 varchar(10),\n",
      "provider_license_number_4 varchar(20),\n",
      "provider_license_number_state_code_4 varchar(2),\n",
      "healthcare_provider_primary_taxonomy_switch_4 varchar(1),\n",
      "healthcare_provider_taxonomy_code_5 varchar(10),\n",
      "provider_license_number_5 varchar(20),\n",
      "provider_license_number_state_code_5 varchar(2),\n",
      "healthcare_provider_primary_taxonomy_switch_5 varchar(1),\n",
      "healthcare_provider_taxonomy_code_6 varchar(10),\n",
      "provider_license_number_6 varchar(20),\n",
      "provider_license_number_state_code_6 varchar(2),\n",
      "healthcare_provider_primary_taxonomy_switch_6 varchar(1),\n",
      "healthcare_provider_taxonomy_code_7 varchar(10),\n",
      "provider_license_number_7 varchar(20),\n",
      "provider_license_number_state_code_7 varchar(2),\n",
      "healthcare_provider_primary_taxonomy_switch_7 varchar(1),\n",
      "healthcare_provider_taxonomy_code_8 varchar(10),\n",
      "provider_license_number_8 varchar(20),\n",
      "provider_license_number_state_code_8 varchar(2),\n",
      "healthcare_provider_primary_taxonomy_switch_8 varchar(1),\n",
      "healthcare_provider_taxonomy_code_9 varchar(10),\n",
      "provider_license_number_9 varchar(20),\n",
      "provider_license_number_state_code_9 varchar(2),\n",
      "healthcare_provider_primary_taxonomy_switch_9 varchar(1),\n",
      "healthcare_provider_taxonomy_code_10 varchar(10),\n",
      "provider_license_number_10 varchar(20),\n",
      "provider_license_number_state_code_10 varchar(2),\n",
      "healthcare_provider_primary_taxonomy_switch_10 varchar(1),\n",
      "healthcare_provider_taxonomy_code_11 varchar(10),\n",
      "provider_license_number_11 varchar(20),\n",
      "provider_license_number_state_code_11 varchar(2),\n",
      "healthcare_provider_primary_taxonomy_switch_11 varchar(1),\n",
      "healthcare_provider_taxonomy_code_12 varchar(10),\n",
      "provider_license_number_12 varchar(20),\n",
      "provider_license_number_state_code_12 varchar(2),\n",
      "healthcare_provider_primary_taxonomy_switch_12 varchar(1),\n",
      "healthcare_provider_taxonomy_code_13 varchar(10),\n",
      "provider_license_number_13 varchar(20),\n",
      "provider_license_number_state_code_13 varchar(2),\n",
      "healthcare_provider_primary_taxonomy_switch_13 varchar(1),\n",
      "healthcare_provider_taxonomy_code_14 varchar(10),\n",
      "provider_license_number_14 varchar(20),\n",
      "provider_license_number_state_code_14 varchar(2),\n",
      "healthcare_provider_primary_taxonomy_switch_14 varchar(1),\n",
      "healthcare_provider_taxonomy_code_15 varchar(10),\n",
      "provider_license_number_15 varchar(20),\n",
      "provider_license_number_state_code_15 varchar(2),\n",
      "healthcare_provider_primary_taxonomy_switch_15 varchar(1),\n",
      "other_provider_identifier_1 varchar(20),\n",
      "other_provider_identifier_type_code_1 varchar(2),\n",
      "other_provider_identifier_state_1 varchar(2),\n",
      "other_provider_identifier_issuer_1 varchar(80),\n",
      "other_provider_identifier_2 varchar(20),\n",
      "other_provider_identifier_type_code_2 varchar(2),\n",
      "other_provider_identifier_state_2 varchar(2),\n",
      "other_provider_identifier_issuer_2 varchar(80),\n",
      "other_provider_identifier_3 varchar(20),\n",
      "other_provider_identifier_type_code_3 varchar(2),\n",
      "other_provider_identifier_state_3 varchar(2),\n",
      "other_provider_identifier_issuer_3 varchar(80),\n",
      "other_provider_identifier_4 varchar(20),\n",
      "other_provider_identifier_type_code_4 varchar(2),\n",
      "other_provider_identifier_state_4 varchar(2),\n",
      "other_provider_identifier_issuer_4 varchar(80),\n",
      "other_provider_identifier_5 varchar(20),\n",
      "other_provider_identifier_type_code_5 varchar(2),\n",
      "other_provider_identifier_state_5 varchar(2),\n",
      "other_provider_identifier_issuer_5 varchar(80),\n",
      "other_provider_identifier_6 varchar(20),\n",
      "other_provider_identifier_type_code_6 varchar(2),\n",
      "other_provider_identifier_state_6 varchar(2),\n",
      "other_provider_identifier_issuer_6 varchar(80),\n",
      "other_provider_identifier_7 varchar(20),\n",
      "other_provider_identifier_type_code_7 varchar(2),\n",
      "other_provider_identifier_state_7 varchar(2),\n",
      "other_provider_identifier_issuer_7 varchar(80),\n",
      "other_provider_identifier_8 varchar(20),\n",
      "other_provider_identifier_type_code_8 varchar(2),\n",
      "other_provider_identifier_state_8 varchar(2),\n",
      "other_provider_identifier_issuer_8 varchar(80),\n",
      "other_provider_identifier_9 varchar(20),\n",
      "other_provider_identifier_type_code_9 varchar(2),\n",
      "other_provider_identifier_state_9 varchar(2),\n",
      "other_provider_identifier_issuer_9 varchar(80),\n",
      "other_provider_identifier_10 varchar(20),\n",
      "other_provider_identifier_type_code_10 varchar(2),\n",
      "other_provider_identifier_state_10 varchar(2),\n",
      "other_provider_identifier_issuer_10 varchar(80),\n",
      "other_provider_identifier_11 varchar(20),\n",
      "other_provider_identifier_type_code_11 varchar(2),\n",
      "other_provider_identifier_state_11 varchar(2),\n",
      "other_provider_identifier_issuer_11 varchar(80),\n",
      "other_provider_identifier_12 varchar(20),\n",
      "other_provider_identifier_type_code_12 varchar(2),\n",
      "other_provider_identifier_state_12 varchar(2),\n",
      "other_provider_identifier_issuer_12 varchar(80),\n",
      "other_provider_identifier_13 varchar(20),\n",
      "other_provider_identifier_type_code_13 varchar(2),\n",
      "other_provider_identifier_state_13 varchar(2),\n",
      "other_provider_identifier_issuer_13 varchar(80),\n",
      "other_provider_identifier_14 varchar(20),\n",
      "other_provider_identifier_type_code_14 varchar(2),\n",
      "other_provider_identifier_state_14 varchar(2),\n",
      "other_provider_identifier_issuer_14 varchar(80),\n",
      "other_provider_identifier_15 varchar(20),\n",
      "other_provider_identifier_type_code_15 varchar(2),\n",
      "other_provider_identifier_state_15 varchar(2),\n",
      "other_provider_identifier_issuer_15 varchar(80),\n",
      "other_provider_identifier_16 varchar(20),\n",
      "other_provider_identifier_type_code_16 varchar(2),\n",
      "other_provider_identifier_state_16 varchar(2),\n",
      "other_provider_identifier_issuer_16 varchar(80),\n",
      "other_provider_identifier_17 varchar(20),\n",
      "other_provider_identifier_type_code_17 varchar(2),\n",
      "other_provider_identifier_state_17 varchar(2),\n",
      "other_provider_identifier_issuer_17 varchar(80),\n",
      "other_provider_identifier_18 varchar(20),\n",
      "other_provider_identifier_type_code_18 varchar(2),\n",
      "other_provider_identifier_state_18 varchar(2),\n",
      "other_provider_identifier_issuer_18 varchar(80),\n",
      "other_provider_identifier_19 varchar(20),\n",
      "other_provider_identifier_type_code_19 varchar(2),\n",
      "other_provider_identifier_state_19 varchar(2),\n",
      "other_provider_identifier_issuer_19 varchar(80),\n",
      "other_provider_identifier_20 varchar(20),\n",
      "other_provider_identifier_type_code_20 varchar(2),\n",
      "other_provider_identifier_state_20 varchar(2),\n",
      "other_provider_identifier_issuer_20 varchar(80),\n",
      "other_provider_identifier_21 varchar(20),\n",
      "other_provider_identifier_type_code_21 varchar(2),\n",
      "other_provider_identifier_state_21 varchar(2),\n",
      "other_provider_identifier_issuer_21 varchar(80),\n",
      "other_provider_identifier_22 varchar(20),\n",
      "other_provider_identifier_type_code_22 varchar(2),\n",
      "other_provider_identifier_state_22 varchar(2),\n",
      "other_provider_identifier_issuer_22 varchar(80),\n",
      "other_provider_identifier_23 varchar(20),\n",
      "other_provider_identifier_type_code_23 varchar(2),\n",
      "other_provider_identifier_state_23 varchar(2),\n",
      "other_provider_identifier_issuer_23 varchar(80),\n",
      "other_provider_identifier_24 varchar(20),\n",
      "other_provider_identifier_type_code_24 varchar(2),\n",
      "other_provider_identifier_state_24 varchar(2),\n",
      "other_provider_identifier_issuer_24 varchar(80),\n",
      "other_provider_identifier_25 varchar(20),\n",
      "other_provider_identifier_type_code_25 varchar(2),\n",
      "other_provider_identifier_state_25 varchar(2),\n",
      "other_provider_identifier_issuer_25 varchar(80),\n",
      "other_provider_identifier_26 varchar(20),\n",
      "other_provider_identifier_type_code_26 varchar(2),\n",
      "other_provider_identifier_state_26 varchar(2),\n",
      "other_provider_identifier_issuer_26 varchar(80),\n",
      "other_provider_identifier_27 varchar(20),\n",
      "other_provider_identifier_type_code_27 varchar(2),\n",
      "other_provider_identifier_state_27 varchar(2),\n",
      "other_provider_identifier_issuer_27 varchar(80),\n",
      "other_provider_identifier_28 varchar(20),\n",
      "other_provider_identifier_type_code_28 varchar(2),\n",
      "other_provider_identifier_state_28 varchar(2),\n",
      "other_provider_identifier_issuer_28 varchar(80),\n",
      "other_provider_identifier_29 varchar(20),\n",
      "other_provider_identifier_type_code_29 varchar(2),\n",
      "other_provider_identifier_state_29 varchar(2),\n",
      "other_provider_identifier_issuer_29 varchar(80),\n",
      "other_provider_identifier_30 varchar(20),\n",
      "other_provider_identifier_type_code_30 varchar(2),\n",
      "other_provider_identifier_state_30 varchar(2),\n",
      "other_provider_identifier_issuer_30 varchar(80),\n",
      "other_provider_identifier_31 varchar(20),\n",
      "other_provider_identifier_type_code_31 varchar(2),\n",
      "other_provider_identifier_state_31 varchar(2),\n",
      "other_provider_identifier_issuer_31 varchar(80),\n",
      "other_provider_identifier_32 varchar(20),\n",
      "other_provider_identifier_type_code_32 varchar(2),\n",
      "other_provider_identifier_state_32 varchar(2),\n",
      "other_provider_identifier_issuer_32 varchar(80),\n",
      "other_provider_identifier_33 varchar(20),\n",
      "other_provider_identifier_type_code_33 varchar(2),\n",
      "other_provider_identifier_state_33 varchar(2),\n",
      "other_provider_identifier_issuer_33 varchar(80),\n",
      "other_provider_identifier_34 varchar(20),\n",
      "other_provider_identifier_type_code_34 varchar(2),\n",
      "other_provider_identifier_state_34 varchar(2),\n",
      "other_provider_identifier_issuer_34 varchar(80),\n",
      "other_provider_identifier_35 varchar(20),\n",
      "other_provider_identifier_type_code_35 varchar(2),\n",
      "other_provider_identifier_state_35 varchar(2),\n",
      "other_provider_identifier_issuer_35 varchar(80),\n",
      "other_provider_identifier_36 varchar(20),\n",
      "other_provider_identifier_type_code_36 varchar(2),\n",
      "other_provider_identifier_state_36 varchar(2),\n",
      "other_provider_identifier_issuer_36 varchar(80),\n",
      "other_provider_identifier_37 varchar(20),\n",
      "other_provider_identifier_type_code_37 varchar(2),\n",
      "other_provider_identifier_state_37 varchar(2),\n",
      "other_provider_identifier_issuer_37 varchar(80),\n",
      "other_provider_identifier_38 varchar(20),\n",
      "other_provider_identifier_type_code_38 varchar(2),\n",
      "other_provider_identifier_state_38 varchar(2),\n",
      "other_provider_identifier_issuer_38 varchar(80),\n",
      "other_provider_identifier_39 varchar(20),\n",
      "other_provider_identifier_type_code_39 varchar(2),\n",
      "other_provider_identifier_state_39 varchar(2),\n",
      "other_provider_identifier_issuer_39 varchar(80),\n",
      "other_provider_identifier_40 varchar(20),\n",
      "other_provider_identifier_type_code_40 varchar(2),\n",
      "other_provider_identifier_state_40 varchar(2),\n",
      "other_provider_identifier_issuer_40 varchar(80),\n",
      "other_provider_identifier_41 varchar(20),\n",
      "other_provider_identifier_type_code_41 varchar(2),\n",
      "other_provider_identifier_state_41 varchar(2),\n",
      "other_provider_identifier_issuer_41 varchar(80),\n",
      "other_provider_identifier_42 varchar(20),\n",
      "other_provider_identifier_type_code_42 varchar(2),\n",
      "other_provider_identifier_state_42 varchar(2),\n",
      "other_provider_identifier_issuer_42 varchar(80),\n",
      "other_provider_identifier_43 varchar(20),\n",
      "other_provider_identifier_type_code_43 varchar(2),\n",
      "other_provider_identifier_state_43 varchar(2),\n",
      "other_provider_identifier_issuer_43 varchar(80),\n",
      "other_provider_identifier_44 varchar(20),\n",
      "other_provider_identifier_type_code_44 varchar(2),\n",
      "other_provider_identifier_state_44 varchar(2),\n",
      "other_provider_identifier_issuer_44 varchar(80),\n",
      "other_provider_identifier_45 varchar(20),\n",
      "other_provider_identifier_type_code_45 varchar(2),\n",
      "other_provider_identifier_state_45 varchar(2),\n",
      "other_provider_identifier_issuer_45 varchar(80),\n",
      "other_provider_identifier_46 varchar(20),\n",
      "other_provider_identifier_type_code_46 varchar(2),\n",
      "other_provider_identifier_state_46 varchar(2),\n",
      "other_provider_identifier_issuer_46 varchar(80),\n",
      "other_provider_identifier_47 varchar(20),\n",
      "other_provider_identifier_type_code_47 varchar(2),\n",
      "other_provider_identifier_state_47 varchar(2),\n",
      "other_provider_identifier_issuer_47 varchar(80),\n",
      "other_provider_identifier_48 varchar(20),\n",
      "other_provider_identifier_type_code_48 varchar(2),\n",
      "other_provider_identifier_state_48 varchar(2),\n",
      "other_provider_identifier_issuer_48 varchar(80),\n",
      "other_provider_identifier_49 varchar(20),\n",
      "other_provider_identifier_type_code_49 varchar(2),\n",
      "other_provider_identifier_state_49 varchar(2),\n",
      "other_provider_identifier_issuer_49 varchar(80),\n",
      "other_provider_identifier_50 varchar(20),\n",
      "other_provider_identifier_type_code_50 varchar(2),\n",
      "other_provider_identifier_state_50 varchar(2),\n",
      "other_provider_identifier_issuer_50 varchar(80),\n",
      "is_sole_proprietor varchar(1),\n",
      "is_organization_subpart varchar(1),\n",
      "parent_organization_lbn varchar(70),\n",
      "parent_organizaiton_tin varchar(9),\n",
      "authorized_official_name_prefix_text varchar(5),\n",
      "authorized_official_name_suffix_text varchar(5),\n",
      "authorized_official_credential_text varchar(20),\n",
      "healthcare_provider_taxonomy_grp_1 varchar(70),\n",
      "healthcare_provider_taxonomy_grp_2 varchar(70),\n",
      "healthcare_provider_taxonomy_grp_3 varchar(70),\n",
      "healthcare_provider_taxonomy_grp_4 varchar(70),\n",
      "healthcare_provider_taxonomy_grp_5 varchar(70),\n",
      "healthcare_provider_taxonomy_grp_6 varchar(70),\n",
      "healthcare_provider_taxonomy_grp_7 varchar(70),\n",
      "healthcare_provider_taxonomy_grp_8 varchar(70),\n",
      "healthcare_provider_taxonomy_grp_9 varchar(70),\n",
      "healthcare_provider_taxonomy_grp_10 varchar(70),\n",
      "healthcare_provider_taxonomy_grp_11 varchar(70),\n",
      "healthcare_provider_taxonomy_grp_12 varchar(70),\n",
      "healthcare_provider_taxonomy_grp_13 varchar(70),\n",
      "healthcare_provider_taxonomy_grp_14 varchar(70),\n",
      "healthcare_provider_taxonomy_grp_15 varchar(70));"
     ]
    },
    {
     "cell_type": "heading",
     "level": 3,
     "metadata": {},
     "source": [
      "End of long SQL Script"
     ]
    },
    {
     "cell_type": "heading",
     "level": 4,
     "metadata": {},
     "source": [
      "Verifying what we did worked"
     ]
    },
    {
     "cell_type": "markdown",
     "metadata": {},
     "source": [
      "You can use psql commands \\dt and \\d to view information about your table\n",
      "and the columns in your table. For instance, see the below."
     ]
    },
    {
     "cell_type": "raw",
     "metadata": {},
     "source": [
      "npidata=# \\dt\n",
      "           List of relations\n",
      " Schema |     Name     | Type  | Owner \n",
      "--------+--------------+-------+-------\n",
      " public | all_npi_data | table | gk\n",
      "(1 row)\n",
      "\n",
      "npidata=# \\d all_npi_data\n",
      "                                   Table \"public.all_npi_data\"\n",
      "                            Column                            |         Type          | Modifiers \n",
      "--------------------------------------------------------------+-----------------------+-----------\n",
      " npi                                                          | integer               | not null\n",
      " entity_type_code                                             | integer               | \n",
      " replacement_npi                                              | integer               | \n",
      " employer_identifier                                          | character varying(9)  | \n",
      " provider_org_name_aka_legal_bus_name                         | character varying(70) | \n",
      " provider_last_name_aka_legal_name                            | character varying(35) | \n",
      " provider_first_name                                          | character varying(20) | \n",
      " provider_middle_name                                         | character varying(20) | \n",
      " provider_name_prefix_text                                    | character varying(5)  | \n",
      " provider_name_suffix_text                                    | character varying(5)  | \n",
      " provider_credential_text                                     | character varying(20) | \n",
      " provider_other_org_name                                      | character varying(70) | \n",
      " provider_other_org_name_type_code                            | character varying(1)  | \n",
      " provider_other_last_name                                     | character varying(35) | \n",
      " provider_other_first_name                                    | character varying(20) | \n",
      " provider_other_middle_name                                   | character varying(20) | \n",
      " provider_other_name_prefix_text                              | character varying(5)  | \n",
      " provider_other_name_suffix_text                              | character varying(5)  | \n",
      " provider_other_credential_text                               | character varying(20) | \n",
      " provider_other_last_name_type_code                           | integer               | \n",
      "npidata=# \n"
     ]
    },
    {
     "cell_type": "heading",
     "level": 4,
     "metadata": {},
     "source": [
      "Massaging Data"
     ]
    },
    {
     "cell_type": "markdown",
     "metadata": {},
     "source": [
      "Before we can work with the raw file, we have to massage it a bit.\n",
      "The data isn't directly loadable into postgres.\n",
      "You will run into errors. Go ahead, try the following:"
     ]
    },
    {
     "cell_type": "raw",
     "metadata": {},
     "source": [
      "copy all_npi_data from '~/Desktop/data_sci/npi/npidata.csv' with csv header;"
     ]
    },
    {
     "cell_type": "markdown",
     "metadata": {},
     "source": [
      "For instance, I see this error:\n"
     ]
    },
    {
     "cell_type": "raw",
     "metadata": {},
     "source": [
      "ERROR:  invalid input syntax for integer: \"\"\n",
      "CONTEXT:  COPY all_npi_data, line 2, column replacement_npi: \"\"\n"
     ]
    },
    {
     "cell_type": "markdown",
     "metadata": {},
     "source": [
      "\n",
      "The error is essentially saying that you if you are trying to import a value into an integer, you can't import an empty string (which is different from a NULL)"
     ]
    },
    {
     "cell_type": "markdown",
     "metadata": {},
     "source": [
      "We use some unix magic. You likely have 'sed' installed on your machine.\n",
      "\n",
      "Use it to replace the occurrence of \"\" with nothing.\n",
      "\n",
      "There is an excellent tutorial here: http://www.grymoire.com/Unix/Sed.html#uh-1."
     ]
    },
    {
     "cell_type": "raw",
     "metadata": {},
     "source": [
      "GKs-MacBook-Air:~ gk$ cd folder/where/your/file/is\n",
      "GKs-MacBook-Air:npi gk$ sed 's/\"\"//g' <npidata.csv >npidata-formatted.csv"
     ]
    },
    {
     "cell_type": "heading",
     "level": 4,
     "metadata": {},
     "source": [
      "Loading Data"
     ]
    },
    {
     "cell_type": "markdown",
     "metadata": {},
     "source": [
      "Congrats, you are now ready to load the data!"
     ]
    },
    {
     "cell_type": "raw",
     "metadata": {},
     "source": [
      "npidata=# copy all_npi_data from '/Users/gk/Desktop/data_sci/npi/full-formatted.csv' with csv header;\n",
      "COPY 4201073\n"
     ]
    },
    {
     "cell_type": "heading",
     "level": 4,
     "metadata": {},
     "source": [
      "Running Queries"
     ]
    },
    {
     "cell_type": "markdown",
     "metadata": {},
     "source": [
      "You can now begin to run queries! Here are some simple ones that I thought of. \n",
      "The queries are rather annoying because of how I named my tables, but you can be smarter\n",
      "and avoid having complex names!"
     ]
    },
    {
     "cell_type": "raw",
     "metadata": {},
     "source": [
      "npidata=# select npi,entity_type_code as entitytype,\n",
      "provider_business_mailing_address_city_name as city,provider_first_name as first_name,\n",
      "provider_business_mailing_address_state_name as state\n",
      "FROM all_npi_data\n",
      "WHERE provider_last_name_aka_legal_name like 'KANDLIKAR';\n",
      "\n",
      "\n",
      "For the sake of preventing creepiness, I am going to de-identify the data. \n",
      "Though if you really wanted to look this up, this is very easy to do.\n",
      "\n",
      "\n",
      "\n",
      "    npi     | entitytype |     city     | first_name | state \n",
      "------------+------------+--------------+------------+-------\n",
      " ********** |          1 | *********    | *****      | **\n",
      " ********** |          1 | ************ | *****      | **\n",
      "(2 rows)"
     ]
    },
    {
     "cell_type": "heading",
     "level": 4,
     "metadata": {},
     "source": [
      "Finding Pharmacies"
     ]
    },
    {
     "cell_type": "markdown",
     "metadata": {},
     "source": [
      "Now, let's say I want to find all pharmacies.\n",
      "One interesting column I saw was the provider taxonomy.\n",
      "We have labeled this column: healthcare_provider_taxonomy_code_1\n",
      "    \n",
      "Notice that there are many other columns like this.\n",
      "\n",
      "I'm just going to use the column above for now and expand my search later.\n",
      "\n",
      "My reference at http://www.wpc-edi.com/reference/ tells me that the following taxa represent pharmacies:\n",
      "\n",
      "\n",
      "\n"
     ]
    },
    {
     "cell_type": "raw",
     "metadata": {},
     "source": [
      "('183500000X','1835G0000X','1835G0303X','1835N0905X','1835N1003X','1835X0200X',\n",
      " '1835P0018X','1835P1200X','1835P1300X','183700000X','332100000X','332800000X',\n",
      " '333600000X','3336C0002X','3336C0003X','3336C0004X','3336H0001X','3336I0012X',\n",
      " '3336L0003X','3336M0002X','3336M0003X','3336N0007X','3336S0011X')"
     ]
    },
    {
     "cell_type": "markdown",
     "metadata": {},
     "source": [
      "So we could write a query to find all providers who have one\n",
      "of these values in their healthcare_provider_taxonomy_code_1\n",
      "\n",
      "Oh, we also want to only find organizations and not individual pharmacists, who also have an NPI.\n",
      "Therefore we are going to filter on entity_type_code != 1\n",
      "\n",
      "and I also want to weed out any random pharmacies not in the US, so I'm going to say:\n",
      "provider_business_mailing_address_country_code = 'US'"
     ]
    },
    {
     "cell_type": "raw",
     "metadata": {},
     "source": [
      "select count(npi) \n",
      "from all_npi_data \n",
      "where entity_type_code <> 1 \n",
      "AND provider_business_mailing_address_country_code = 'US'\n",
      "AND healthcare_provider_taxonomy_code_1 in \n",
      "('183500000X','1835G0000X','1835G0303X','1835N0905X','1835N1003X','1835X0200X',\n",
      " '1835P0018X','1835P1200X','1835P1300X','183700000X','332100000X','332800000X',\n",
      " '333600000X','3336C0002X','3336C0003X','3336C0004X','3336H0001X','3336I0012X',\n",
      " '3336L0003X','3336M0002X','3336M0003X','3336N0007X','3336S0011X');\n",
      "\n",
      "\n",
      " count \n",
      "-------\n",
      " 55025\n",
      "(1 row)\n",
      "\n",
      "npidata=# "
     ]
    },
    {
     "cell_type": "markdown",
     "metadata": {},
     "source": [
      "55025 records, not bad.\n",
      "\n",
      "An independent database tells me I'm missing about 30000, so kind of bad. \n",
      "\n",
      "But we can probably find them out."
     ]
    },
    {
     "cell_type": "heading",
     "level": 4,
     "metadata": {},
     "source": [
      "Refining queries"
     ]
    },
    {
     "cell_type": "markdown",
     "metadata": {},
     "source": [
      "I loaded my reference database into a table called othercsvlist.\n",
      "\n",
      "The script I used there was:"
     ]
    },
    {
     "cell_type": "raw",
     "metadata": {},
     "source": [
      "create table othercsvlist\n",
      "(npi int primary key not null,\n",
      "salutation varchar, attnname varchar, companyname varchar,\n",
      "mailaddr1 varchar, mailaddr2 varchar, mailcity varchar,\n",
      "mailstate varchar, mailzip varchar, mailcountry varchar,\n",
      "mailphone varchar, mailfax varchar, pracaddr1 varchar,\n",
      "pracaddr2 varchar, praccity varchar, pracstate varchar,\n",
      "praczip varchar, praccountry varchar, pracphone varchar,\n",
      "pracfax varchar, pn varchar, fn varchar, mn varchar,\n",
      "ln varchar, sn varchar, cred varchar, title varchar, dr varchar,\n",
      "gender varchar, entitytype int, license varchar, licensestate varchar,\n",
      "updatedbyprovider date, newnpi varchar, inpecos varchar, warning varchar,\n",
      "ruralurban varchar, wealth varchar, onlistfor varchar, mainpractice varchar,\n",
      "soleproprietor varchar, supbart varchar);"
     ]
    },
    {
     "cell_type": "markdown",
     "metadata": {},
     "source": [
      "So at this point, I can run queries like this where \n",
      "I try to create a database called common recs that has\n",
      "records in both the databases \n",
      "(I'm trying to figure out the missing 30K records here).\n",
      "\n",
      "My new temporary database is called commonrecs.\n",
      "I will use a SELECT INTO statement."
     ]
    },
    {
     "cell_type": "raw",
     "metadata": {},
     "source": [
      "SELECT b.npi, b.companyname as name, b.pracaddr1 as address1,\n",
      "b.pracaddr2 as address2,b.praccity as city, b.pracstate as state,\n",
      "b.praczip as zip, b.pracphone as phone, b.pracfax as fax, \n",
      "INTO commonrecs \n",
      "FROM all_npi_data a JOIN othercsvlist b ON (a.npi = b.npi)\n",
      "WHERE a.entity_type_code <> 1;\n"
     ]
    },
    {
     "cell_type": "raw",
     "metadata": {},
     "source": [
      "(note that a quick search shows me that my ~83000 records are totally in the big database.)\n",
      "\n",
      "npidata=# select count(npi) from commonrecs;\n",
      " count \n",
      "-------\n",
      " 83401\n",
      "(1 row)"
     ]
    },
    {
     "cell_type": "markdown",
     "metadata": {},
     "source": [
      "What else could I be missing?\n",
      "\n",
      "My previous search which returned 55K relied on country = 'US' \n",
      "and some list of taxa to which pharmacies ostensibly belong.\n",
      "The entity type <> 1 was accomplished in both cases.\n",
      "\n",
      "So this time around, let me create a new commonrecs table into which\n",
      "I will also input the values of the taxonomy_code_1 and country.\n",
      "Let's see how much of an impact it was having.\n",
      "\n",
      "Rather than using them to filter, I am going to populate those\n",
      "two columns in my commonrecs db and see how they show up.\n"
     ]
    },
    {
     "cell_type": "heading",
     "level": 4,
     "metadata": {},
     "source": [
      "Further refining queries"
     ]
    },
    {
     "cell_type": "raw",
     "metadata": {},
     "source": [
      "I have to update my SELECT INTO statement.\n",
      "\n",
      "SELECT b.npi, b.companyname as name, b.pracaddr1 as address1,\n",
      "b.pracaddr2 as address2,b.praccity as city, b.pracstate as state,\n",
      "b.praczip as zip, a.provider_business_mailing_address_country_code as country,\n",
      "b.pracphone as phone, b.pracfax as fax, a.healthcare_provider_taxonomy_code_1 as taxonomy\n",
      "INTO commonrecs \n",
      "FROM all_npi_data a JOIN othercsvlist b ON (a.npi = b.npi)\n",
      "WHERE a.entity_type_code <> 1;"
     ]
    },
    {
     "cell_type": "raw",
     "metadata": {},
     "source": [
      "Here are my two queries which are going to answer everything:\n",
      "    \n",
      "select count(foo) from (select distinct taxonomy from commonrecs) as foo;\n",
      " count \n",
      "-------\n",
      "   114     <===== This explains a lot of things\n",
      "(1 row)\n",
      "\n",
      "select count(bar) from (select distinct country from commonrecs) as bar;\n",
      " count \n",
      "-------\n",
      "     1\n",
      "(1 row)\n"
     ]
    },
    {
     "cell_type": "markdown",
     "metadata": {},
     "source": [
      "Previously, I was only searching for the records where the taxonomy field I\n",
      "had arbitrarily chose had these values. \n",
      "\n",
      "    ('183500000X','1835G0000X','1835G0303X','1835N0905X','1835N1003X','1835X0200X', '1835P0018X','1835P1200X','1835P1300X','183700000X','332100000X','332800000X', '333600000X','3336C0002X','3336C0003X','3336C0004X','3336H0001X','3336I0012X', '3336L0003X','3336M0002X','3336M0003X','3336N0007X','3336S0011X');\n",
      "\n",
      "But it turns out they have about 114.\n",
      "\n",
      "Crazy."
     ]
    },
    {
     "cell_type": "heading",
     "level": 1,
     "metadata": {},
     "source": [
      "IGNORE THE BELOW"
     ]
    },
    {
     "cell_type": "heading",
     "level": 2,
     "metadata": {},
     "source": [
      "I was trying to be cute with python."
     ]
    },
    {
     "cell_type": "code",
     "collapsed": false,
     "input": [
      "import csv\n",
      "import codecs\n",
      "import json\n",
      "\n",
      "def format_col(text):\n",
      "    text=text.lower()\n",
      "    text=text.replace('provider', 'prov')\n",
      "    text=text.replace('address', 'addr')\n",
      "    text=text.replace('number', 'num')\n",
      "    text=text.replace('other', 'oth')\n",
      "    text=text.replace('healthcare', 'hc')\n",
      "    text=text.replace('license', 'lic')\n",
      "    text=text.replace('telephone', 'ph')\n",
      "    text=text.replace('identifier', 'id')\n",
      "    text=text.replace('taxonomy', 'txy')\n",
      "    return text\n",
      "    \n",
      "\n",
      "full_file = 'npi/full.csv'\n",
      "outfile = codecs.open('npi/full.json',encoding='utf-8',mode='w')\n",
      "count = 0\n",
      "header=False\n",
      "npi_id=''\n",
      "\n",
      "with open(full_file, 'r') as f:\n",
      "    vals = csv.reader(f, delimiter=',', quotechar='\"')\n",
      "    for row in vals:\n",
      "        dump_dict={}\n",
      "        if not header:\n",
      "            header=[]\n",
      "            for col in row:\n",
      "                col = format_col(col)\n",
      "                header.append(col)\n",
      "        else :\n",
      "            prov = {}\n",
      "            column=0\n",
      "            for col in row:\n",
      "                if column==0:\n",
      "                    npi_id=col\n",
      "                elif col != '':\n",
      "                    prov[header[column]]=col\n",
      "                else :\n",
      "                    pass\n",
      "                column+=1\n",
      "        try :\n",
      "            dump_dict[npi_id]=prov\n",
      "            outfile.write(json.dumps(dump_dict))\n",
      "        except :\n",
      "            print json.dumps(dump_dict)\n",
      "outfile.close()\n",
      "\n",
      "print (\"Count: %d\" % count)\n",
      "            "
     ],
     "language": "python",
     "metadata": {},
     "outputs": [
      {
       "output_type": "stream",
       "stream": "stdout",
       "text": [
        "Count: 0\n"
       ]
      }
     ],
     "prompt_number": 53
    },
    {
     "cell_type": "code",
     "collapsed": false,
     "input": [],
     "language": "python",
     "metadata": {},
     "outputs": [],
     "prompt_number": 53
    },
    {
     "cell_type": "raw",
     "metadata": {},
     "source": []
    },
    {
     "cell_type": "code",
     "collapsed": false,
     "input": [
      "#print to file where row[1] is not '2'\n",
      "pharm_file = 'npi/pharm.csv'\n",
      "outfile = codecs.open('npi/pharmacists.csv',encoding='utf-8',mode='w')\n",
      "count = 0\n",
      "recs = None\n",
      "\n",
      "with open(pharm_file, 'r') as f:\n",
      "    recs = csv.reader(f, delimiter='\\t', quotechar='\"')\n",
      "    for row in recs:\n",
      "        try :\n",
      "            if (row[1] != '2'):\n",
      "                try :\n",
      "                    count +=1\n",
      "                    outfile.write(u'\\n'+u'\\t'.join(row))\n",
      "                except :\n",
      "                    print row\n",
      "        except :\n",
      "            pass\n",
      "outfile.close()\n",
      "\n",
      "print (\"Count: %d\" % count)"
     ],
     "language": "python",
     "metadata": {},
     "outputs": [
      {
       "output_type": "stream",
       "stream": "stdout",
       "text": [
        "Count: 147726\n"
       ]
      }
     ],
     "prompt_number": 30
    },
    {
     "cell_type": "code",
     "collapsed": false,
     "input": [
      "pharm_file = 'npi/pharm.csv'\n",
      "outfile = codecs.open('npi/pharmacies.csv',encoding='utf-8',mode='w')\n",
      "count = 0\n",
      "recs = None\n",
      "\n",
      "npis=['1770672461', '1033208723', '1811085103', '1376631457']\n",
      "\n",
      "with open(pharm_file, 'r') as f:\n",
      "    recs = csv.reader(f, delimiter='\\t', quotechar='\"')\n",
      "    for row in recs:\n",
      "        try :\n",
      "            if (row[0] in npi):\n",
      "                print row\n",
      "        except :\n",
      "            pass\n",
      "outfile.close()\n",
      "\n",
      "print (\"Count: %d\" % count)"
     ],
     "language": "python",
     "metadata": {},
     "outputs": [
      {
       "output_type": "stream",
       "stream": "stdout",
       "text": [
        "Count: 0\n"
       ]
      }
     ],
     "prompt_number": 36
    },
    {
     "cell_type": "code",
     "collapsed": false,
     "input": [
      "import json\n",
      "\n",
      "data = {}\n",
      "data['npi1']={'a':'aa', 'b':'bb'}\n",
      "pprint.pprint(json.dumps(data))"
     ],
     "language": "python",
     "metadata": {},
     "outputs": [
      {
       "output_type": "stream",
       "stream": "stdout",
       "text": [
        "'{\"npi1\": {\"a\": \"aa\", \"b\": \"bb\"}}'\n"
       ]
      }
     ],
     "prompt_number": 43
    },
    {
     "cell_type": "code",
     "collapsed": false,
     "input": [
      "a ='abcd'\n",
      "a=a.replace('e', 'f')\n",
      "print a"
     ],
     "language": "python",
     "metadata": {},
     "outputs": [
      {
       "output_type": "stream",
       "stream": "stdout",
       "text": [
        "abcd\n"
       ]
      }
     ],
     "prompt_number": 52
    },
    {
     "cell_type": "code",
     "collapsed": false,
     "input": [],
     "language": "python",
     "metadata": {},
     "outputs": []
    }
   ],
   "metadata": {}
  }
 ]
}