{
 "metadata": {
  "name": ""
 },
 "nbformat": 3,
 "nbformat_minor": 0,
 "worksheets": [
  {
   "cells": [
    {
     "cell_type": "code",
     "collapsed": false,
     "input": [
      "#1\n",
      "with open('/Users/gk/Downloads/rosalind_dna.txt') as f:\n",
      "    code=f.read()\n",
      "    print ' '.join([str(code.count(i)) for i in ['A','C','G','T']])\n"
     ],
     "language": "python",
     "metadata": {},
     "outputs": [
      {
       "output_type": "stream",
       "stream": "stdout",
       "text": [
        "234 210 217 204\n"
       ]
      }
     ],
     "prompt_number": 8
    },
    {
     "cell_type": "code",
     "collapsed": false,
     "input": [
      "#2\n",
      "with open('/Users/gk/Downloads/rosalind_rna.txt') as f:\n",
      "    code=f.read()\n",
      "    print code.replace('T','U')"
     ],
     "language": "python",
     "metadata": {},
     "outputs": [
      {
       "output_type": "stream",
       "stream": "stdout",
       "text": [
        "CAUACAAAUGAUGUUCCAUCGCCUUAUUGAUCUGAAAUUCUUGACACAUUCCGUAAAGUCGCAGCCGUAAUACCGGGGUCAGGCCUUCAUACCUCGGUGGUGGCAGGCUGCUGAGGAUCAUAGGCCGGUCCAUAGCAGGGACCUAUCCGCAAGAUAAGCCUAUCGAUCCUAAUACAGGUGAUGCUCUUUUGAACAGAAUAAUAAUCGCGGGUUCGACCGUACGAAGGAAUAUUUGUCAGUGUGGAGACGACUCUGCAAAAGCCGGCGGCGCAUCCCCGUACUCACUACUCUACGUUAUGGUCGCUUCUACUCUUGUGUCGCAUAGGAACCCAUGCAUCACAUUAUCUAGUUACAGCCAGCACAUUCUAACAAUCUGAUCUUCCCGAGCGGCCCUUUACUGCACGGUUCGAUAACUCUAACUUACGCCAGAGGGCACGGUAACUUGACGCAGAGAUAGCUAAAACCGCUUAAGUCAAUAGUGUUGUCAUUGCGUGAUACAGUGUGUCCUUUUGCAAUUUAGAAGCGCAACGAAUUUUCCGUUUAGGGCUUCCGGCGCGGUCAGCUCCAUCGGCGAGCCCCGUACCCGGGGGCUUGUCUGGACGCAUCGGUUUUCGGUUGUUUGUUUCCCCCUAUGACUUAGAAGUCGCUCAACACAUGUCGCCGUGUCUGACCCCUUGUAUCCAUAAUACUGAUCUGACAUUUGGGUGUAAAUAGCCGCUGGCUACCGGGAGGACUAUGGCUACCUUAAUUUUCACGAAGCUGGCUUCUCACCUCAAAUGCGGGACAUCAGCUACACAUAGCAAAUCCGAACAAUGGACAACUAGGAAGUCAAGAAAUCAAUUGCAUGAGGUGCAAUGUAAGGCCCGCAGCUUGCGGUAAGAACGUACGUUGGGACGGGCUCCAGAACGGGACAAGUAUACGCUGGUUACGAUCGGGGGCAAUGCGUGAGUCCGGAGAUCCGAUCAGGGGCUGGGAACCAAAUGGUGUGAUUGUGGUAGGA\n",
        "\n"
       ]
      }
     ],
     "prompt_number": 10
    },
    {
     "cell_type": "code",
     "collapsed": false,
     "input": [
      "#2\n",
      "g = lambda x: 'A' if x=='T' else ('T' if x == 'A' else ('G' if x == 'C' else ('C' if x=='G' else '')))\n",
      "with open('/Users/gk/Downloads/rosalind_revc.txt') as f:\n",
      "    code=f.read()\n",
      "    print ''.join(map(g,code))[::-1]"
     ],
     "language": "python",
     "metadata": {},
     "outputs": [
      {
       "output_type": "stream",
       "stream": "stdout",
       "text": [
        "TCGTTCCTTCTACCAGTTATGCTCGCCTAAGACGGAGGAAATTCATCCAAGTGGGCCGGGGCCAGGCCAACGTTGTCACCGCATACTATAGTACCTGGGGATCAACCTTGGTGTTCACTTAGTGGGGTGCGAATATAAGGACATGGTCTGATCCTGAAGCATCAATGATGGACCACGTTAACACGGGAACTAGGGCATGATTCAAACTATAATATACGGCATTGTCGAGGACCGGGGTTCTTTTAAGTTGACTTTTCCATCTTTGGAAAGATACAGGGACCAAAGTATGTCGAACCCCCTGGTTTTTGGATTCTGAAGGGTAGCCCCTTTCAGCAGTATACCCATCACATTAATAGTGGTTTGACTGCGGGCTGTGAACTAAGACAGAAGTTGTCTAGTCGGGCTAAGTATCAAAAACACTTCCATAGAGCCGGTTCAGTATCTGCTTCCCCTGGTCATGCACGCCATCTGTACGGCCACGCTGCAGGGCGATTGCCGTTGTATTGTCAGTAAATGGCACTTAAAGATATACGTCGCTCGGATTATTAGCTAAATTCGCCTAAACCAGACTTAGGACTCATCTGTCCTGCTCAGAAAGTTGTGACGCCTGCTATTCTTGTGCAACGCATTTCAACCTGTAGAGGCTGCACAGCCACGTGCAAACGTCTCACGGCGCTTTCATCAAGAGAATTATCTTAACCAGCCCAGACCGTAAATAGTGGCTACGGCGCAGTTCGTACCAGGACCTAATCGCACTCGAGGGGGTTATATATGATTCTCCAACCGTAACGTGTTACGTTGTCGTCGCCTTGATAAGGAGCGAGTTCGTGGGGCGGTAGTATTGATTAATAGAATCACTTGCGCTTGTGGCTCGTTTTAAAGAGTACAGTCGCTACGACGGTCTAAAAGTTTGGTCGTGATGATAGTAATTCGATGATGAGATAAATCGTGACATCGCTTACTGGTCGTTGACTCTTTTTG\n"
       ]
      }
     ],
     "prompt_number": 28
    },
    {
     "cell_type": "code",
     "collapsed": false,
     "input": [
      "#3\n",
      "h = lambda x, y: h(x-1, y) + y*h(x-2, y) if x > 2 else (1 if x in [1,2] else 0)\n",
      "with open('/Users/gk/Downloads/rosalind_fib.txt') as f:\n",
      "    params = f.read().split(' ')\n",
      "    print h(int(params[0]), int(params[1]))"
     ],
     "language": "python",
     "metadata": {},
     "outputs": [
      {
       "output_type": "stream",
       "stream": "stdout",
       "text": [
        "18788331166609\n"
       ]
      }
     ],
     "prompt_number": 47
    },
    {
     "cell_type": "code",
     "collapsed": false,
     "input": [
      "#4 \n",
      "gc_cont = lambda x : float(100*sum([x.count(i) for i in ['C','G']]))/len(x)\n",
      "with open('/Users/gk/Downloads/rosalind_gc.txt') as f:\n",
      "    highest_gc_cont, highest_str = 0, ''\n",
      "    data=f.read().split('>')\n",
      "    for string in data[1:]:\n",
      "        tmp_str=string.split('\\n')\n",
      "        header, seq = tmp_str[0].strip(), reduce(lambda x, y: x.strip()+y.strip(),tmp_str[1:])\n",
      "        if gc_cont(seq) > highest_gc_cont:\n",
      "            highest_gc_cont, highest_str = gc_cont(seq), header\n",
      "\n",
      "print highest_str\n",
      "print \"{0:.4f}\".format(highest_gc_cont)"
     ],
     "language": "python",
     "metadata": {},
     "outputs": [
      {
       "output_type": "stream",
       "stream": "stdout",
       "text": [
        "Rosalind_2806\n",
        "52.8978\n"
       ]
      }
     ],
     "prompt_number": 64
    },
    {
     "cell_type": "code",
     "collapsed": false,
     "input": [
      "h_2 = lambda x: sum([0 if x[0][i] == x[1][i] else 1 for i in range(len(x[0]))])\n",
      "with open('/Users/gk/Downloads/rosalind_hamm.txt') as f:\n",
      "    y = f.read().strip().split('\\n')\n",
      "    print h_2(y)\n",
      "    \n"
     ],
     "language": "python",
     "metadata": {},
     "outputs": [
      {
       "output_type": "stream",
       "stream": "stdout",
       "text": [
        "500\n"
       ]
      }
     ],
     "prompt_number": 75
    },
    {
     "cell_type": "code",
     "collapsed": false,
     "input": [],
     "language": "python",
     "metadata": {},
     "outputs": []
    }
   ],
   "metadata": {}
  }
 ]
}