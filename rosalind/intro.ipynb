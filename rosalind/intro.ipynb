{
 "metadata": {
  "name": ""
 },
 "nbformat": 3,
 "nbformat_minor": 0,
 "worksheets": [
  {
   "cells": [
    {
     "cell_type": "code",
     "collapsed": false,
     "input": [
      "import this"
     ],
     "language": "python",
     "metadata": {},
     "outputs": [
      {
       "output_type": "stream",
       "stream": "stdout",
       "text": [
        "The Zen of Python, by Tim Peters\n",
        "\n",
        "Beautiful is better than ugly.\n",
        "Explicit is better than implicit.\n",
        "Simple is better than complex.\n",
        "Complex is better than complicated.\n",
        "Flat is better than nested.\n",
        "Sparse is better than dense.\n",
        "Readability counts.\n",
        "Special cases aren't special enough to break the rules.\n",
        "Although practicality beats purity.\n",
        "Errors should never pass silently.\n",
        "Unless explicitly silenced.\n",
        "In the face of ambiguity, refuse the temptation to guess.\n",
        "There should be one-- and preferably only one --obvious way to do it.\n",
        "Although that way may not be obvious at first unless you're Dutch.\n",
        "Now is better than never.\n",
        "Although never is often better than *right* now.\n",
        "If the implementation is hard to explain, it's a bad idea.\n",
        "If the implementation is easy to explain, it may be a good idea.\n",
        "Namespaces are one honking great idea -- let's do more of those!\n"
       ]
      }
     ],
     "prompt_number": 1
    },
    {
     "cell_type": "code",
     "collapsed": false,
     "input": [
      "f = lambda x: int(x.split(' ')[0])**2+int(x.split(' ')[1])**2\n",
      "'''sample'''\n",
      "f('3 5')\n",
      "'''dataset'''\n",
      "ques_file_1=open('/Users/gk/Downloads/rosalind_ini2.txt','r')\n",
      "f(ques_file_1.read())\n",
      "ques_file_1.close()"
     ],
     "language": "python",
     "metadata": {},
     "outputs": [
      {
       "metadata": {},
       "output_type": "pyout",
       "prompt_number": 3,
       "text": [
        "34"
       ]
      }
     ],
     "prompt_number": 3
    },
    {
     "cell_type": "code",
     "collapsed": false,
     "input": [
      "g = lambda x, y: x[y[0]:y[1]+1]+' '+x[y[2]:y[3]+1]\n",
      "with open('/Users/gk/Downloads/rosalind_ini3.txt','r') as f:\n",
      "    content=f.read().split('\\n')\n",
      "    print g(content[0],[int(i) for i in content[1].split(' ')])\n"
     ],
     "language": "python",
     "metadata": {},
     "outputs": [
      {
       "output_type": "stream",
       "stream": "stdout",
       "text": [
        "Spalerosophis nigra\n"
       ]
      }
     ],
     "prompt_number": 17
    },
    {
     "cell_type": "code",
     "collapsed": false,
     "input": [
      "h = lambda x: sum(filter(lambda z: z%2==1, range(x[0], x[1]+1)))\n",
      "#h([int(i) for i in '100 200'.split(' ')])\n",
      "#with open('test_file_4.txt','r') as f:\n",
      "with open('/Users/gk/Downloads/rosalind_ini4.txt','r') as f:\n",
      "    print h([int(i) for i in f.read().split(' ')])\n"
     ],
     "language": "python",
     "metadata": {},
     "outputs": [
      {
       "output_type": "stream",
       "stream": "stdout",
       "text": [
        "13934339\n"
       ]
      }
     ],
     "prompt_number": 18
    },
    {
     "cell_type": "code",
     "collapsed": false,
     "input": [
      "#with open('test_file_5.txt', 'r') as f:\n",
      "with open('/Users/gk/Downloads/rosalind_ini5.txt','r') as f:\n",
      "    content=f.read().split('\\n')\n",
      "    print ('\\n'.join([content[i] for i in filter(lambda x: x%2==1, range(len(content)))]))\n",
      "    "
     ],
     "language": "python",
     "metadata": {},
     "outputs": [
      {
       "output_type": "stream",
       "stream": "stdout",
       "text": [
        "Some things in life are bad, they can really make you mad\n",
        "Other things just make you swear and curse\n",
        "When you're chewing on life's gristle, don't grumble give a whistle\n",
        "This will help things turn out for the best\n",
        "Always look on the bright side of life\n",
        "Always look on the right side of life\n",
        "If life seems jolly rotten, there's something you've forgotten\n",
        "And that's to laugh and smile and dance and sing\n",
        "When you're feeling in the dumps, don't be silly, chumps\n",
        "Just purse your lips and whistle, that's the thing\n",
        "So, always look on the bright side of death\n",
        "Just before you draw your terminal breath\n",
        "Life's a counterfeit and when you look at it\n",
        "Life's a laugh and death's the joke, it's true\n",
        "You see, it's all a show, keep them laughing as you go\n",
        "Just remember the last laugh is on you\n",
        "Always look on the bright side of life\n",
        "And always look on the right side of life\n",
        "Always look on the bright side of life\n",
        "And always look on the right side of life\n"
       ]
      }
     ],
     "prompt_number": 27
    },
    {
     "cell_type": "code",
     "collapsed": false,
     "input": [
      "len(['a','b','c','d'])"
     ],
     "language": "python",
     "metadata": {},
     "outputs": [
      {
       "metadata": {},
       "output_type": "pyout",
       "prompt_number": 21,
       "text": [
        "4"
       ]
      }
     ],
     "prompt_number": 21
    },
    {
     "cell_type": "code",
     "collapsed": false,
     "input": [],
     "language": "python",
     "metadata": {},
     "outputs": []
    }
   ],
   "metadata": {}
  }
 ]
}